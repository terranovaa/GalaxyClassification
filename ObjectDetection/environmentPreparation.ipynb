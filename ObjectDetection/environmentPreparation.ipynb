{
 "cells": [
  {
   "cell_type": "markdown",
   "source": [
    "# 1. Setup folders"
   ],
   "metadata": {
    "collapsed": false
   }
  },
  {
   "cell_type": "code",
   "execution_count": 22,
   "metadata": {},
   "outputs": [],
   "source": [
    "import os"
   ]
  },
  {
   "cell_type": "code",
   "execution_count": 23,
   "metadata": {},
   "outputs": [],
   "source": [
    "paths = {\n",
    "    'RAW_DATA_PATH' : os.path.join('workspace', 'raw_data'),\n",
    "    'IMAGES_PATH' : os.path.join('workspace', 'images', 'all'),\n",
    "    'IMAGES_ANNOTATED_PATH' : os.path.join('workspace', 'images', 'all','annotated'),\n",
    "    'TRAIN_PATH' : os.path.join('workspace', 'images', 'train'),\n",
    "    'EVAL_PATH' : os.path.join('workspace', 'images', 'eval'),\n",
    "    'TEST_PATH' : os.path.join('workspace', 'images', 'test')\n",
    " }"
   ]
  },
  {
   "cell_type": "code",
   "execution_count": 24,
   "metadata": {},
   "outputs": [],
   "source": [
    "for path in paths.values():\n",
    "    if not os.path.exists(path):\n",
    "        if os.name == 'posix':\n",
    "            !mkdir -p {path}\n",
    "        if os.name == 'nt':\n",
    "            !mkdir {path}"
   ]
  },
  {
   "cell_type": "markdown",
   "metadata": {},
   "source": [
    "# 1. Move or download the images in the correct folder"
   ]
  },
  {
   "cell_type": "markdown",
   "source": [
    "https://www.kaggle.com/datasets/jaimetrickz/galaxy-zoo-2-images?resource=download&select=gz2_filename_mapping.csv"
   ],
   "metadata": {
    "collapsed": false
   }
  },
  {
   "cell_type": "markdown",
   "source": [
    "TODO: Transfer images to be converted in \"workspace/raw_data\" folder"
   ],
   "metadata": {
    "collapsed": false
   }
  },
  {
   "cell_type": "markdown",
   "source": [
    "# 2. Label images using LabelImg (optional)"
   ],
   "metadata": {
    "collapsed": false
   }
  },
  {
   "cell_type": "code",
   "execution_count": null,
   "outputs": [],
   "source": [
    "! pip install labelImg"
   ],
   "metadata": {
    "collapsed": false
   }
  },
  {
   "cell_type": "markdown",
   "source": [
    "TODO: Label images in the workspace/raw_data folder"
   ],
   "metadata": {
    "collapsed": false
   }
  },
  {
   "cell_type": "markdown",
   "source": [
    "# 3. Move annotated images in a predefined folder for splitting"
   ],
   "metadata": {
    "collapsed": false
   }
  },
  {
   "cell_type": "code",
   "execution_count": null,
   "outputs": [],
   "source": [
    "from moveAnnotations import moveAnnotations\n",
    "moveAnnotations()"
   ],
   "metadata": {
    "collapsed": false
   }
  },
  {
   "cell_type": "markdown",
   "source": [
    "# 3.a. Split data with Holdout"
   ],
   "metadata": {
    "collapsed": false
   }
  },
  {
   "cell_type": "code",
   "execution_count": null,
   "outputs": [],
   "source": [
    "from sklearn.model_selection import train_test_split\n",
    "import pandas as pd\n",
    "import shutil\n",
    "import os\n",
    "\n",
    "eval_size = 0\n",
    "\n",
    "# remove all files already present for an old holdout method execution\n",
    "for file in os.listdir(paths[\"TRAIN_PATH\"]):\n",
    "    if file != \".DS_Store\":\n",
    "        os.remove(os.path.join(paths[\"TRAIN_PATH\"], file))\n",
    "for file in os.listdir(paths[\"TEST_PATH\"]):\n",
    "    if file != \".DS_Store\":\n",
    "        os.remove(os.path.join(paths[\"TEST_PATH\"], file))\n",
    "for file in os.listdir(paths[\"EVAL_PATH\"]):\n",
    "    if file != \".DS_Store\":\n",
    "        os.remove(os.path.join(paths[\"EVAL_PATH\"], file))\n",
    "\n",
    "# collect all annotated images except those of user B and K\n",
    "df = pd.DataFrame()\n",
    "for image in os.listdir(paths[\"IMAGES_ANNOTATED_PATH\"]):\n",
    "    new_row = { 'Path': image }\n",
    "    df = df.append(new_row, ignore_index=True)\n",
    "\n",
    "# split in the training set (90%) and a validation set (10%)\n",
    "X_train, X_eval, _, _ = train_test_split(df, df, test_size=0.1, shuffle=True)\n",
    "\n",
    "# split the training images into the final training set (80%) and add the rest (20%) to the test set\n",
    "X_train, X_test, _, _ = train_test_split(X_train, X_train, test_size=0.8, shuffle=True)\n",
    "\n",
    "print(\"Train size: \" + str(len(X_train)))\n",
    "print(\"Test size: \" + str(len(X_test)))\n",
    "print(\"Eval size: \" + str(eval_size))\n",
    "\n",
    "for _, row in X_eval.iterrows():\n",
    "    shutil.copy(os.path.join(paths[\"IMAGES_ANNOTATED_PATH\"],row['Path']),\n",
    "                os.path.join(paths[\"EVAL_PATH\"],row['Path']))\n",
    "    shutil.copy(os.path.join(paths[\"IMAGES_ANNOTATED_PATH\"],row['Path'].split(\".jpg\")[0]+\".xml\"),\n",
    "                os.path.join(paths[\"EVAL_PATH\"],row['Path'].split(\".jpg\")[0]+\".xml\"))\n",
    "\n",
    "for _, row in X_eval.iterrows():\n",
    "    shutil.copy(os.path.join(paths[\"IMAGES_ANNOTATED_PATH\"],row['Path']),\n",
    "                os.path.join(paths[\"EVAL_PATH\"],row['Path']))\n",
    "    shutil.copy(os.path.join(paths[\"IMAGES_ANNOTATED_PATH\"],row['Path'].split(\".jpg\")[0]+\".xml\"),\n",
    "                os.path.join(paths[\"EVAL_PATH\"],row['Path'].split(\".jpg\")[0]+\".xml\"))\n",
    "\n",
    "for _, row in X_test.iterrows():\n",
    "    shutil.copy(os.path.join(paths[\"IMAGES_ANNOTATED_PATH\"],row['Path']),\n",
    "                os.path.join(paths[\"TEST_PATH\"],row['Path']))\n",
    "    shutil.copy(os.path.join(paths[\"IMAGES_ANNOTATED_PATH\"],row['Path'].split(\".jpg\")[0]+\".xml\"),\n",
    "                os.path.join(paths[\"TEST_PATH\"],row['Path'].split(\".jpg\")[0]+\".xml\"))"
   ],
   "metadata": {
    "collapsed": false
   }
  }
 ],
 "metadata": {
  "kernelspec": {
   "name": "python3",
   "language": "python",
   "display_name": "Python 3 (ipykernel)"
  },
  "language_info": {
   "codemirror_mode": {
    "name": "ipython",
    "version": 3
   },
   "file_extension": ".py",
   "mimetype": "text/x-python",
   "name": "python",
   "nbconvert_exporter": "python",
   "pygments_lexer": "ipython3",
   "version": "3.9.6"
  },
  "vscode": {
   "interpreter": {
    "hash": "31f2aee4e71d21fbe5cf8b01ff0e069b9275f58929596ceb00d14d90e3e16cd6"
   }
  }
 },
 "nbformat": 4,
 "nbformat_minor": 2
}
