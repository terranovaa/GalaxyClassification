{
 "cells": [
  {
   "cell_type": "markdown",
   "metadata": {},
   "source": [
    "# 0. Setup Libraries"
   ]
  },
  {
   "cell_type": "code",
   "execution_count": null,
   "outputs": [],
   "source": [
    "! pip install astropy"
   ],
   "metadata": {
    "collapsed": false
   }
  },
  {
   "cell_type": "markdown",
   "source": [
    "# 1. Setup folders"
   ],
   "metadata": {
    "collapsed": false
   }
  },
  {
   "cell_type": "code",
   "execution_count": null,
   "metadata": {},
   "outputs": [],
   "source": [
    "import os"
   ]
  },
  {
   "cell_type": "code",
   "execution_count": null,
   "metadata": {},
   "outputs": [],
   "source": [
    "paths = {\n",
    "    'RAW_DATA_PATH' : os.path.join('workspace', 'raw_data'),\n",
    "    'IMAGES_PATH' : os.path.join('workspace', 'images', 'all'),\n",
    "    'IMAGES_ANNOTATED_PATH' : os.path.join('workspace', 'images', 'all','annotated'),\n",
    "    'TRAIN_PATH' : os.path.join('workspace', 'images', 'train'),\n",
    "    'EVAL_PATH' : os.path.join('workspace', 'images', 'eval'),\n",
    "    'TEST_PATH' : os.path.join('workspace', 'images', 'test')\n",
    " }"
   ]
  },
  {
   "cell_type": "code",
   "execution_count": null,
   "metadata": {},
   "outputs": [],
   "source": [
    "for path in paths.values():\n",
    "    if not os.path.exists(path):\n",
    "        if os.name == 'posix':\n",
    "            !mkdir -p {path}\n",
    "        if os.name == 'nt':\n",
    "            !mkdir {path}"
   ]
  },
  {
   "cell_type": "markdown",
   "metadata": {},
   "source": [
    "# 1. Move or download the h5 file in the correct folder"
   ]
  },
  {
   "cell_type": "markdown",
   "source": [
    "TODO: Transfer images to be converted in \"workspace/raw_data\" folder"
   ],
   "metadata": {
    "collapsed": false
   }
  },
  {
   "cell_type": "markdown",
   "source": [
    "# 2. Convert h5 file to jpg images (1st version)"
   ],
   "metadata": {
    "collapsed": false
   }
  },
  {
   "cell_type": "code",
   "execution_count": null,
   "outputs": [],
   "source": [
    "import os\n",
    "import h5py\n",
    "import numpy as np\n",
    "from keras import utils\n",
    "from matplotlib import pyplot as plt\n",
    "import time\n",
    "\n",
    "#for filename in os.listdir(os.path.join(\"workspace\",\"raw_data\")):\n",
    "#    if filename.endswith(\".h5\"):\n",
    "#        with h5py.File(os.path.join(\"workspace\",\"raw_data\",filename), 'r') as F:\n",
    "#            images = np.array(F['images'])\n",
    "#            labels = np.array(F['ans'])\n",
    "#            print(images)\n",
    "#            print(labels)\n",
    "            # convert the labels to categorical 10 classes\n",
    "#            labels = utils.to_categorical(labels, 10)\n",
    "\n",
    "            # To convert to desirable type\n",
    "#            labels = labels.astype(np.float32)\n",
    "#            images = images.astype(np.float32)\n",
    "#            print(images)\n",
    "#            print(labels)\n",
    "#            for image in images:\n",
    "#                plt.imshow(image, interpolation='nearest')\n",
    "#                plt.show()\n",
    "#                time.sleep(5000)"
   ],
   "metadata": {
    "collapsed": false
   }
  },
  {
   "cell_type": "markdown",
   "source": [
    "# 2. Convert h5 file to jpg images using astroNN (2nd version)"
   ],
   "metadata": {
    "collapsed": false
   }
  },
  {
   "cell_type": "code",
   "execution_count": 4,
   "outputs": [
    {
     "name": "stdout",
     "output_type": "stream",
     "text": [
      "Requirement already satisfied: astroNN in /Users/francoterranova/lib/python3.9/site-packages (1.0.1)\r\n",
      "Requirement already satisfied: tqdm in /Users/francoterranova/lib/python3.9/site-packages (from astroNN) (4.64.1)\r\n",
      "Requirement already satisfied: packaging in /Users/francoterranova/lib/python3.9/site-packages (from astroNN) (21.3)\r\n",
      "Requirement already satisfied: h5py in /Users/francoterranova/lib/python3.9/site-packages (from astroNN) (3.7.0)\r\n",
      "Requirement already satisfied: matplotlib in /Users/francoterranova/lib/python3.9/site-packages (from astroNN) (3.6.2)\r\n",
      "Requirement already satisfied: astroquery in /Users/francoterranova/lib/python3.9/site-packages (from astroNN) (0.4.6)\r\n",
      "Requirement already satisfied: pandas in /Users/francoterranova/lib/python3.9/site-packages (from astroNN) (1.5.2)\r\n",
      "Requirement already satisfied: seaborn in /Users/francoterranova/lib/python3.9/site-packages (from astroNN) (0.12.1)\r\n",
      "Requirement already satisfied: scikit-learn in /Users/francoterranova/lib/python3.9/site-packages (from astroNN) (1.2.0)\r\n",
      "Requirement already satisfied: astropy in /Users/francoterranova/lib/python3.9/site-packages (from astroNN) (5.1.1)\r\n",
      "Requirement already satisfied: numpy in /Users/francoterranova/lib/python3.9/site-packages (from astroNN) (1.23.5)\r\n",
      "Requirement already satisfied: pyerfa>=2.0 in /Users/francoterranova/lib/python3.9/site-packages (from astropy->astroNN) (2.0.0.1)\r\n",
      "Requirement already satisfied: PyYAML>=3.13 in /Users/francoterranova/lib/python3.9/site-packages (from astropy->astroNN) (6.0)\r\n",
      "Requirement already satisfied: pyparsing!=3.0.5,>=2.0.2 in /Users/francoterranova/lib/python3.9/site-packages (from packaging->astroNN) (3.0.9)\r\n",
      "Requirement already satisfied: requests>=2.4.3 in /Users/francoterranova/lib/python3.9/site-packages (from astroquery->astroNN) (2.28.1)\r\n",
      "Requirement already satisfied: html5lib>=0.999 in /Users/francoterranova/lib/python3.9/site-packages (from astroquery->astroNN) (1.1)\r\n",
      "Requirement already satisfied: keyring>=4.0 in /Users/francoterranova/lib/python3.9/site-packages (from astroquery->astroNN) (23.11.0)\r\n",
      "Requirement already satisfied: beautifulsoup4>=4.3.2 in /Users/francoterranova/lib/python3.9/site-packages (from astroquery->astroNN) (4.11.1)\r\n",
      "Requirement already satisfied: pyvo>=1.1 in /Users/francoterranova/lib/python3.9/site-packages (from astroquery->astroNN) (1.4)\r\n",
      "Requirement already satisfied: fonttools>=4.22.0 in /Users/francoterranova/lib/python3.9/site-packages (from matplotlib->astroNN) (4.38.0)\r\n",
      "Requirement already satisfied: kiwisolver>=1.0.1 in /Users/francoterranova/lib/python3.9/site-packages (from matplotlib->astroNN) (1.4.4)\r\n",
      "Requirement already satisfied: python-dateutil>=2.7 in /Users/francoterranova/lib/python3.9/site-packages (from matplotlib->astroNN) (2.8.2)\r\n",
      "Requirement already satisfied: cycler>=0.10 in /Users/francoterranova/lib/python3.9/site-packages (from matplotlib->astroNN) (0.11.0)\r\n",
      "Requirement already satisfied: contourpy>=1.0.1 in /Users/francoterranova/lib/python3.9/site-packages (from matplotlib->astroNN) (1.0.6)\r\n",
      "Requirement already satisfied: pillow>=6.2.0 in /Users/francoterranova/lib/python3.9/site-packages (from matplotlib->astroNN) (9.3.0)\r\n",
      "Requirement already satisfied: pytz>=2020.1 in /Users/francoterranova/lib/python3.9/site-packages (from pandas->astroNN) (2022.6)\r\n",
      "Requirement already satisfied: joblib>=1.1.1 in /Users/francoterranova/lib/python3.9/site-packages (from scikit-learn->astroNN) (1.2.0)\r\n",
      "Requirement already satisfied: scipy>=1.3.2 in /Users/francoterranova/lib/python3.9/site-packages (from scikit-learn->astroNN) (1.9.3)\r\n",
      "Requirement already satisfied: threadpoolctl>=2.0.0 in /Users/francoterranova/lib/python3.9/site-packages (from scikit-learn->astroNN) (3.1.0)\r\n",
      "Requirement already satisfied: soupsieve>1.2 in /Users/francoterranova/lib/python3.9/site-packages (from beautifulsoup4>=4.3.2->astroquery->astroNN) (2.3.2.post1)\r\n",
      "Requirement already satisfied: webencodings in /Users/francoterranova/lib/python3.9/site-packages (from html5lib>=0.999->astroquery->astroNN) (0.5.1)\r\n",
      "Requirement already satisfied: six>=1.9 in /Users/francoterranova/lib/python3.9/site-packages (from html5lib>=0.999->astroquery->astroNN) (1.16.0)\r\n",
      "Requirement already satisfied: jaraco.classes in /Users/francoterranova/lib/python3.9/site-packages (from keyring>=4.0->astroquery->astroNN) (3.2.3)\r\n",
      "Requirement already satisfied: importlib-metadata>=4.11.4 in /Users/francoterranova/lib/python3.9/site-packages (from keyring>=4.0->astroquery->astroNN) (5.1.0)\r\n",
      "Requirement already satisfied: urllib3<1.27,>=1.21.1 in /Users/francoterranova/lib/python3.9/site-packages (from requests>=2.4.3->astroquery->astroNN) (1.26.13)\r\n",
      "Requirement already satisfied: charset-normalizer<3,>=2 in /Users/francoterranova/lib/python3.9/site-packages (from requests>=2.4.3->astroquery->astroNN) (2.1.1)\r\n",
      "Requirement already satisfied: idna<4,>=2.5 in /Users/francoterranova/lib/python3.9/site-packages (from requests>=2.4.3->astroquery->astroNN) (3.4)\r\n",
      "Requirement already satisfied: certifi>=2017.4.17 in /Users/francoterranova/lib/python3.9/site-packages (from requests>=2.4.3->astroquery->astroNN) (2022.9.24)\r\n",
      "Requirement already satisfied: zipp>=0.5 in /Users/francoterranova/lib/python3.9/site-packages (from importlib-metadata>=4.11.4->keyring>=4.0->astroquery->astroNN) (3.11.0)\r\n",
      "Requirement already satisfied: more-itertools in /Users/francoterranova/lib/python3.9/site-packages (from jaraco.classes->keyring>=4.0->astroquery->astroNN) (9.0.0)\r\n"
     ]
    }
   ],
   "source": [
    "! pip install astroNN"
   ],
   "metadata": {
    "collapsed": false
   }
  },
  {
   "cell_type": "code",
   "execution_count": 19,
   "outputs": [
    {
     "name": "stdout",
     "output_type": "stream",
     "text": [
      "/Users/francoterranova/.astroNN/datasets/Galaxy10.h5 was found!\n",
      "Folders created...\n",
      "Saving images in the correct folder...\n",
      "311155155\n",
      "21785\n",
      "0\n",
      "100\n",
      "200\n",
      "300\n",
      "400\n",
      "500\n",
      "600\n",
      "700\n",
      "800\n",
      "900\n",
      "1000\n",
      "1100\n",
      "1200\n",
      "1300\n",
      "1400\n",
      "1500\n",
      "1600\n",
      "1700\n",
      "1800\n",
      "1900\n",
      "2000\n",
      "2100\n",
      "2200\n",
      "2300\n",
      "2400\n",
      "2500\n",
      "2600\n",
      "2700\n",
      "2800\n",
      "2900\n",
      "3000\n",
      "3100\n",
      "3200\n",
      "3300\n",
      "3400\n",
      "3500\n",
      "3600\n",
      "3700\n",
      "3800\n",
      "3900\n",
      "4000\n",
      "4100\n",
      "4200\n",
      "4300\n",
      "4400\n",
      "4500\n",
      "4600\n",
      "4700\n",
      "4800\n",
      "4900\n",
      "5000\n",
      "5100\n",
      "5200\n",
      "5300\n",
      "5400\n",
      "5500\n",
      "5600\n",
      "5700\n",
      "5800\n",
      "5900\n",
      "6000\n",
      "6100\n",
      "6200\n",
      "6300\n",
      "6400\n",
      "6500\n",
      "6600\n",
      "6700\n",
      "6800\n",
      "6900\n",
      "7000\n",
      "7100\n",
      "7200\n",
      "7300\n",
      "7400\n",
      "7500\n",
      "7600\n",
      "7700\n",
      "7800\n",
      "7900\n",
      "8000\n",
      "8100\n",
      "8200\n",
      "8300\n",
      "8400\n",
      "8500\n",
      "8600\n",
      "8700\n",
      "8800\n",
      "8900\n",
      "9000\n",
      "9100\n",
      "9200\n",
      "9300\n",
      "9400\n",
      "9500\n",
      "9600\n",
      "9700\n",
      "9800\n",
      "9900\n",
      "10000\n",
      "10100\n",
      "10200\n",
      "10300\n",
      "10400\n",
      "10500\n",
      "10600\n",
      "10700\n",
      "10800\n",
      "10900\n",
      "11000\n",
      "11100\n",
      "11200\n",
      "11300\n",
      "11400\n",
      "11500\n",
      "11600\n",
      "11700\n",
      "11800\n",
      "11900\n",
      "12000\n",
      "12100\n",
      "12200\n",
      "12300\n",
      "12400\n",
      "12500\n",
      "12600\n",
      "12700\n",
      "12800\n",
      "12900\n",
      "13000\n",
      "13100\n",
      "13200\n",
      "13300\n",
      "13400\n",
      "13500\n",
      "13600\n",
      "13700\n",
      "13800\n",
      "13900\n",
      "14000\n",
      "14100\n",
      "14200\n",
      "14300\n",
      "14400\n",
      "14500\n",
      "14600\n",
      "14700\n",
      "14800\n",
      "14900\n",
      "15000\n",
      "15100\n",
      "15200\n",
      "15300\n",
      "15400\n",
      "15500\n",
      "15600\n",
      "15700\n",
      "15800\n",
      "15900\n",
      "16000\n",
      "16100\n",
      "16200\n",
      "16300\n",
      "16400\n",
      "16500\n",
      "16600\n",
      "16700\n",
      "16800\n",
      "16900\n",
      "17000\n",
      "17100\n",
      "17200\n",
      "17300\n",
      "17400\n",
      "17500\n",
      "17600\n",
      "17700\n",
      "17800\n",
      "17900\n",
      "18000\n",
      "18100\n",
      "18200\n",
      "18300\n",
      "18400\n",
      "18500\n",
      "18600\n",
      "18700\n",
      "18800\n",
      "18900\n",
      "19000\n",
      "19100\n",
      "19200\n",
      "19300\n",
      "19400\n",
      "19500\n",
      "19600\n",
      "19700\n",
      "19800\n",
      "19900\n",
      "20000\n",
      "20100\n",
      "20200\n",
      "20300\n",
      "20400\n",
      "20500\n",
      "20600\n",
      "20700\n",
      "20800\n",
      "20900\n",
      "21000\n",
      "21100\n",
      "21200\n",
      "21300\n",
      "21400\n",
      "21500\n",
      "21600\n",
      "21700\n",
      "[[0. 0. 1. ... 0. 0. 0.]\n",
      " [0. 0. 1. ... 0. 0. 0.]\n",
      " [0. 0. 0. ... 0. 0. 0.]\n",
      " ...\n",
      " [0. 0. 1. ... 0. 0. 0.]\n",
      " [0. 0. 0. ... 0. 0. 1.]\n",
      " [0. 0. 1. ... 0. 0. 0.]]\n"
     ]
    }
   ],
   "source": [
    "from astroNN.datasets import load_galaxy10\n",
    "from keras import utils\n",
    "import numpy as np\n",
    "import os\n",
    "from PIL import Image\n",
    "\n",
    "# To load images and labels (will download automatically at the first time)\n",
    "# First time downloading location will be ~/.astroNN/datasets/\n",
    "images, labels = load_galaxy10()\n",
    "\n",
    "for label in np.unique(labels):\n",
    "     IMAGES_PATH = os.path.join('workspace', 'images', 'all', str(label))\n",
    "     !mkdir -p {IMAGES_PATH}\n",
    "print(\"Folders created...\")\n",
    "\n",
    "print(\"Saving images in the correct folder...\")\n",
    "print(images.size)\n",
    "print(labels.size)\n",
    "for i in range(0,labels.size):\n",
    "    image = images[i]\n",
    "    label = labels[i]\n",
    "    #plt.imshow(image, interpolation='nearest')\n",
    "    im = Image.fromarray(image)\n",
    "    im.save(os.path.join('workspace', 'images', 'all', str(label),str(i)+\".jpg\"))\n",
    "    if i% 100 == 0:\n",
    "        print(i)"
   ],
   "metadata": {
    "collapsed": false
   }
  },
  {
   "cell_type": "code",
   "execution_count": 21,
   "outputs": [
    {
     "name": "stdout",
     "output_type": "stream",
     "text": [
      "[[[1. 0. 0. ... 0. 0. 0.]\n",
      "  [1. 0. 0. ... 0. 0. 0.]\n",
      "  [0. 1. 0. ... 0. 0. 0.]\n",
      "  ...\n",
      "  [1. 0. 0. ... 0. 0. 0.]\n",
      "  [1. 0. 0. ... 0. 0. 0.]\n",
      "  [1. 0. 0. ... 0. 0. 0.]]\n",
      "\n",
      " [[1. 0. 0. ... 0. 0. 0.]\n",
      "  [1. 0. 0. ... 0. 0. 0.]\n",
      "  [0. 1. 0. ... 0. 0. 0.]\n",
      "  ...\n",
      "  [1. 0. 0. ... 0. 0. 0.]\n",
      "  [1. 0. 0. ... 0. 0. 0.]\n",
      "  [1. 0. 0. ... 0. 0. 0.]]\n",
      "\n",
      " [[1. 0. 0. ... 0. 0. 0.]\n",
      "  [1. 0. 0. ... 0. 0. 0.]\n",
      "  [1. 0. 0. ... 0. 0. 0.]\n",
      "  ...\n",
      "  [1. 0. 0. ... 0. 0. 0.]\n",
      "  [1. 0. 0. ... 0. 0. 0.]\n",
      "  [1. 0. 0. ... 0. 0. 0.]]\n",
      "\n",
      " ...\n",
      "\n",
      " [[1. 0. 0. ... 0. 0. 0.]\n",
      "  [1. 0. 0. ... 0. 0. 0.]\n",
      "  [0. 1. 0. ... 0. 0. 0.]\n",
      "  ...\n",
      "  [1. 0. 0. ... 0. 0. 0.]\n",
      "  [1. 0. 0. ... 0. 0. 0.]\n",
      "  [1. 0. 0. ... 0. 0. 0.]]\n",
      "\n",
      " [[1. 0. 0. ... 0. 0. 0.]\n",
      "  [1. 0. 0. ... 0. 0. 0.]\n",
      "  [1. 0. 0. ... 0. 0. 0.]\n",
      "  ...\n",
      "  [1. 0. 0. ... 0. 0. 0.]\n",
      "  [1. 0. 0. ... 0. 0. 0.]\n",
      "  [0. 1. 0. ... 0. 0. 0.]]\n",
      "\n",
      " [[1. 0. 0. ... 0. 0. 0.]\n",
      "  [1. 0. 0. ... 0. 0. 0.]\n",
      "  [0. 1. 0. ... 0. 0. 0.]\n",
      "  ...\n",
      "  [1. 0. 0. ... 0. 0. 0.]\n",
      "  [1. 0. 0. ... 0. 0. 0.]\n",
      "  [1. 0. 0. ... 0. 0. 0.]]]\n"
     ]
    }
   ],
   "source": [
    "# To convert the labels to categorical 10 classes\n",
    "labels = utils.to_categorical(labels, 10)\n",
    "\n",
    "# To convert to desirable type\n",
    "labels = labels.astype(np.float32)\n",
    "images = images.astype(np.float32)"
   ],
   "metadata": {
    "collapsed": false
   }
  },
  {
   "cell_type": "markdown",
   "source": [
    "# 2. Label images using LabelImg (optional)"
   ],
   "metadata": {
    "collapsed": false
   }
  },
  {
   "cell_type": "code",
   "execution_count": null,
   "outputs": [],
   "source": [
    "! pip install labelImg"
   ],
   "metadata": {
    "collapsed": false
   }
  },
  {
   "cell_type": "markdown",
   "source": [
    "TODO: Label images in the workspace/raw_data folder"
   ],
   "metadata": {
    "collapsed": false
   }
  },
  {
   "cell_type": "markdown",
   "source": [
    "# 3. Move annotated images in a predefined folder for splitting"
   ],
   "metadata": {
    "collapsed": false
   }
  },
  {
   "cell_type": "code",
   "execution_count": null,
   "outputs": [],
   "source": [
    "from moveAnnotations import moveAnnotations\n",
    "moveAnnotations()"
   ],
   "metadata": {
    "collapsed": false
   }
  },
  {
   "cell_type": "markdown",
   "source": [
    "# 3.a. Split data with Holdout"
   ],
   "metadata": {
    "collapsed": false
   }
  },
  {
   "cell_type": "code",
   "execution_count": null,
   "outputs": [],
   "source": [
    "from sklearn.model_selection import train_test_split\n",
    "import pandas as pd\n",
    "import shutil\n",
    "import os\n",
    "\n",
    "eval_size = 0\n",
    "\n",
    "# remove all files already present for an old holdout method execution\n",
    "for file in os.listdir(paths[\"TRAIN_PATH\"]):\n",
    "    if file != \".DS_Store\":\n",
    "        os.remove(os.path.join(paths[\"TRAIN_PATH\"], file))\n",
    "for file in os.listdir(paths[\"TEST_PATH\"]):\n",
    "    if file != \".DS_Store\":\n",
    "        os.remove(os.path.join(paths[\"TEST_PATH\"], file))\n",
    "for file in os.listdir(paths[\"EVAL_PATH\"]):\n",
    "    if file != \".DS_Store\":\n",
    "        os.remove(os.path.join(paths[\"EVAL_PATH\"], file))\n",
    "\n",
    "# collect all annotated images except those of user B and K\n",
    "df = pd.DataFrame()\n",
    "for image in os.listdir(paths[\"IMAGES_ANNOTATED_PATH\"]):\n",
    "    new_row = { 'Path': image }\n",
    "    df = df.append(new_row, ignore_index=True)\n",
    "\n",
    "# split in the training set (90%) and a validation set (10%)\n",
    "X_train, X_eval, _, _ = train_test_split(df, df, test_size=0.1, shuffle=True)\n",
    "\n",
    "# split the training images into the final training set (80%) and add the rest (20%) to the test set\n",
    "X_train, X_test, _, _ = train_test_split(X_train, X_train, test_size=0.8, shuffle=True)\n",
    "\n",
    "print(\"Train size: \" + str(len(X_train)))\n",
    "print(\"Test size: \" + str(len(X_test)))\n",
    "print(\"Eval size: \" + str(eval_size))\n",
    "\n",
    "for _, row in X_eval.iterrows():\n",
    "    shutil.copy(os.path.join(paths[\"IMAGES_ANNOTATED_PATH\"],row['Path']),\n",
    "                os.path.join(paths[\"EVAL_PATH\"],row['Path']))\n",
    "    shutil.copy(os.path.join(paths[\"IMAGES_ANNOTATED_PATH\"],row['Path'].split(\".jpg\")[0]+\".xml\"),\n",
    "                os.path.join(paths[\"EVAL_PATH\"],row['Path'].split(\".jpg\")[0]+\".xml\"))\n",
    "\n",
    "for _, row in X_eval.iterrows():\n",
    "    shutil.copy(os.path.join(paths[\"IMAGES_ANNOTATED_PATH\"],row['Path']),\n",
    "                os.path.join(paths[\"EVAL_PATH\"],row['Path']))\n",
    "    shutil.copy(os.path.join(paths[\"IMAGES_ANNOTATED_PATH\"],row['Path'].split(\".jpg\")[0]+\".xml\"),\n",
    "                os.path.join(paths[\"EVAL_PATH\"],row['Path'].split(\".jpg\")[0]+\".xml\"))\n",
    "\n",
    "for _, row in X_test.iterrows():\n",
    "    shutil.copy(os.path.join(paths[\"IMAGES_ANNOTATED_PATH\"],row['Path']),\n",
    "                os.path.join(paths[\"TEST_PATH\"],row['Path']))\n",
    "    shutil.copy(os.path.join(paths[\"IMAGES_ANNOTATED_PATH\"],row['Path'].split(\".jpg\")[0]+\".xml\"),\n",
    "                os.path.join(paths[\"TEST_PATH\"],row['Path'].split(\".jpg\")[0]+\".xml\"))"
   ],
   "metadata": {
    "collapsed": false
   }
  }
 ],
 "metadata": {
  "kernelspec": {
   "name": "python3",
   "language": "python",
   "display_name": "Python 3 (ipykernel)"
  },
  "language_info": {
   "codemirror_mode": {
    "name": "ipython",
    "version": 3
   },
   "file_extension": ".py",
   "mimetype": "text/x-python",
   "name": "python",
   "nbconvert_exporter": "python",
   "pygments_lexer": "ipython3",
   "version": "3.9.6"
  },
  "vscode": {
   "interpreter": {
    "hash": "31f2aee4e71d21fbe5cf8b01ff0e069b9275f58929596ceb00d14d90e3e16cd6"
   }
  }
 },
 "nbformat": 4,
 "nbformat_minor": 2
}
