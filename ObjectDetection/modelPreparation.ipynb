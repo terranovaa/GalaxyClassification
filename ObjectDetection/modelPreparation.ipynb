{
 "cells": [
  {
   "cell_type": "markdown",
   "metadata": {
    "id": "QUANWN3rpfC9"
   },
   "source": [
    "# 0. Setup"
   ]
  },
  {
   "cell_type": "code",
   "execution_count": 2,
   "metadata": {
    "id": "146BB11JpfDA"
   },
   "outputs": [],
   "source": [
    "import os"
   ]
  },
  {
   "cell_type": "code",
   "execution_count": 3,
   "metadata": {
    "id": "42hJEdo_pfDB"
   },
   "outputs": [],
   "source": [
    "# set the information of the model to be used in transfer learning\n",
    "CUSTOM_MODEL_NAME = 'my_ssd_mobnet'\n",
    "PRETRAINED_MODEL_NAME = 'ssd_mobilenet_v2_fpnlite_320x320_coco17_tpu-8'\n",
    "PRETRAINED_MODEL_URL = 'http://download.tensorflow.org/models/object_detection/tf2/20200711/ssd_mobilenet_v2_fpnlite_320x320_coco17_tpu-8.tar.gz'"
   ]
  },
  {
   "cell_type": "code",
   "execution_count": 4,
   "outputs": [],
   "source": [
    "TF_RECORD_SCRIPT_NAME = 'generate_tfrecord.py'\n",
    "LABEL_MAP_NAME = 'label_map.pbtxt'"
   ],
   "metadata": {
    "collapsed": false
   }
  },
  {
   "cell_type": "code",
   "execution_count": 5,
   "metadata": {
    "id": "hbPhYVy_pfDB"
   },
   "outputs": [],
   "source": [
    "paths = {\n",
    "    'WORKSPACE_PATH': os.path.join('workspace'),\n",
    "    'SCRIPTS_PATH': os.path.join('scripts'),\n",
    "    'APIMODEL_PATH': os.path.join('models'),\n",
    "    'ANNOTATION_PATH': os.path.join('workspace','annotations'),\n",
    "    'IMAGE_PATH': os.path.join('workspace','images'),\n",
    "    'MODEL_PATH': os.path.join('workspace','models'),\n",
    "    'PRETRAINED_MODEL_PATH': os.path.join('workspace','pre-trained-models'),\n",
    "    'CHECKPOINT_PATH': os.path.join('workspace','models',CUSTOM_MODEL_NAME),\n",
    "    'OUTPUT_PATH': os.path.join('workspace','models',CUSTOM_MODEL_NAME, 'export'),\n",
    "    'TFJS_PATH':os.path.join('workspace','models',CUSTOM_MODEL_NAME, 'tfjsexport'),\n",
    "    'TFLITE_PATH':os.path.join('workspace','models',CUSTOM_MODEL_NAME, 'tfliteexport'),\n",
    "    'PROTOC_PATH':os.path.join('protoc')\n",
    " }"
   ]
  },
  {
   "cell_type": "code",
   "execution_count": 6,
   "metadata": {
    "id": "LwhWZMI0pfDC"
   },
   "outputs": [],
   "source": [
    "files = {\n",
    "    'PIPELINE_CONFIG':os.path.join('workspace','models', CUSTOM_MODEL_NAME, 'pipeline.config'),\n",
    "    'TF_RECORD_SCRIPT': os.path.join(paths['SCRIPTS_PATH'], TF_RECORD_SCRIPT_NAME), \n",
    "    'LABELMAP': os.path.join(paths['ANNOTATION_PATH'], LABEL_MAP_NAME)\n",
    "}"
   ]
  },
  {
   "cell_type": "code",
   "execution_count": 6,
   "metadata": {
    "id": "HR-TfDGrpfDC"
   },
   "outputs": [],
   "source": [
    "for path in paths.values():\n",
    "    if not os.path.exists(path):\n",
    "        if os.name == 'posix':\n",
    "            !mkdir -p {path}\n",
    "        if os.name == 'nt':\n",
    "            !mkdir {path}"
   ]
  },
  {
   "cell_type": "code",
   "execution_count": 7,
   "metadata": {},
   "outputs": [],
   "source": [
    "if os.name=='nt':\n",
    "    !pip install wget\n",
    "    import wget"
   ]
  },
  {
   "cell_type": "markdown",
   "metadata": {
    "id": "OLU-rs_ipfDE"
   },
   "source": [
    "# 1. Download pretrained models and install TFOD API"
   ]
  },
  {
   "cell_type": "code",
   "execution_count": 8,
   "metadata": {
    "id": "iA1DIq5OpfDE"
   },
   "outputs": [
    {
     "name": "stdout",
     "output_type": "stream",
     "text": [
      "Cloning into 'models'...\r\n",
      "remote: Enumerating objects: 79599, done.\u001B[K\r\n",
      "remote: Counting objects: 100% (297/297), done.\u001B[K\r\n",
      "remote: Compressing objects: 100% (160/160), done.\u001B[K\r\n",
      "remote: Total 79599 (delta 156), reused 262 (delta 133), pack-reused 79302\u001B[Ks:   9% (7164/79599), 1.47 MiB | 1.45 MiB/sReceiving objects:  11% (8756/79599), 1.47 MiB | 1.45 MiB/sReceiving objects:  14% (11144/79599), 2.72 MiB | 1.78 MiB/sReceiving objects:  15% (11940/79599), 4.38 MiB | 2.16 MiB/sReceiving objects:  16% (12918/79599), 8.18 MiB | 2.69 MiB/sReceiving objects:  16% (12938/79599), 14.07 MiB | 2.97 MiB/sReceiving objects:  17% (13532/79599), 18.50 MiB | 3.09 MiB/sReceiving objects:  17% (13869/79599), 22.19 MiB | 2.72 MiB/sReceiving objects:  17% (13905/79599), 26.20 MiB | 2.65 MiB/sReceiving objects:  17% (14267/79599), 31.58 MiB | 2.60 MiB/sReceiving objects:  18% (14459/79599), 34.39 MiB | 2.68 MiB/sReceiving objects:  19% (15204/79599), 37.26 MiB | 2.69 MiB/sReceiving objects:  19% (15315/79599), 44.39 MiB | 2.80 MiB/sReceiving objects:  19% (15806/79599), 49.29 MiB | 2.98 MiB/sReceiving objects:  19% (15876/79599), 55.90 MiB | 3.01 MiB/sReceiving objects:  21% (16716/79599), 57.09 MiB | 2.96 MiB/sReceiving objects:  21% (17503/79599), 61.52 MiB | 2.99 MiB/sReceiving objects:  23% (18308/79599), 63.10 MiB | 2.99 MiB/sReceiving objects:  24% (19104/79599), 64.72 MiB | 2.99 MiB/sReceiving objects:  26% (20696/79599), 66.40 MiB | 2.99 MiB/sReceiving objects:  28% (22288/79599), 66.40 MiB | 2.99 MiB/sReceiving objects:  29% (23084/79599), 68.12 MiB | 2.99 MiB/sReceiving objects:  31% (24676/79599), 68.12 MiB | 2.99 MiB/sReceiving objects:  32% (26251/79599), 69.66 MiB | 2.98 MiB/sReceiving objects:  33% (26321/79599), 74.12 MiB | 3.04 MiB/sReceiving objects:  33% (26321/79599), 80.04 MiB | 2.99 MiB/sReceiving objects:  33% (26321/79599), 86.60 MiB | 3.09 MiB/sReceiving objects:  33% (26321/79599), 93.48 MiB | 3.16 MiB/sReceiving objects:  33% (26321/79599), 101.01 MiB | 3.30 MiB/sReceiving objects:  33% (26321/79599), 106.98 MiB | 3.48 MiB/sReceiving objects:  33% (26321/79599), 114.76 MiB | 3.64 MiB/sReceiving objects:  33% (26330/79599), 124.72 MiB | 4.21 MiB/sReceiving objects:  33% (26330/79599), 132.17 MiB | 3.91 MiB/sReceiving objects:  33% (26331/79599), 139.95 MiB | 3.85 MiB/sReceiving objects:  33% (26331/79599), 147.87 MiB | 3.87 MiB/sReceiving objects:  33% (26331/79599), 156.02 MiB | 3.96 MiB/sReceiving objects:  33% (26389/79599), 161.02 MiB | 3.74 MiB/sReceiving objects:  33% (26702/79599), 169.31 MiB | 3.37 MiB/sReceiving objects:  33% (26702/79599), 174.68 MiB | 2.96 MiB/sReceiving objects:  33% (26702/79599), 178.90 MiB | 2.73 MiB/sReceiving objects:  33% (26702/79599), 184.64 MiB | 2.62 MiB/sReceiving objects:  33% (26702/79599), 190.39 MiB | 2.73 MiB/sReceiving objects:  33% (26702/79599), 196.36 MiB | 2.85 MiB/sReceiving objects:  33% (26702/79599), 203.13 MiB | 3.07 MiB/sReceiving objects:  33% (26702/79599), 209.68 MiB | 3.22 MiB/sReceiving objects:  33% (26702/79599), 217.52 MiB | 3.55 MiB/sReceiving objects:  33% (26702/79599), 225.20 MiB | 3.68 MiB/sReceiving objects:  33% (26702/79599), 230.96 MiB | 3.71 MiB/sReceiving objects:  33% (26702/79599), 239.65 MiB | 3.95 MiB/sReceiving objects:  33% (26702/79599), 249.03 MiB | 4.22 MiB/sReceiving objects:  33% (26923/79599), 261.40 MiB | 5.15 MiB/sReceiving objects:  33% (26926/79599), 269.56 MiB | 5.12 MiB/sReceiving objects:  33% (27005/79599), 278.68 MiB | 4.34 MiB/sReceiving objects:  33% (27005/79599), 287.71 MiB | 4.41 MiB/sReceiving objects:  33% (27006/79599), 294.71 MiB | 4.37 MiB/sReceiving objects:  34% (27116/79599), 302.41 MiB | 4.68 MiB/sReceiving objects:  34% (27116/79599), 313.44 MiB | 5.16 MiB/sReceiving objects:  34% (27117/79599), 323.76 MiB | 5.81 MiB/sReceiving objects:  34% (27199/79599), 337.86 MiB | 6.63 MiB/sReceiving objects:  34% (27220/79599), 350.98 MiB | 6.71 MiB/sReceiving objects:  34% (27368/79599), 367.83 MiB | 7.16 MiB/sReceiving objects:  34% (27371/79599), 388.18 MiB | 8.41 MiB/sReceiving objects:  34% (27519/79599), 400.79 MiB | 8.53 MiB/sReceiving objects:  36% (28656/79599), 400.79 MiB | 8.53 MiB/sReceiving objects:  36% (29218/79599), 420.26 MiB | 8.12 MiB/sReceiving objects:  37% (29452/79599), 423.05 MiB | 7.60 MiB/sReceiving objects:  38% (30473/79599), 432.16 MiB | 8.11 MiB/sReceiving objects:  40% (31840/79599), 436.54 MiB | 8.21 MiB/sReceiving objects:  41% (32879/79599), 443.14 MiB | 8.11 MiB/sReceiving objects:  41% (32931/79599), 457.07 MiB | 7.41 MiB/sReceiving objects:  43% (34228/79599), 459.87 MiB | 7.05 MiB/sReceiving objects:  45% (35820/79599), 462.46 MiB | 6.60 MiB/sReceiving objects:  47% (37412/79599), 462.46 MiB | 6.60 MiB/sReceiving objects:  49% (39004/79599), 465.34 MiB | 6.31 MiB/sReceiving objects:  51% (40596/79599), 465.34 MiB | 6.31 MiB/sReceiving objects:  54% (42984/79599), 465.34 MiB | 6.31 MiB/sReceiving objects:  57% (45372/79599), 465.34 MiB | 6.31 MiB/sReceiving objects:  59% (46964/79599), 465.34 MiB | 6.31 MiB/sReceiving objects:  61% (48556/79599), 468.83 MiB | 6.26 MiB/sReceiving objects:  65% (51740/79599), 468.83 MiB | 6.26 MiB/sReceiving objects:  68% (54128/79599), 468.83 MiB | 6.26 MiB/sReceiving objects:  70% (55720/79599), 468.83 MiB | 6.26 MiB/sReceiving objects:  72% (57312/79599), 468.83 MiB | 6.26 MiB/sReceiving objects:  75% (59700/79599), 468.83 MiB | 6.26 MiB/sReceiving objects:  78% (62088/79599), 472.00 MiB | 6.29 MiB/sReceiving objects:  80% (63680/79599), 472.00 MiB | 6.29 MiB/sReceiving objects:  83% (66068/79599), 472.00 MiB | 6.29 MiB/sReceiving objects:  85% (67660/79599), 476.15 MiB | 6.51 MiB/sReceiving objects:  86% (68866/79599), 480.17 MiB | 6.64 MiB/sReceiving objects:  87% (69252/79599), 489.49 MiB | 7.07 MiB/sReceiving objects:  88% (70489/79599), 495.65 MiB | 7.22 MiB/sReceiving objects:  90% (71640/79599), 495.65 MiB | 7.22 MiB/sReceiving objects:  93% (74278/79599), 504.39 MiB | 7.79 MiB/sReceiving objects:  93% (74730/79599), 520.05 MiB | 7.50 MiB/sReceiving objects:  94% (74824/79599), 532.71 MiB | 8.21 MiB/sReceiving objects:  95% (75620/79599), 540.79 MiB | 7.99 MiB/sReceiving objects:  96% (76565/79599), 544.92 MiB | 8.09 MiB/sReceiving objects:  96% (76761/79599), 560.39 MiB | 7.87 MiB/sReceiving objects:  96% (76761/79599), 568.48 MiB | 6.06 MiB/sReceiving objects:  96% (76761/79599), 576.66 MiB | 4.15 MiB/sReceiving objects:  96% (76762/79599), 585.46 MiB | 4.00 MiB/sReceiving objects:  99% (78804/79599), 587.61 MiB | 4.04 MiB/sReceiving objects:  99% (79294/79599), 591.99 MiB | 3.29 MiB/s\r\n",
      "Receiving objects: 100% (79599/79599), 594.05 MiB | 4.52 MiB/s, done.\r\n",
      "Resolving deltas: 100% (56596/56596), done.\r\n",
      "Updating files: 100% (3262/3262), done.\r\n"
     ]
    }
   ],
   "source": [
    "if not os.path.exists(os.path.join(paths['APIMODEL_PATH'], 'research', 'object_detection')):\n",
    "    !git clone https://github.com/tensorflow/models {paths['APIMODEL_PATH']}"
   ]
  },
  {
   "cell_type": "code",
   "execution_count": 9,
   "metadata": {
    "id": "rJjMHbnDs3Tv"
   },
   "outputs": [
    {
     "name": "stdout",
     "output_type": "stream",
     "text": [
      "Running `brew update --auto-update`...\r\n",
      "\u001B[34m==>\u001B[0m \u001B[1mAuto-updated Homebrew!\u001B[0m\r\n",
      "Updated 2 taps (homebrew/core and homebrew/cask).\r\n",
      "\r\n",
      "You have \u001B[1m1\u001B[0m outdated formula installed.\r\n",
      "You can upgrade it with \u001B[1mbrew upgrade\u001B[0m\r\n",
      "or list it with \u001B[1mbrew outdated\u001B[0m.\r\n",
      "\r\n",
      "protobuf 21.9_1 is already installed but outdated (so it will be upgraded).\r\n",
      "\u001B[32m==>\u001B[0m \u001B[1mFetching \u001B[32mprotobuf\u001B[39m\u001B[0m\r\n",
      "\u001B[34m==>\u001B[0m \u001B[1mDownloading https://ghcr.io/v2/homebrew/core/protobuf/manifests/21.11\u001B[0m\r\n",
      "######################################################################## 100.0%\r\n",
      "\u001B[34m==>\u001B[0m \u001B[1mDownloading https://ghcr.io/v2/homebrew/core/protobuf/blobs/sha256:3f6e43a8d\u001B[0m\r\n",
      "\u001B[34m==>\u001B[0m \u001B[1mDownloading from https://pkg-containers.githubusercontent.com/ghcr1/blobs/sh\u001B[0m\r\n",
      "######################################################################## 100.0%\r\n",
      "\u001B[32m==>\u001B[0m \u001B[1mUpgrading \u001B[32mprotobuf\u001B[39m\r\n",
      "  21.9_1 -> 21.11 \r\n",
      "\u001B[0m\r\n",
      "\u001B[34m==>\u001B[0m \u001B[1mPouring protobuf--21.11.ventura.bottle.tar.gz\u001B[0m\r\n",
      "\u001B[34m==>\u001B[0m \u001B[1mCaveats\u001B[0m\r\n",
      "Emacs Lisp files have been installed to:\r\n",
      "  /usr/local/share/emacs/site-lisp/protobuf\r\n",
      "\u001B[34m==>\u001B[0m \u001B[1mSummary\u001B[0m\r\n",
      "🍺  /usr/local/Cellar/protobuf/21.11: 279 files, 19MB\r\n",
      "\u001B[34m==>\u001B[0m \u001B[1mRunning `brew cleanup protobuf`...\u001B[0m\r\n",
      "Disable this behaviour by setting HOMEBREW_NO_INSTALL_CLEANUP.\r\n",
      "Hide these hints with HOMEBREW_NO_ENV_HINTS (see `man brew`).\r\n",
      "Removing: /usr/local/Cellar/protobuf/21.9_1... (279 files, 19MB)\r\n",
      "Removing: /Users/francoterranova/Library/Caches/Homebrew/protobuf--21.9_1... (4.9MB)\r\n",
      "Processing /Users/francoterranova/PycharmProjects/GalaxyClassificationProject/ObjectDetection/models/research\r\n",
      "  Preparing metadata (setup.py) ... \u001B[?25ldone\r\n",
      "\u001B[?25hCollecting avro-python3\r\n",
      "  Using cached avro-python3-1.10.2.tar.gz (38 kB)\r\n",
      "  Preparing metadata (setup.py) ... \u001B[?25ldone\r\n",
      "\u001B[?25hCollecting apache-beam\r\n",
      "  Using cached apache_beam-2.43.0-cp39-cp39-macosx_10_9_x86_64.whl (5.0 MB)\r\n",
      "Requirement already satisfied: pillow in /Users/francoterranova/lib/python3.9/site-packages (from object-detection==0.1) (9.3.0)\r\n",
      "Collecting lxml\r\n",
      "  Using cached lxml-4.9.1-cp39-cp39-macosx_10_15_x86_64.whl (4.6 MB)\r\n",
      "Requirement already satisfied: matplotlib in /Users/francoterranova/lib/python3.9/site-packages (from object-detection==0.1) (3.6.2)\r\n",
      "Collecting Cython\r\n",
      "  Using cached Cython-0.29.32-py2.py3-none-any.whl (986 kB)\r\n",
      "Collecting contextlib2\r\n",
      "  Using cached contextlib2-21.6.0-py2.py3-none-any.whl (13 kB)\r\n",
      "Collecting tf-slim\r\n",
      "  Using cached tf_slim-1.1.0-py2.py3-none-any.whl (352 kB)\r\n",
      "Requirement already satisfied: six in /Users/francoterranova/lib/python3.9/site-packages (from object-detection==0.1) (1.16.0)\r\n",
      "Collecting pycocotools\r\n",
      "  Using cached pycocotools-2.0.6-cp39-cp39-macosx_10_9_x86_64.whl\r\n",
      "Collecting lvis\r\n",
      "  Using cached lvis-0.5.3-py3-none-any.whl (14 kB)\r\n",
      "Requirement already satisfied: scipy in /Users/francoterranova/lib/python3.9/site-packages (from object-detection==0.1) (1.9.3)\r\n",
      "Requirement already satisfied: pandas in /Users/francoterranova/lib/python3.9/site-packages (from object-detection==0.1) (1.5.2)\r\n",
      "Collecting tf-models-official>=2.5.1\r\n",
      "  Downloading tf_models_official-2.11.1-py2.py3-none-any.whl (2.4 MB)\r\n",
      "\u001B[2K     \u001B[90m━━━━━━━━━━━━━━━━━━━━━━━━━━━━━━━━━━━━━━━━\u001B[0m \u001B[32m2.4/2.4 MB\u001B[0m \u001B[31m4.2 MB/s\u001B[0m eta \u001B[36m0:00:00\u001B[0m00:01\u001B[0m00:01\u001B[0m\r\n",
      "\u001B[?25hCollecting tensorflow_io\r\n",
      "  Using cached tensorflow_io-0.28.0-cp39-cp39-macosx_10_14_x86_64.whl (24.6 MB)\r\n",
      "Requirement already satisfied: keras in /Users/francoterranova/lib/python3.9/site-packages (from object-detection==0.1) (2.11.0)\r\n",
      "Collecting pyparsing==2.4.7\r\n",
      "  Using cached pyparsing-2.4.7-py2.py3-none-any.whl (67 kB)\r\n",
      "Collecting sacrebleu<=2.2.0\r\n",
      "  Using cached sacrebleu-2.2.0-py3-none-any.whl (116 kB)\r\n",
      "Collecting portalocker\r\n",
      "  Using cached portalocker-2.6.0-py2.py3-none-any.whl (15 kB)\r\n",
      "Collecting regex\r\n",
      "  Using cached regex-2022.10.31-cp39-cp39-macosx_10_9_x86_64.whl (293 kB)\r\n",
      "Collecting tabulate>=0.8.9\r\n",
      "  Using cached tabulate-0.9.0-py3-none-any.whl (35 kB)\r\n",
      "Collecting colorama\r\n",
      "  Using cached colorama-0.4.6-py2.py3-none-any.whl (25 kB)\r\n",
      "Requirement already satisfied: numpy>=1.17 in /Users/francoterranova/lib/python3.9/site-packages (from sacrebleu<=2.2.0->object-detection==0.1) (1.23.5)\r\n",
      "Collecting google-api-python-client>=1.6.7\r\n",
      "  Downloading google_api_python_client-2.69.0-py2.py3-none-any.whl (10.7 MB)\r\n",
      "\u001B[2K     \u001B[90m━━━━━━━━━━━━━━━━━━━━━━━━━━━━━━━━━━━━━━━━\u001B[0m \u001B[32m10.7/10.7 MB\u001B[0m \u001B[31m8.3 MB/s\u001B[0m eta \u001B[36m0:00:00\u001B[0m00:01\u001B[0m00:01\u001B[0m\r\n",
      "\u001B[?25hCollecting oauth2client\r\n",
      "  Using cached oauth2client-4.1.3-py2.py3-none-any.whl (98 kB)\r\n",
      "Collecting opencv-python-headless\r\n",
      "  Using cached opencv_python_headless-4.6.0.66-cp36-abi3-macosx_10_15_x86_64.whl (46.4 MB)\r\n",
      "Collecting pyyaml<6.0,>=5.1\r\n",
      "  Using cached PyYAML-5.4.1-cp39-cp39-macosx_10_9_x86_64.whl (259 kB)\r\n",
      "Collecting tf-models-official>=2.5.1\r\n",
      "  Downloading tf_models_official-2.11.0-py2.py3-none-any.whl (2.3 MB)\r\n",
      "\u001B[2K     \u001B[90m━━━━━━━━━━━━━━━━━━━━━━━━━━━━━━━━━━━━━━━━\u001B[0m \u001B[32m2.3/2.3 MB\u001B[0m \u001B[31m11.2 MB/s\u001B[0m eta \u001B[36m0:00:00\u001B[0m00:01\u001B[0m00:01\u001B[0m\r\n",
      "\u001B[?25hRequirement already satisfied: tensorflow~=2.11.0 in /Users/francoterranova/lib/python3.9/site-packages (from tf-models-official>=2.5.1->object-detection==0.1) (2.11.0)\r\n",
      "Collecting opencv-python-headless==4.5.2.52\r\n",
      "  Downloading opencv_python_headless-4.5.2.52-cp39-cp39-macosx_10_15_x86_64.whl (43.6 MB)\r\n",
      "\u001B[2K     \u001B[90m━━━━━━━━━━━━━━━━━━━━━━━━━━━━━━━━━━━━━━━━\u001B[0m \u001B[32m43.6/43.6 MB\u001B[0m \u001B[31m8.0 MB/s\u001B[0m eta \u001B[36m0:00:00\u001B[0m:00:01\u001B[0m00:01\u001B[0m\r\n",
      "\u001B[?25hCollecting kaggle>=1.3.9\r\n",
      "  Using cached kaggle-1.5.12.tar.gz (58 kB)\r\n",
      "  Preparing metadata (setup.py) ... \u001B[?25ldone\r\n",
      "\u001B[?25hRequirement already satisfied: psutil>=5.4.3 in /Users/francoterranova/lib/python3.9/site-packages (from tf-models-official>=2.5.1->object-detection==0.1) (5.9.4)\r\n",
      "Collecting seqeval\r\n",
      "  Using cached seqeval-1.2.2.tar.gz (43 kB)\r\n",
      "  Preparing metadata (setup.py) ... \u001B[?25ldone\r\n",
      "\u001B[?25hCollecting gin-config\r\n",
      "  Using cached gin_config-0.5.0-py3-none-any.whl (61 kB)\r\n",
      "Collecting py-cpuinfo>=3.3.0\r\n",
      "  Using cached py_cpuinfo-9.0.0-py3-none-any.whl (22 kB)\r\n",
      "Collecting sentencepiece\r\n",
      "  Using cached sentencepiece-0.1.97-cp39-cp39-macosx_10_9_x86_64.whl (1.2 MB)\r\n",
      "Collecting tensorflow-datasets\r\n",
      "  Using cached tensorflow_datasets-4.7.0-py3-none-any.whl (4.7 MB)\r\n",
      "Collecting tensorflow-addons\r\n",
      "  Downloading tensorflow_addons-0.19.0-cp39-cp39-macosx_10_14_x86_64.whl (12.6 MB)\r\n",
      "\u001B[2K     \u001B[90m━━━━━━━━━━━━━━━━━━━━━━━━━━━━━━━━━━━━━━━━\u001B[0m \u001B[32m12.6/12.6 MB\u001B[0m \u001B[31m9.3 MB/s\u001B[0m eta \u001B[36m0:00:00\u001B[0m:00:01\u001B[0m0:01\u001B[0m\r\n",
      "\u001B[?25hCollecting tensorflow-hub>=0.6.0\r\n",
      "  Using cached tensorflow_hub-0.12.0-py2.py3-none-any.whl (108 kB)\r\n",
      "Collecting tensorflow-model-optimization>=0.4.1\r\n",
      "  Using cached tensorflow_model_optimization-0.7.3-py2.py3-none-any.whl (238 kB)\r\n",
      "Collecting immutabledict\r\n",
      "  Using cached immutabledict-2.2.3-py3-none-any.whl (4.0 kB)\r\n",
      "Collecting tensorflow-text~=2.11.0\r\n",
      "  Downloading tensorflow_text-2.11.0-cp39-cp39-macosx_10_9_x86_64.whl (5.6 MB)\r\n",
      "\u001B[2K     \u001B[90m━━━━━━━━━━━━━━━━━━━━━━━━━━━━━━━━━━━━━━━━\u001B[0m \u001B[32m5.6/5.6 MB\u001B[0m \u001B[31m9.3 MB/s\u001B[0m eta \u001B[36m0:00:00\u001B[0m:00:01\u001B[0m0:01\u001B[0mm\r\n",
      "\u001B[?25hRequirement already satisfied: pytz>=2020.1 in /Users/francoterranova/lib/python3.9/site-packages (from pandas->object-detection==0.1) (2022.6)\r\n",
      "Requirement already satisfied: python-dateutil>=2.8.1 in /Users/francoterranova/lib/python3.9/site-packages (from pandas->object-detection==0.1) (2.8.2)\r\n",
      "Requirement already satisfied: absl-py>=0.2.2 in /Users/francoterranova/lib/python3.9/site-packages (from tf-slim->object-detection==0.1) (1.3.0)\r\n",
      "Collecting zstandard<1,>=0.18.0\r\n",
      "  Using cached zstandard-0.19.0-cp39-cp39-macosx_10_9_x86_64.whl (453 kB)\r\n",
      "Collecting proto-plus<2,>=1.7.1\r\n",
      "  Using cached proto_plus-1.22.1-py3-none-any.whl (47 kB)\r\n",
      "Collecting fasteners<1.0,>=0.3\r\n",
      "  Using cached fasteners-0.18-py3-none-any.whl (18 kB)\r\n",
      "Collecting crcmod<2.0,>=1.7\r\n",
      "  Using cached crcmod-1.7.tar.gz (89 kB)\r\n",
      "  Preparing metadata (setup.py) ... \u001B[?25ldone\r\n",
      "\u001B[?25hRequirement already satisfied: protobuf<4,>3.12.2 in /Users/francoterranova/lib/python3.9/site-packages (from apache-beam->object-detection==0.1) (3.19.6)\r\n",
      "Collecting pymongo<4.0.0,>=3.8.0\r\n",
      "  Using cached pymongo-3.13.0-cp39-cp39-macosx_10_9_universal2.whl (430 kB)\r\n",
      "Collecting pyarrow<10.0.0,>=0.15.1\r\n",
      "  Using cached pyarrow-9.0.0-cp39-cp39-macosx_10_13_x86_64.whl (24.0 MB)\r\n",
      "Collecting objsize<0.6.0,>=0.5.2\r\n",
      "  Using cached objsize-0.5.2-py3-none-any.whl (8.2 kB)\r\n",
      "Collecting cloudpickle~=2.2.0\r\n",
      "  Using cached cloudpickle-2.2.0-py3-none-any.whl (25 kB)\r\n",
      "Requirement already satisfied: typing-extensions>=3.7.0 in /Users/francoterranova/lib/python3.9/site-packages (from apache-beam->object-detection==0.1) (4.4.0)\r\n",
      "Requirement already satisfied: requests<3.0.0,>=2.24.0 in /Users/francoterranova/lib/python3.9/site-packages (from apache-beam->object-detection==0.1) (2.28.1)\r\n",
      "Collecting dill<0.3.2,>=0.3.1.1\r\n",
      "  Using cached dill-0.3.1.1.tar.gz (151 kB)\r\n",
      "  Preparing metadata (setup.py) ... \u001B[?25ldone\r\n",
      "\u001B[?25hCollecting orjson<4.0\r\n",
      "  Downloading orjson-3.8.3-cp39-cp39-macosx_10_9_x86_64.macosx_11_0_arm64.macosx_10_9_universal2.whl (493 kB)\r\n",
      "\u001B[2K     \u001B[90m━━━━━━━━━━━━━━━━━━━━━━━━━━━━━━━━━━━━━━━\u001B[0m \u001B[32m493.6/493.6 kB\u001B[0m \u001B[31m8.5 MB/s\u001B[0m eta \u001B[36m0:00:00\u001B[0m00:01\u001B[0m\r\n",
      "\u001B[?25hRequirement already satisfied: pydot<2,>=1.2.0 in /Users/francoterranova/lib/python3.9/site-packages (from apache-beam->object-detection==0.1) (1.4.2)\r\n",
      "Collecting httplib2<0.21.0,>=0.8\r\n",
      "  Using cached httplib2-0.20.4-py3-none-any.whl (96 kB)\r\n",
      "Collecting numpy>=1.17\r\n",
      "  Using cached numpy-1.22.4-cp39-cp39-macosx_10_15_x86_64.whl (17.7 MB)\r\n",
      "Requirement already satisfied: grpcio!=1.48.0,<2,>=1.33.1 in /Users/francoterranova/lib/python3.9/site-packages (from apache-beam->object-detection==0.1) (1.51.1)\r\n",
      "Collecting hdfs<3.0.0,>=2.1.0\r\n",
      "  Using cached hdfs-2.7.0-py3-none-any.whl (34 kB)\r\n",
      "Collecting fastavro<2,>=0.23.6\r\n",
      "  Using cached fastavro-1.7.0-cp39-cp39-macosx_10_15_x86_64.whl (529 kB)\r\n",
      "Requirement already satisfied: kiwisolver>=1.1.0 in /Users/francoterranova/lib/python3.9/site-packages (from lvis->object-detection==0.1) (1.4.4)\r\n",
      "Requirement already satisfied: opencv-python>=4.1.0.25 in /Users/francoterranova/lib/python3.9/site-packages (from lvis->object-detection==0.1) (4.6.0.66)\r\n",
      "Requirement already satisfied: cycler>=0.10.0 in /Users/francoterranova/lib/python3.9/site-packages (from lvis->object-detection==0.1) (0.11.0)\r\n",
      "Requirement already satisfied: packaging>=20.0 in /Users/francoterranova/lib/python3.9/site-packages (from matplotlib->object-detection==0.1) (21.3)\r\n",
      "Requirement already satisfied: contourpy>=1.0.1 in /Users/francoterranova/lib/python3.9/site-packages (from matplotlib->object-detection==0.1) (1.0.6)\r\n",
      "Requirement already satisfied: fonttools>=4.22.0 in /Users/francoterranova/lib/python3.9/site-packages (from matplotlib->object-detection==0.1) (4.38.0)\r\n",
      "Requirement already satisfied: tensorflow-io-gcs-filesystem==0.28.0 in /Users/francoterranova/lib/python3.9/site-packages (from tensorflow_io->object-detection==0.1) (0.28.0)\r\n",
      "Collecting google-api-core!=2.0.*,!=2.1.*,!=2.2.*,!=2.3.0,<3.0.0dev,>=1.31.5\r\n",
      "  Downloading google_api_core-2.11.0-py3-none-any.whl (120 kB)\r\n",
      "\u001B[2K     \u001B[90m━━━━━━━━━━━━━━━━━━━━━━━━━━━━━━━━━━━━━\u001B[0m \u001B[32m120.3/120.3 kB\u001B[0m \u001B[31m564.4 kB/s\u001B[0m eta \u001B[36m0:00:00\u001B[0ma \u001B[36m0:00:01\u001B[0m\r\n",
      "\u001B[?25hCollecting uritemplate<5,>=3.0.1\r\n",
      "  Using cached uritemplate-4.1.1-py2.py3-none-any.whl (10 kB)\r\n",
      "Requirement already satisfied: google-auth<3.0.0dev,>=1.19.0 in /Users/francoterranova/lib/python3.9/site-packages (from google-api-python-client>=1.6.7->tf-models-official>=2.5.1->object-detection==0.1) (2.15.0)\r\n",
      "Collecting google-auth-httplib2>=0.1.0\r\n",
      "  Using cached google_auth_httplib2-0.1.0-py2.py3-none-any.whl (9.3 kB)\r\n",
      "Collecting docopt\r\n",
      "  Using cached docopt-0.6.2.tar.gz (25 kB)\r\n",
      "  Preparing metadata (setup.py) ... \u001B[?25ldone\r\n",
      "\u001B[?25hRequirement already satisfied: certifi in /Users/francoterranova/lib/python3.9/site-packages (from kaggle>=1.3.9->tf-models-official>=2.5.1->object-detection==0.1) (2022.9.24)\r\n",
      "Requirement already satisfied: tqdm in /Users/francoterranova/lib/python3.9/site-packages (from kaggle>=1.3.9->tf-models-official>=2.5.1->object-detection==0.1) (4.64.1)\r\n",
      "Collecting python-slugify\r\n",
      "  Using cached python_slugify-7.0.0-py2.py3-none-any.whl (9.4 kB)\r\n",
      "Requirement already satisfied: urllib3 in /Users/francoterranova/lib/python3.9/site-packages (from kaggle>=1.3.9->tf-models-official>=2.5.1->object-detection==0.1) (1.26.13)\r\n",
      "Requirement already satisfied: charset-normalizer<3,>=2 in /Users/francoterranova/lib/python3.9/site-packages (from requests<3.0.0,>=2.24.0->apache-beam->object-detection==0.1) (2.1.1)\r\n",
      "Requirement already satisfied: idna<4,>=2.5 in /Users/francoterranova/lib/python3.9/site-packages (from requests<3.0.0,>=2.24.0->apache-beam->object-detection==0.1) (3.4)\r\n",
      "Requirement already satisfied: opt-einsum>=2.3.2 in /Users/francoterranova/lib/python3.9/site-packages (from tensorflow~=2.11.0->tf-models-official>=2.5.1->object-detection==0.1) (3.3.0)\r\n",
      "Requirement already satisfied: flatbuffers>=2.0 in /Users/francoterranova/lib/python3.9/site-packages (from tensorflow~=2.11.0->tf-models-official>=2.5.1->object-detection==0.1) (22.11.23)\r\n",
      "Requirement already satisfied: termcolor>=1.1.0 in /Users/francoterranova/lib/python3.9/site-packages (from tensorflow~=2.11.0->tf-models-official>=2.5.1->object-detection==0.1) (2.1.1)\r\n",
      "Requirement already satisfied: libclang>=13.0.0 in /Users/francoterranova/lib/python3.9/site-packages (from tensorflow~=2.11.0->tf-models-official>=2.5.1->object-detection==0.1) (14.0.6)\r\n",
      "Requirement already satisfied: gast<=0.4.0,>=0.2.1 in /Users/francoterranova/lib/python3.9/site-packages (from tensorflow~=2.11.0->tf-models-official>=2.5.1->object-detection==0.1) (0.4.0)\r\n",
      "Requirement already satisfied: tensorboard<2.12,>=2.11 in /Users/francoterranova/lib/python3.9/site-packages (from tensorflow~=2.11.0->tf-models-official>=2.5.1->object-detection==0.1) (2.11.0)\r\n",
      "Requirement already satisfied: google-pasta>=0.1.1 in /Users/francoterranova/lib/python3.9/site-packages (from tensorflow~=2.11.0->tf-models-official>=2.5.1->object-detection==0.1) (0.2.0)\r\n",
      "Requirement already satisfied: astunparse>=1.6.0 in /Users/francoterranova/lib/python3.9/site-packages (from tensorflow~=2.11.0->tf-models-official>=2.5.1->object-detection==0.1) (1.6.3)\r\n",
      "Requirement already satisfied: setuptools in /Users/francoterranova/lib/python3.9/site-packages (from tensorflow~=2.11.0->tf-models-official>=2.5.1->object-detection==0.1) (60.2.0)\r\n",
      "Requirement already satisfied: h5py>=2.9.0 in /Users/francoterranova/lib/python3.9/site-packages (from tensorflow~=2.11.0->tf-models-official>=2.5.1->object-detection==0.1) (3.7.0)\r\n",
      "Requirement already satisfied: tensorflow-estimator<2.12,>=2.11.0 in /Users/francoterranova/lib/python3.9/site-packages (from tensorflow~=2.11.0->tf-models-official>=2.5.1->object-detection==0.1) (2.11.0)\r\n",
      "Requirement already satisfied: wrapt>=1.11.0 in /Users/francoterranova/lib/python3.9/site-packages (from tensorflow~=2.11.0->tf-models-official>=2.5.1->object-detection==0.1) (1.14.1)\r\n",
      "Collecting dm-tree~=0.1.1\r\n",
      "  Using cached dm_tree-0.1.7-cp39-cp39-macosx_10_9_x86_64.whl (109 kB)\r\n",
      "Requirement already satisfied: pyasn1>=0.1.7 in /Users/francoterranova/lib/python3.9/site-packages (from oauth2client->tf-models-official>=2.5.1->object-detection==0.1) (0.4.8)\r\n",
      "Requirement already satisfied: rsa>=3.1.4 in /Users/francoterranova/lib/python3.9/site-packages (from oauth2client->tf-models-official>=2.5.1->object-detection==0.1) (4.9)\r\n",
      "Requirement already satisfied: pyasn1-modules>=0.0.5 in /Users/francoterranova/lib/python3.9/site-packages (from oauth2client->tf-models-official>=2.5.1->object-detection==0.1) (0.2.8)\r\n",
      "Requirement already satisfied: scikit-learn>=0.21.3 in /Users/francoterranova/lib/python3.9/site-packages (from seqeval->tf-models-official>=2.5.1->object-detection==0.1) (1.2.0)\r\n",
      "Collecting typeguard>=2.7\r\n",
      "  Using cached typeguard-2.13.3-py3-none-any.whl (17 kB)\r\n",
      "Collecting etils[epath]\r\n",
      "  Using cached etils-0.9.0-py3-none-any.whl (140 kB)\r\n",
      "Collecting toml\r\n",
      "  Using cached toml-0.10.2-py2.py3-none-any.whl (16 kB)\r\n",
      "Collecting promise\r\n",
      "  Using cached promise-2.3.tar.gz (19 kB)\r\n",
      "  Preparing metadata (setup.py) ... \u001B[?25ldone\r\n",
      "\u001B[?25hCollecting tensorflow-metadata\r\n",
      "  Downloading tensorflow_metadata-1.12.0-py3-none-any.whl (52 kB)\r\n",
      "\u001B[2K     \u001B[90m━━━━━━━━━━━━━━━━━━━━━━━━━━━━━━━━━━━━━━━━\u001B[0m \u001B[32m52.3/52.3 kB\u001B[0m \u001B[31m3.5 MB/s\u001B[0m eta \u001B[36m0:00:00\u001B[0m\r\n",
      "\u001B[?25hRequirement already satisfied: wheel<1.0,>=0.23.0 in /Users/francoterranova/lib/python3.9/site-packages (from astunparse>=1.6.0->tensorflow~=2.11.0->tf-models-official>=2.5.1->object-detection==0.1) (0.37.1)\r\n",
      "Collecting googleapis-common-protos<2.0dev,>=1.56.2\r\n",
      "  Using cached googleapis_common_protos-1.57.0-py2.py3-none-any.whl (217 kB)\r\n",
      "Requirement already satisfied: cachetools<6.0,>=2.0.0 in /Users/francoterranova/lib/python3.9/site-packages (from google-auth<3.0.0dev,>=1.19.0->google-api-python-client>=1.6.7->tf-models-official>=2.5.1->object-detection==0.1) (5.2.0)\r\n",
      "Requirement already satisfied: threadpoolctl>=2.0.0 in /Users/francoterranova/lib/python3.9/site-packages (from scikit-learn>=0.21.3->seqeval->tf-models-official>=2.5.1->object-detection==0.1) (3.1.0)\r\n",
      "Requirement already satisfied: joblib>=1.1.1 in /Users/francoterranova/lib/python3.9/site-packages (from scikit-learn>=0.21.3->seqeval->tf-models-official>=2.5.1->object-detection==0.1) (1.2.0)\r\n",
      "Requirement already satisfied: tensorboard-plugin-wit>=1.6.0 in /Users/francoterranova/lib/python3.9/site-packages (from tensorboard<2.12,>=2.11->tensorflow~=2.11.0->tf-models-official>=2.5.1->object-detection==0.1) (1.8.1)\r\n",
      "Requirement already satisfied: tensorboard-data-server<0.7.0,>=0.6.0 in /Users/francoterranova/lib/python3.9/site-packages (from tensorboard<2.12,>=2.11->tensorflow~=2.11.0->tf-models-official>=2.5.1->object-detection==0.1) (0.6.1)\r\n",
      "Requirement already satisfied: google-auth-oauthlib<0.5,>=0.4.1 in /Users/francoterranova/lib/python3.9/site-packages (from tensorboard<2.12,>=2.11->tensorflow~=2.11.0->tf-models-official>=2.5.1->object-detection==0.1) (0.4.6)\r\n",
      "Requirement already satisfied: markdown>=2.6.8 in /Users/francoterranova/lib/python3.9/site-packages (from tensorboard<2.12,>=2.11->tensorflow~=2.11.0->tf-models-official>=2.5.1->object-detection==0.1) (3.4.1)\r\n",
      "Requirement already satisfied: werkzeug>=1.0.1 in /Users/francoterranova/lib/python3.9/site-packages (from tensorboard<2.12,>=2.11->tensorflow~=2.11.0->tf-models-official>=2.5.1->object-detection==0.1) (2.2.2)\r\n",
      "Collecting importlib_resources\r\n",
      "  Downloading importlib_resources-5.10.1-py3-none-any.whl (34 kB)\r\n",
      "Requirement already satisfied: zipp in /Users/francoterranova/lib/python3.9/site-packages (from etils[epath]->tensorflow-datasets->tf-models-official>=2.5.1->object-detection==0.1) (3.11.0)\r\n",
      "Collecting text-unidecode>=1.3\r\n",
      "  Using cached text_unidecode-1.3-py2.py3-none-any.whl (78 kB)\r\n",
      "Requirement already satisfied: requests-oauthlib>=0.7.0 in /Users/francoterranova/lib/python3.9/site-packages (from google-auth-oauthlib<0.5,>=0.4.1->tensorboard<2.12,>=2.11->tensorflow~=2.11.0->tf-models-official>=2.5.1->object-detection==0.1) (1.3.1)\r\n",
      "Requirement already satisfied: importlib-metadata>=4.4 in /Users/francoterranova/lib/python3.9/site-packages (from markdown>=2.6.8->tensorboard<2.12,>=2.11->tensorflow~=2.11.0->tf-models-official>=2.5.1->object-detection==0.1) (5.1.0)\r\n",
      "Requirement already satisfied: MarkupSafe>=2.1.1 in /Users/francoterranova/lib/python3.9/site-packages (from werkzeug>=1.0.1->tensorboard<2.12,>=2.11->tensorflow~=2.11.0->tf-models-official>=2.5.1->object-detection==0.1) (2.1.1)\r\n",
      "Requirement already satisfied: oauthlib>=3.0.0 in /Users/francoterranova/lib/python3.9/site-packages (from requests-oauthlib>=0.7.0->google-auth-oauthlib<0.5,>=0.4.1->tensorboard<2.12,>=2.11->tensorflow~=2.11.0->tf-models-official>=2.5.1->object-detection==0.1) (3.2.2)\r\n",
      "Building wheels for collected packages: object-detection, avro-python3, crcmod, dill, kaggle, seqeval, docopt, promise\r\n",
      "  Building wheel for object-detection (setup.py) ... \u001B[?25ldone\r\n",
      "\u001B[?25h  Created wheel for object-detection: filename=object_detection-0.1-py3-none-any.whl size=1655140 sha256=14bee7ca3c1540e4a2fb50d532f4b6193dff2b9679be11fd0d649b5a8bc89132\r\n",
      "  Stored in directory: /private/var/folders/lp/fbpz2wyx1kb4b5zgt8w_tsp40000gn/T/pip-ephem-wheel-cache-37in_g7w/wheels/16/21/e6/c9bd1309d28688d980046ec7d52513a68f75af407295998e1c\r\n",
      "  Building wheel for avro-python3 (setup.py) ... \u001B[?25ldone\r\n",
      "\u001B[?25h  Created wheel for avro-python3: filename=avro_python3-1.10.2-py3-none-any.whl size=44010 sha256=ea920992126423a17453ab7675d88dfacbedebb9da97af07a7db8e1ae0dba165\r\n",
      "  Stored in directory: /Users/francoterranova/Library/Caches/pip/wheels/16/66/e8/d7db449cffdf36f9aba1a3813b0dee92d8e0115fd35b1b7316\r\n",
      "  Building wheel for crcmod (setup.py) ... \u001B[?25ldone\r\n",
      "\u001B[?25h  Created wheel for crcmod: filename=crcmod-1.7-cp39-cp39-macosx_10_9_universal2.whl size=25816 sha256=92781d0e91f055b7a8013800ce33151a857eb57a66a0183ef19628a2f20fa400\r\n",
      "  Stored in directory: /Users/francoterranova/Library/Caches/pip/wheels/1a/29/71/b6c38f9489a38c5c7c042785b7bf24c2aaf9fe28338cde5d51\r\n",
      "  Building wheel for dill (setup.py) ... \u001B[?25ldone\r\n",
      "\u001B[?25h  Created wheel for dill: filename=dill-0.3.1.1-py3-none-any.whl size=78544 sha256=7d7e9c26676340c46774d8dd8eaa066aaa99ee7807a7c4e7bc346194a9254139\r\n",
      "  Stored in directory: /Users/francoterranova/Library/Caches/pip/wheels/bf/8e/e4/a5b4f8b88c2c2e886583bdb95dec4ae41f2e0e8a5591b25c15\r\n",
      "  Building wheel for kaggle (setup.py) ... \u001B[?25ldone\r\n",
      "\u001B[?25h  Created wheel for kaggle: filename=kaggle-1.5.12-py3-none-any.whl size=73051 sha256=7d1a462e5c0e49dbcf6f22e312e05fc704eef7734e8f42c40a04485c54bb4f72\r\n",
      "  Stored in directory: /Users/francoterranova/Library/Caches/pip/wheels/50/0a/6a/77a4f3a534f0e5fd0909a376bbdfc88238a43eb2ac35947dc7\r\n",
      "  Building wheel for seqeval (setup.py) ... \u001B[?25ldone\r\n",
      "\u001B[?25h  Created wheel for seqeval: filename=seqeval-1.2.2-py3-none-any.whl size=16180 sha256=7c549d7133f721e10c77fbf1a5e878fab6c0fd95eec644b23cca79dab1547b59\r\n",
      "  Stored in directory: /Users/francoterranova/Library/Caches/pip/wheels/9c/d6/00/1ccfd5a7466a94774e00022683d4b028836032dfb85007822b\r\n",
      "  Building wheel for docopt (setup.py) ... \u001B[?25ldone\r\n",
      "\u001B[?25h  Created wheel for docopt: filename=docopt-0.6.2-py2.py3-none-any.whl size=13723 sha256=639744cc59b2e2a6c784cc871ac172165834f6d3d4f69df8ee6faf3387d5e44d\r\n",
      "  Stored in directory: /Users/francoterranova/Library/Caches/pip/wheels/4e/29/5e/e5f6f558e24e0d70f6808e3e8fdaf2c04ff597233098afc550\r\n",
      "  Building wheel for promise (setup.py) ... \u001B[?25ldone\r\n",
      "\u001B[?25h  Created wheel for promise: filename=promise-2.3-py3-none-any.whl size=21503 sha256=87d7e55c4844194f000c3ccccf7a21d3ce9464ce6e5f1f740db03c1eaee6a9b9\r\n",
      "  Stored in directory: /Users/francoterranova/Library/Caches/pip/wheels/68/ee/8d/57af0d8b0d34c2e918ff29d3af02b348db6499bb107caa007e\r\n",
      "Successfully built object-detection avro-python3 crcmod dill kaggle seqeval docopt promise\r\n",
      "Installing collected packages: text-unidecode, sentencepiece, py-cpuinfo, gin-config, docopt, dm-tree, crcmod, zstandard, uritemplate, typeguard, toml, tf-slim, tensorflow_io, tabulate, regex, pyyaml, python-slugify, pyparsing, pymongo, proto-plus, promise, portalocker, orjson, objsize, numpy, lxml, importlib_resources, immutabledict, googleapis-common-protos, fasteners, fastavro, etils, dill, Cython, contextlib2, colorama, cloudpickle, avro-python3, tensorflow-model-optimization, tensorflow-metadata, tensorflow-hub, sacrebleu, pyarrow, opencv-python-headless, kaggle, httplib2, hdfs, tensorflow-addons, oauth2client, google-auth-httplib2, google-api-core, apache-beam, tensorflow-datasets, seqeval, pycocotools, lvis, google-api-python-client, tensorflow-text, tf-models-official, object-detection\r\n",
      "  Attempting uninstall: pyyaml\r\n",
      "    Found existing installation: PyYAML 6.0\r\n",
      "    Uninstalling PyYAML-6.0:\r\n",
      "      Successfully uninstalled PyYAML-6.0\r\n",
      "  Attempting uninstall: pyparsing\r\n",
      "    Found existing installation: pyparsing 3.0.9\r\n",
      "    Uninstalling pyparsing-3.0.9:\r\n",
      "      Successfully uninstalled pyparsing-3.0.9\r\n",
      "  Attempting uninstall: numpy\r\n",
      "    Found existing installation: numpy 1.23.5\r\n",
      "    Uninstalling numpy-1.23.5:\r\n",
      "      Successfully uninstalled numpy-1.23.5\r\n",
      "Successfully installed Cython-0.29.32 apache-beam-2.43.0 avro-python3-1.10.2 cloudpickle-2.2.0 colorama-0.4.6 contextlib2-21.6.0 crcmod-1.7 dill-0.3.1.1 dm-tree-0.1.7 docopt-0.6.2 etils-0.9.0 fastavro-1.7.0 fasteners-0.18 gin-config-0.5.0 google-api-core-2.11.0 google-api-python-client-2.69.0 google-auth-httplib2-0.1.0 googleapis-common-protos-1.57.0 hdfs-2.7.0 httplib2-0.20.4 immutabledict-2.2.3 importlib_resources-5.10.1 kaggle-1.5.12 lvis-0.5.3 lxml-4.9.1 numpy-1.22.4 oauth2client-4.1.3 object-detection-0.1 objsize-0.5.2 opencv-python-headless-4.5.2.52 orjson-3.8.3 portalocker-2.6.0 promise-2.3 proto-plus-1.22.1 py-cpuinfo-9.0.0 pyarrow-9.0.0 pycocotools-2.0.6 pymongo-3.13.0 pyparsing-2.4.7 python-slugify-7.0.0 pyyaml-5.4.1 regex-2022.10.31 sacrebleu-2.2.0 sentencepiece-0.1.97 seqeval-1.2.2 tabulate-0.9.0 tensorflow-addons-0.19.0 tensorflow-datasets-4.7.0 tensorflow-hub-0.12.0 tensorflow-metadata-1.12.0 tensorflow-model-optimization-0.7.3 tensorflow-text-2.11.0 tensorflow_io-0.28.0 text-unidecode-1.3 tf-models-official-2.11.0 tf-slim-1.1.0 toml-0.10.2 typeguard-2.13.3 uritemplate-4.1.1 zstandard-0.19.0\r\n",
      "Collecting protobuf==3.20\r\n",
      "  Using cached protobuf-3.20.0-cp39-cp39-macosx_10_9_x86_64.whl (962 kB)\r\n",
      "Installing collected packages: protobuf\r\n",
      "  Attempting uninstall: protobuf\r\n",
      "    Found existing installation: protobuf 3.19.6\r\n",
      "    Uninstalling protobuf-3.19.6:\r\n",
      "      Successfully uninstalled protobuf-3.19.6\r\n",
      "\u001B[31mERROR: pip's dependency resolver does not currently take into account all the packages that are installed. This behaviour is the source of the following dependency conflicts.\r\n",
      "tensorflow 2.11.0 requires protobuf<3.20,>=3.9.2, but you have protobuf 3.20.0 which is incompatible.\r\n",
      "googleapis-common-protos 1.57.0 requires protobuf!=3.20.0,!=3.20.1,!=4.21.1,!=4.21.2,!=4.21.3,!=4.21.4,!=4.21.5,<5.0.0dev,>=3.19.5, but you have protobuf 3.20.0 which is incompatible.\r\n",
      "google-api-core 2.11.0 requires protobuf!=3.20.0,!=3.20.1,!=4.21.0,!=4.21.1,!=4.21.2,!=4.21.3,!=4.21.4,!=4.21.5,<5.0.0dev,>=3.19.5, but you have protobuf 3.20.0 which is incompatible.\u001B[0m\u001B[31m\r\n",
      "\u001B[0mSuccessfully installed protobuf-3.20.0\r\n"
     ]
    }
   ],
   "source": [
    " if os.name=='posix':\n",
    "    ! brew install protobuf # or apt-get for Unix/Linux\n",
    "    ! cd models/research && protoc object_detection/protos/*.proto --python_out=. && cp object_detection/packages/tf2/setup.py . && python -m pip install .\n",
    "    ! pip install protobuf==3.20\n",
    "\n",
    "if os.name=='nt':\n",
    "    url=\"https://github.com/protocolbuffers/protobuf/releases/download/v3.15.6/protoc-3.15.6-win64.zip\"\n",
    "    wget.download(url)\n",
    "    !move protoc-3.15.6-win64.zip {paths['PROTOC_PATH']}\n",
    "    !cd {paths['PROTOC_PATH']} && tar -xf protoc-3.15.6-win64.zip\n",
    "    os.environ['PATH'] += os.pathsep + os.path.abspath(os.path.join(paths['PROTOC_PATH'], 'bin'))   \n",
    "    !cd models/research && protoc object_detection/protos/*.proto --python_out=. && copy object_detection\\\\packages\\\\tf2\\\\setup.py setup.py && python setup.py build && python setup.py install\n",
    "    !cd models/research/slim && pip install -e . "
   ]
  },
  {
   "cell_type": "code",
   "execution_count": 10,
   "metadata": {
    "scrolled": true
   },
   "outputs": [
    {
     "name": "stdout",
     "output_type": "stream",
     "text": [
      "2022-12-12 15:33:07.266239: I tensorflow/core/platform/cpu_feature_guard.cc:193] This TensorFlow binary is optimized with oneAPI Deep Neural Network Library (oneDNN) to use the following CPU instructions in performance-critical operations:  AVX2 FMA\r\n",
      "To enable them in other operations, rebuild TensorFlow with the appropriate compiler flags.\r\n",
      "Running tests under Python 3.9.6: /Users/francoterranova/bin/python\r\n",
      "[ RUN      ] ModelBuilderTF2Test.test_create_center_net_deepmac\r\n",
      "2022-12-12 15:34:22.922762: I tensorflow/core/platform/cpu_feature_guard.cc:193] This TensorFlow binary is optimized with oneAPI Deep Neural Network Library (oneDNN) to use the following CPU instructions in performance-critical operations:  AVX2 FMA\r\n",
      "To enable them in other operations, rebuild TensorFlow with the appropriate compiler flags.\r\n",
      "/Users/francoterranova/lib/python3.9/site-packages/object_detection/builders/model_builder.py:1112: DeprecationWarning: The 'warn' function is deprecated, use 'warning' instead\r\n",
      "  logging.warn(('Building experimental DeepMAC meta-arch.'\r\n",
      "W1212 15:34:25.036002 140704406885568 model_builder.py:1112] Building experimental DeepMAC meta-arch. Some features may be omitted.\r\n",
      "INFO:tensorflow:time(__main__.ModelBuilderTF2Test.test_create_center_net_deepmac): 4.97s\r\n",
      "I1212 15:34:27.813712 140704406885568 test_util.py:2457] time(__main__.ModelBuilderTF2Test.test_create_center_net_deepmac): 4.97s\r\n",
      "[       OK ] ModelBuilderTF2Test.test_create_center_net_deepmac\r\n",
      "[ RUN      ] ModelBuilderTF2Test.test_create_center_net_model0 (customize_head_params=True)\r\n",
      "INFO:tensorflow:time(__main__.ModelBuilderTF2Test.test_create_center_net_model0 (customize_head_params=True)): 11.14s\r\n",
      "I1212 15:34:38.956026 140704406885568 test_util.py:2457] time(__main__.ModelBuilderTF2Test.test_create_center_net_model0 (customize_head_params=True)): 11.14s\r\n",
      "[       OK ] ModelBuilderTF2Test.test_create_center_net_model0 (customize_head_params=True)\r\n",
      "[ RUN      ] ModelBuilderTF2Test.test_create_center_net_model1 (customize_head_params=False)\r\n",
      "INFO:tensorflow:time(__main__.ModelBuilderTF2Test.test_create_center_net_model1 (customize_head_params=False)): 1.44s\r\n",
      "I1212 15:34:40.406863 140704406885568 test_util.py:2457] time(__main__.ModelBuilderTF2Test.test_create_center_net_model1 (customize_head_params=False)): 1.44s\r\n",
      "[       OK ] ModelBuilderTF2Test.test_create_center_net_model1 (customize_head_params=False)\r\n",
      "[ RUN      ] ModelBuilderTF2Test.test_create_center_net_model_from_keypoints\r\n",
      "INFO:tensorflow:time(__main__.ModelBuilderTF2Test.test_create_center_net_model_from_keypoints): 3.43s\r\n",
      "I1212 15:34:43.835087 140704406885568 test_util.py:2457] time(__main__.ModelBuilderTF2Test.test_create_center_net_model_from_keypoints): 3.43s\r\n",
      "[       OK ] ModelBuilderTF2Test.test_create_center_net_model_from_keypoints\r\n",
      "[ RUN      ] ModelBuilderTF2Test.test_create_center_net_model_mobilenet\r\n",
      "INFO:tensorflow:time(__main__.ModelBuilderTF2Test.test_create_center_net_model_mobilenet): 32.91s\r\n",
      "I1212 15:35:16.746914 140704406885568 test_util.py:2457] time(__main__.ModelBuilderTF2Test.test_create_center_net_model_mobilenet): 32.91s\r\n",
      "[       OK ] ModelBuilderTF2Test.test_create_center_net_model_mobilenet\r\n",
      "[ RUN      ] ModelBuilderTF2Test.test_create_experimental_model\r\n",
      "INFO:tensorflow:time(__main__.ModelBuilderTF2Test.test_create_experimental_model): 0.0s\r\n",
      "I1212 15:35:16.797797 140704406885568 test_util.py:2457] time(__main__.ModelBuilderTF2Test.test_create_experimental_model): 0.0s\r\n",
      "[       OK ] ModelBuilderTF2Test.test_create_experimental_model\r\n",
      "[ RUN      ] ModelBuilderTF2Test.test_create_faster_rcnn_from_config_with_crop_feature0 (True)\r\n",
      "INFO:tensorflow:time(__main__.ModelBuilderTF2Test.test_create_faster_rcnn_from_config_with_crop_feature0 (True)): 0.45s\r\n",
      "I1212 15:35:17.245288 140704406885568 test_util.py:2457] time(__main__.ModelBuilderTF2Test.test_create_faster_rcnn_from_config_with_crop_feature0 (True)): 0.45s\r\n",
      "[       OK ] ModelBuilderTF2Test.test_create_faster_rcnn_from_config_with_crop_feature0 (True)\r\n",
      "[ RUN      ] ModelBuilderTF2Test.test_create_faster_rcnn_from_config_with_crop_feature1 (False)\r\n",
      "INFO:tensorflow:time(__main__.ModelBuilderTF2Test.test_create_faster_rcnn_from_config_with_crop_feature1 (False)): 0.21s\r\n",
      "I1212 15:35:17.453296 140704406885568 test_util.py:2457] time(__main__.ModelBuilderTF2Test.test_create_faster_rcnn_from_config_with_crop_feature1 (False)): 0.21s\r\n",
      "[       OK ] ModelBuilderTF2Test.test_create_faster_rcnn_from_config_with_crop_feature1 (False)\r\n",
      "[ RUN      ] ModelBuilderTF2Test.test_create_faster_rcnn_model_from_config_with_example_miner\r\n",
      "INFO:tensorflow:time(__main__.ModelBuilderTF2Test.test_create_faster_rcnn_model_from_config_with_example_miner): 0.21s\r\n",
      "I1212 15:35:17.673176 140704406885568 test_util.py:2457] time(__main__.ModelBuilderTF2Test.test_create_faster_rcnn_model_from_config_with_example_miner): 0.21s\r\n",
      "[       OK ] ModelBuilderTF2Test.test_create_faster_rcnn_model_from_config_with_example_miner\r\n",
      "[ RUN      ] ModelBuilderTF2Test.test_create_faster_rcnn_models_from_config_faster_rcnn_with_matmul\r\n",
      "INFO:tensorflow:time(__main__.ModelBuilderTF2Test.test_create_faster_rcnn_models_from_config_faster_rcnn_with_matmul): 1.15s\r\n",
      "I1212 15:35:18.830996 140704406885568 test_util.py:2457] time(__main__.ModelBuilderTF2Test.test_create_faster_rcnn_models_from_config_faster_rcnn_with_matmul): 1.15s\r\n",
      "[       OK ] ModelBuilderTF2Test.test_create_faster_rcnn_models_from_config_faster_rcnn_with_matmul\r\n",
      "[ RUN      ] ModelBuilderTF2Test.test_create_faster_rcnn_models_from_config_faster_rcnn_without_matmul\r\n",
      "INFO:tensorflow:time(__main__.ModelBuilderTF2Test.test_create_faster_rcnn_models_from_config_faster_rcnn_without_matmul): 4.93s\r\n",
      "I1212 15:35:23.900774 140704406885568 test_util.py:2457] time(__main__.ModelBuilderTF2Test.test_create_faster_rcnn_models_from_config_faster_rcnn_without_matmul): 4.93s\r\n",
      "[       OK ] ModelBuilderTF2Test.test_create_faster_rcnn_models_from_config_faster_rcnn_without_matmul\r\n",
      "[ RUN      ] ModelBuilderTF2Test.test_create_faster_rcnn_models_from_config_mask_rcnn_with_matmul\r\n",
      "INFO:tensorflow:time(__main__.ModelBuilderTF2Test.test_create_faster_rcnn_models_from_config_mask_rcnn_with_matmul): 1.47s\r\n",
      "I1212 15:35:25.370294 140704406885568 test_util.py:2457] time(__main__.ModelBuilderTF2Test.test_create_faster_rcnn_models_from_config_mask_rcnn_with_matmul): 1.47s\r\n",
      "[       OK ] ModelBuilderTF2Test.test_create_faster_rcnn_models_from_config_mask_rcnn_with_matmul\r\n",
      "[ RUN      ] ModelBuilderTF2Test.test_create_faster_rcnn_models_from_config_mask_rcnn_without_matmul\r\n",
      "INFO:tensorflow:time(__main__.ModelBuilderTF2Test.test_create_faster_rcnn_models_from_config_mask_rcnn_without_matmul): 1.46s\r\n",
      "I1212 15:35:26.831308 140704406885568 test_util.py:2457] time(__main__.ModelBuilderTF2Test.test_create_faster_rcnn_models_from_config_mask_rcnn_without_matmul): 1.46s\r\n",
      "[       OK ] ModelBuilderTF2Test.test_create_faster_rcnn_models_from_config_mask_rcnn_without_matmul\r\n",
      "[ RUN      ] ModelBuilderTF2Test.test_create_rfcn_model_from_config\r\n",
      "INFO:tensorflow:time(__main__.ModelBuilderTF2Test.test_create_rfcn_model_from_config): 1.48s\r\n",
      "I1212 15:35:28.316390 140704406885568 test_util.py:2457] time(__main__.ModelBuilderTF2Test.test_create_rfcn_model_from_config): 1.48s\r\n",
      "[       OK ] ModelBuilderTF2Test.test_create_rfcn_model_from_config\r\n",
      "[ RUN      ] ModelBuilderTF2Test.test_create_ssd_fpn_model_from_config\r\n",
      "INFO:tensorflow:time(__main__.ModelBuilderTF2Test.test_create_ssd_fpn_model_from_config): 0.35s\r\n",
      "I1212 15:35:28.663108 140704406885568 test_util.py:2457] time(__main__.ModelBuilderTF2Test.test_create_ssd_fpn_model_from_config): 0.35s\r\n",
      "[       OK ] ModelBuilderTF2Test.test_create_ssd_fpn_model_from_config\r\n",
      "[ RUN      ] ModelBuilderTF2Test.test_create_ssd_models_from_config\r\n",
      "I1212 15:35:31.129580 140704406885568 ssd_efficientnet_bifpn_feature_extractor.py:150] EfficientDet EfficientNet backbone version: efficientnet-b0\r\n",
      "I1212 15:35:31.130127 140704406885568 ssd_efficientnet_bifpn_feature_extractor.py:152] EfficientDet BiFPN num filters: 64\r\n",
      "I1212 15:35:31.130261 140704406885568 ssd_efficientnet_bifpn_feature_extractor.py:153] EfficientDet BiFPN num iterations: 3\r\n",
      "I1212 15:35:31.247511 140704406885568 efficientnet_model.py:143] round_filter input=32 output=32\r\n",
      "I1212 15:35:31.646000 140704406885568 efficientnet_model.py:143] round_filter input=32 output=32\r\n",
      "I1212 15:35:31.646275 140704406885568 efficientnet_model.py:143] round_filter input=16 output=16\r\n",
      "I1212 15:35:32.551011 140704406885568 efficientnet_model.py:143] round_filter input=16 output=16\r\n",
      "I1212 15:35:32.551492 140704406885568 efficientnet_model.py:143] round_filter input=24 output=24\r\n",
      "I1212 15:35:34.814118 140704406885568 efficientnet_model.py:143] round_filter input=24 output=24\r\n",
      "I1212 15:35:34.814577 140704406885568 efficientnet_model.py:143] round_filter input=40 output=40\r\n",
      "I1212 15:35:37.008068 140704406885568 efficientnet_model.py:143] round_filter input=40 output=40\r\n",
      "I1212 15:35:37.008438 140704406885568 efficientnet_model.py:143] round_filter input=80 output=80\r\n",
      "I1212 15:35:40.302956 140704406885568 efficientnet_model.py:143] round_filter input=80 output=80\r\n",
      "I1212 15:35:40.303436 140704406885568 efficientnet_model.py:143] round_filter input=112 output=112\r\n",
      "I1212 15:35:43.463963 140704406885568 efficientnet_model.py:143] round_filter input=112 output=112\r\n",
      "I1212 15:35:43.464141 140704406885568 efficientnet_model.py:143] round_filter input=192 output=192\r\n",
      "I1212 15:35:47.888108 140704406885568 efficientnet_model.py:143] round_filter input=192 output=192\r\n",
      "I1212 15:35:47.888385 140704406885568 efficientnet_model.py:143] round_filter input=320 output=320\r\n",
      "I1212 15:35:49.164080 140704406885568 efficientnet_model.py:143] round_filter input=1280 output=1280\r\n",
      "I1212 15:35:49.583481 140704406885568 efficientnet_model.py:453] Building model efficientnet with params ModelConfig(width_coefficient=1.0, depth_coefficient=1.0, resolution=224, dropout_rate=0.2, blocks=(BlockConfig(input_filters=32, output_filters=16, kernel_size=3, num_repeat=1, expand_ratio=1, strides=(1, 1), se_ratio=0.25, id_skip=True, fused_conv=False, conv_type='depthwise'), BlockConfig(input_filters=16, output_filters=24, kernel_size=3, num_repeat=2, expand_ratio=6, strides=(2, 2), se_ratio=0.25, id_skip=True, fused_conv=False, conv_type='depthwise'), BlockConfig(input_filters=24, output_filters=40, kernel_size=5, num_repeat=2, expand_ratio=6, strides=(2, 2), se_ratio=0.25, id_skip=True, fused_conv=False, conv_type='depthwise'), BlockConfig(input_filters=40, output_filters=80, kernel_size=3, num_repeat=3, expand_ratio=6, strides=(2, 2), se_ratio=0.25, id_skip=True, fused_conv=False, conv_type='depthwise'), BlockConfig(input_filters=80, output_filters=112, kernel_size=5, num_repeat=3, expand_ratio=6, strides=(1, 1), se_ratio=0.25, id_skip=True, fused_conv=False, conv_type='depthwise'), BlockConfig(input_filters=112, output_filters=192, kernel_size=5, num_repeat=4, expand_ratio=6, strides=(2, 2), se_ratio=0.25, id_skip=True, fused_conv=False, conv_type='depthwise'), BlockConfig(input_filters=192, output_filters=320, kernel_size=3, num_repeat=1, expand_ratio=6, strides=(1, 1), se_ratio=0.25, id_skip=True, fused_conv=False, conv_type='depthwise')), stem_base_filters=32, top_base_filters=1280, activation='simple_swish', batch_norm='default', bn_momentum=0.99, bn_epsilon=0.001, weight_decay=5e-06, drop_connect_rate=0.2, depth_divisor=8, min_depth=None, use_se=True, input_channels=3, num_classes=1000, model_name='efficientnet', rescale_input=False, data_format='channels_last', dtype='float32')\r\n",
      "I1212 15:35:50.386312 140704406885568 ssd_efficientnet_bifpn_feature_extractor.py:150] EfficientDet EfficientNet backbone version: efficientnet-b1\r\n",
      "I1212 15:35:50.386546 140704406885568 ssd_efficientnet_bifpn_feature_extractor.py:152] EfficientDet BiFPN num filters: 88\r\n",
      "I1212 15:35:50.386721 140704406885568 ssd_efficientnet_bifpn_feature_extractor.py:153] EfficientDet BiFPN num iterations: 4\r\n",
      "I1212 15:35:50.391069 140704406885568 efficientnet_model.py:143] round_filter input=32 output=32\r\n",
      "I1212 15:35:50.632058 140704406885568 efficientnet_model.py:143] round_filter input=32 output=32\r\n",
      "I1212 15:35:50.632297 140704406885568 efficientnet_model.py:143] round_filter input=16 output=16\r\n",
      "I1212 15:35:52.528570 140704406885568 efficientnet_model.py:143] round_filter input=16 output=16\r\n",
      "I1212 15:35:52.528765 140704406885568 efficientnet_model.py:143] round_filter input=24 output=24\r\n",
      "I1212 15:35:55.646821 140704406885568 efficientnet_model.py:143] round_filter input=24 output=24\r\n",
      "I1212 15:35:55.647219 140704406885568 efficientnet_model.py:143] round_filter input=40 output=40\r\n",
      "I1212 15:35:58.538604 140704406885568 efficientnet_model.py:143] round_filter input=40 output=40\r\n",
      "I1212 15:35:58.538799 140704406885568 efficientnet_model.py:143] round_filter input=80 output=80\r\n",
      "I1212 15:36:04.626656 140704406885568 efficientnet_model.py:143] round_filter input=80 output=80\r\n",
      "I1212 15:36:04.628128 140704406885568 efficientnet_model.py:143] round_filter input=112 output=112\r\n",
      "I1212 15:36:10.058361 140704406885568 efficientnet_model.py:143] round_filter input=112 output=112\r\n",
      "I1212 15:36:10.058603 140704406885568 efficientnet_model.py:143] round_filter input=192 output=192\r\n",
      "I1212 15:36:16.585958 140704406885568 efficientnet_model.py:143] round_filter input=192 output=192\r\n",
      "I1212 15:36:16.586143 140704406885568 efficientnet_model.py:143] round_filter input=320 output=320\r\n",
      "I1212 15:36:18.673723 140704406885568 efficientnet_model.py:143] round_filter input=1280 output=1280\r\n",
      "I1212 15:36:19.178129 140704406885568 efficientnet_model.py:453] Building model efficientnet with params ModelConfig(width_coefficient=1.0, depth_coefficient=1.1, resolution=240, dropout_rate=0.2, blocks=(BlockConfig(input_filters=32, output_filters=16, kernel_size=3, num_repeat=1, expand_ratio=1, strides=(1, 1), se_ratio=0.25, id_skip=True, fused_conv=False, conv_type='depthwise'), BlockConfig(input_filters=16, output_filters=24, kernel_size=3, num_repeat=2, expand_ratio=6, strides=(2, 2), se_ratio=0.25, id_skip=True, fused_conv=False, conv_type='depthwise'), BlockConfig(input_filters=24, output_filters=40, kernel_size=5, num_repeat=2, expand_ratio=6, strides=(2, 2), se_ratio=0.25, id_skip=True, fused_conv=False, conv_type='depthwise'), BlockConfig(input_filters=40, output_filters=80, kernel_size=3, num_repeat=3, expand_ratio=6, strides=(2, 2), se_ratio=0.25, id_skip=True, fused_conv=False, conv_type='depthwise'), BlockConfig(input_filters=80, output_filters=112, kernel_size=5, num_repeat=3, expand_ratio=6, strides=(1, 1), se_ratio=0.25, id_skip=True, fused_conv=False, conv_type='depthwise'), BlockConfig(input_filters=112, output_filters=192, kernel_size=5, num_repeat=4, expand_ratio=6, strides=(2, 2), se_ratio=0.25, id_skip=True, fused_conv=False, conv_type='depthwise'), BlockConfig(input_filters=192, output_filters=320, kernel_size=3, num_repeat=1, expand_ratio=6, strides=(1, 1), se_ratio=0.25, id_skip=True, fused_conv=False, conv_type='depthwise')), stem_base_filters=32, top_base_filters=1280, activation='simple_swish', batch_norm='default', bn_momentum=0.99, bn_epsilon=0.001, weight_decay=5e-06, drop_connect_rate=0.2, depth_divisor=8, min_depth=None, use_se=True, input_channels=3, num_classes=1000, model_name='efficientnet', rescale_input=False, data_format='channels_last', dtype='float32')\r\n",
      "I1212 15:36:19.817935 140704406885568 ssd_efficientnet_bifpn_feature_extractor.py:150] EfficientDet EfficientNet backbone version: efficientnet-b2\r\n",
      "I1212 15:36:19.818124 140704406885568 ssd_efficientnet_bifpn_feature_extractor.py:152] EfficientDet BiFPN num filters: 112\r\n",
      "I1212 15:36:19.818214 140704406885568 ssd_efficientnet_bifpn_feature_extractor.py:153] EfficientDet BiFPN num iterations: 5\r\n",
      "I1212 15:36:19.823653 140704406885568 efficientnet_model.py:143] round_filter input=32 output=32\r\n",
      "I1212 15:36:19.995352 140704406885568 efficientnet_model.py:143] round_filter input=32 output=32\r\n",
      "I1212 15:36:19.995522 140704406885568 efficientnet_model.py:143] round_filter input=16 output=16\r\n",
      "I1212 15:36:21.200459 140704406885568 efficientnet_model.py:143] round_filter input=16 output=16\r\n",
      "I1212 15:36:21.200638 140704406885568 efficientnet_model.py:143] round_filter input=24 output=24\r\n",
      "I1212 15:36:24.487525 140704406885568 efficientnet_model.py:143] round_filter input=24 output=24\r\n",
      "I1212 15:36:24.487843 140704406885568 efficientnet_model.py:143] round_filter input=40 output=48\r\n",
      "I1212 15:36:26.783932 140704406885568 efficientnet_model.py:143] round_filter input=40 output=48\r\n",
      "I1212 15:36:26.784137 140704406885568 efficientnet_model.py:143] round_filter input=80 output=88\r\n",
      "I1212 15:36:29.686770 140704406885568 efficientnet_model.py:143] round_filter input=80 output=88\r\n",
      "I1212 15:36:29.686947 140704406885568 efficientnet_model.py:143] round_filter input=112 output=120\r\n",
      "I1212 15:36:32.896272 140704406885568 efficientnet_model.py:143] round_filter input=112 output=120\r\n",
      "I1212 15:36:32.896460 140704406885568 efficientnet_model.py:143] round_filter input=192 output=208\r\n",
      "I1212 15:36:36.242676 140704406885568 efficientnet_model.py:143] round_filter input=192 output=208\r\n",
      "I1212 15:36:36.242861 140704406885568 efficientnet_model.py:143] round_filter input=320 output=352\r\n",
      "I1212 15:36:37.699180 140704406885568 efficientnet_model.py:143] round_filter input=1280 output=1408\r\n",
      "I1212 15:36:38.036433 140704406885568 efficientnet_model.py:453] Building model efficientnet with params ModelConfig(width_coefficient=1.1, depth_coefficient=1.2, resolution=260, dropout_rate=0.3, blocks=(BlockConfig(input_filters=32, output_filters=16, kernel_size=3, num_repeat=1, expand_ratio=1, strides=(1, 1), se_ratio=0.25, id_skip=True, fused_conv=False, conv_type='depthwise'), BlockConfig(input_filters=16, output_filters=24, kernel_size=3, num_repeat=2, expand_ratio=6, strides=(2, 2), se_ratio=0.25, id_skip=True, fused_conv=False, conv_type='depthwise'), BlockConfig(input_filters=24, output_filters=40, kernel_size=5, num_repeat=2, expand_ratio=6, strides=(2, 2), se_ratio=0.25, id_skip=True, fused_conv=False, conv_type='depthwise'), BlockConfig(input_filters=40, output_filters=80, kernel_size=3, num_repeat=3, expand_ratio=6, strides=(2, 2), se_ratio=0.25, id_skip=True, fused_conv=False, conv_type='depthwise'), BlockConfig(input_filters=80, output_filters=112, kernel_size=5, num_repeat=3, expand_ratio=6, strides=(1, 1), se_ratio=0.25, id_skip=True, fused_conv=False, conv_type='depthwise'), BlockConfig(input_filters=112, output_filters=192, kernel_size=5, num_repeat=4, expand_ratio=6, strides=(2, 2), se_ratio=0.25, id_skip=True, fused_conv=False, conv_type='depthwise'), BlockConfig(input_filters=192, output_filters=320, kernel_size=3, num_repeat=1, expand_ratio=6, strides=(1, 1), se_ratio=0.25, id_skip=True, fused_conv=False, conv_type='depthwise')), stem_base_filters=32, top_base_filters=1280, activation='simple_swish', batch_norm='default', bn_momentum=0.99, bn_epsilon=0.001, weight_decay=5e-06, drop_connect_rate=0.2, depth_divisor=8, min_depth=None, use_se=True, input_channels=3, num_classes=1000, model_name='efficientnet', rescale_input=False, data_format='channels_last', dtype='float32')\r\n",
      "I1212 15:36:38.519537 140704406885568 ssd_efficientnet_bifpn_feature_extractor.py:150] EfficientDet EfficientNet backbone version: efficientnet-b3\r\n",
      "I1212 15:36:38.519842 140704406885568 ssd_efficientnet_bifpn_feature_extractor.py:152] EfficientDet BiFPN num filters: 160\r\n",
      "I1212 15:36:38.519939 140704406885568 ssd_efficientnet_bifpn_feature_extractor.py:153] EfficientDet BiFPN num iterations: 6\r\n",
      "I1212 15:36:38.526088 140704406885568 efficientnet_model.py:143] round_filter input=32 output=40\r\n",
      "I1212 15:36:38.682750 140704406885568 efficientnet_model.py:143] round_filter input=32 output=40\r\n",
      "I1212 15:36:38.682926 140704406885568 efficientnet_model.py:143] round_filter input=16 output=24\r\n",
      "I1212 15:36:39.651185 140704406885568 efficientnet_model.py:143] round_filter input=16 output=24\r\n",
      "I1212 15:36:39.651440 140704406885568 efficientnet_model.py:143] round_filter input=24 output=32\r\n",
      "I1212 15:36:41.594554 140704406885568 efficientnet_model.py:143] round_filter input=24 output=32\r\n",
      "I1212 15:36:41.594756 140704406885568 efficientnet_model.py:143] round_filter input=40 output=48\r\n",
      "I1212 15:36:43.598714 140704406885568 efficientnet_model.py:143] round_filter input=40 output=48\r\n",
      "I1212 15:36:43.599155 140704406885568 efficientnet_model.py:143] round_filter input=80 output=96\r\n",
      "I1212 15:36:46.819572 140704406885568 efficientnet_model.py:143] round_filter input=80 output=96\r\n",
      "I1212 15:36:46.819776 140704406885568 efficientnet_model.py:143] round_filter input=112 output=136\r\n",
      "I1212 15:36:49.994298 140704406885568 efficientnet_model.py:143] round_filter input=112 output=136\r\n",
      "I1212 15:36:49.994486 140704406885568 efficientnet_model.py:143] round_filter input=192 output=232\r\n",
      "I1212 15:36:53.961382 140704406885568 efficientnet_model.py:143] round_filter input=192 output=232\r\n",
      "I1212 15:36:53.961743 140704406885568 efficientnet_model.py:143] round_filter input=320 output=384\r\n",
      "I1212 15:36:55.194789 140704406885568 efficientnet_model.py:143] round_filter input=1280 output=1536\r\n",
      "I1212 15:36:55.394470 140704406885568 efficientnet_model.py:453] Building model efficientnet with params ModelConfig(width_coefficient=1.2, depth_coefficient=1.4, resolution=300, dropout_rate=0.3, blocks=(BlockConfig(input_filters=32, output_filters=16, kernel_size=3, num_repeat=1, expand_ratio=1, strides=(1, 1), se_ratio=0.25, id_skip=True, fused_conv=False, conv_type='depthwise'), BlockConfig(input_filters=16, output_filters=24, kernel_size=3, num_repeat=2, expand_ratio=6, strides=(2, 2), se_ratio=0.25, id_skip=True, fused_conv=False, conv_type='depthwise'), BlockConfig(input_filters=24, output_filters=40, kernel_size=5, num_repeat=2, expand_ratio=6, strides=(2, 2), se_ratio=0.25, id_skip=True, fused_conv=False, conv_type='depthwise'), BlockConfig(input_filters=40, output_filters=80, kernel_size=3, num_repeat=3, expand_ratio=6, strides=(2, 2), se_ratio=0.25, id_skip=True, fused_conv=False, conv_type='depthwise'), BlockConfig(input_filters=80, output_filters=112, kernel_size=5, num_repeat=3, expand_ratio=6, strides=(1, 1), se_ratio=0.25, id_skip=True, fused_conv=False, conv_type='depthwise'), BlockConfig(input_filters=112, output_filters=192, kernel_size=5, num_repeat=4, expand_ratio=6, strides=(2, 2), se_ratio=0.25, id_skip=True, fused_conv=False, conv_type='depthwise'), BlockConfig(input_filters=192, output_filters=320, kernel_size=3, num_repeat=1, expand_ratio=6, strides=(1, 1), se_ratio=0.25, id_skip=True, fused_conv=False, conv_type='depthwise')), stem_base_filters=32, top_base_filters=1280, activation='simple_swish', batch_norm='default', bn_momentum=0.99, bn_epsilon=0.001, weight_decay=5e-06, drop_connect_rate=0.2, depth_divisor=8, min_depth=None, use_se=True, input_channels=3, num_classes=1000, model_name='efficientnet', rescale_input=False, data_format='channels_last', dtype='float32')\r\n",
      "I1212 15:36:56.076902 140704406885568 ssd_efficientnet_bifpn_feature_extractor.py:150] EfficientDet EfficientNet backbone version: efficientnet-b4\r\n",
      "I1212 15:36:56.094933 140704406885568 ssd_efficientnet_bifpn_feature_extractor.py:152] EfficientDet BiFPN num filters: 224\r\n",
      "I1212 15:36:56.107400 140704406885568 ssd_efficientnet_bifpn_feature_extractor.py:153] EfficientDet BiFPN num iterations: 7\r\n",
      "I1212 15:36:56.138853 140704406885568 efficientnet_model.py:143] round_filter input=32 output=48\r\n",
      "I1212 15:36:56.320475 140704406885568 efficientnet_model.py:143] round_filter input=32 output=48\r\n",
      "I1212 15:36:56.320721 140704406885568 efficientnet_model.py:143] round_filter input=16 output=24\r\n",
      "I1212 15:36:57.777037 140704406885568 efficientnet_model.py:143] round_filter input=16 output=24\r\n",
      "I1212 15:36:57.777338 140704406885568 efficientnet_model.py:143] round_filter input=24 output=32\r\n",
      "I1212 15:37:00.517714 140704406885568 efficientnet_model.py:143] round_filter input=24 output=32\r\n",
      "I1212 15:37:00.517966 140704406885568 efficientnet_model.py:143] round_filter input=40 output=56\r\n",
      "I1212 15:37:05.110074 140704406885568 efficientnet_model.py:143] round_filter input=40 output=56\r\n",
      "I1212 15:37:05.110282 140704406885568 efficientnet_model.py:143] round_filter input=80 output=112\r\n",
      "I1212 15:37:11.436186 140704406885568 efficientnet_model.py:143] round_filter input=80 output=112\r\n",
      "I1212 15:37:11.437304 140704406885568 efficientnet_model.py:143] round_filter input=112 output=160\r\n",
      "I1212 15:37:18.434360 140704406885568 efficientnet_model.py:143] round_filter input=112 output=160\r\n",
      "I1212 15:37:18.434568 140704406885568 efficientnet_model.py:143] round_filter input=192 output=272\r\n",
      "I1212 15:37:26.810327 140704406885568 efficientnet_model.py:143] round_filter input=192 output=272\r\n",
      "I1212 15:37:26.810543 140704406885568 efficientnet_model.py:143] round_filter input=320 output=448\r\n",
      "I1212 15:37:28.770185 140704406885568 efficientnet_model.py:143] round_filter input=1280 output=1792\r\n",
      "I1212 15:37:29.242996 140704406885568 efficientnet_model.py:453] Building model efficientnet with params ModelConfig(width_coefficient=1.4, depth_coefficient=1.8, resolution=380, dropout_rate=0.4, blocks=(BlockConfig(input_filters=32, output_filters=16, kernel_size=3, num_repeat=1, expand_ratio=1, strides=(1, 1), se_ratio=0.25, id_skip=True, fused_conv=False, conv_type='depthwise'), BlockConfig(input_filters=16, output_filters=24, kernel_size=3, num_repeat=2, expand_ratio=6, strides=(2, 2), se_ratio=0.25, id_skip=True, fused_conv=False, conv_type='depthwise'), BlockConfig(input_filters=24, output_filters=40, kernel_size=5, num_repeat=2, expand_ratio=6, strides=(2, 2), se_ratio=0.25, id_skip=True, fused_conv=False, conv_type='depthwise'), BlockConfig(input_filters=40, output_filters=80, kernel_size=3, num_repeat=3, expand_ratio=6, strides=(2, 2), se_ratio=0.25, id_skip=True, fused_conv=False, conv_type='depthwise'), BlockConfig(input_filters=80, output_filters=112, kernel_size=5, num_repeat=3, expand_ratio=6, strides=(1, 1), se_ratio=0.25, id_skip=True, fused_conv=False, conv_type='depthwise'), BlockConfig(input_filters=112, output_filters=192, kernel_size=5, num_repeat=4, expand_ratio=6, strides=(2, 2), se_ratio=0.25, id_skip=True, fused_conv=False, conv_type='depthwise'), BlockConfig(input_filters=192, output_filters=320, kernel_size=3, num_repeat=1, expand_ratio=6, strides=(1, 1), se_ratio=0.25, id_skip=True, fused_conv=False, conv_type='depthwise')), stem_base_filters=32, top_base_filters=1280, activation='simple_swish', batch_norm='default', bn_momentum=0.99, bn_epsilon=0.001, weight_decay=5e-06, drop_connect_rate=0.2, depth_divisor=8, min_depth=None, use_se=True, input_channels=3, num_classes=1000, model_name='efficientnet', rescale_input=False, data_format='channels_last', dtype='float32')\r\n",
      "I1212 15:37:30.250041 140704406885568 ssd_efficientnet_bifpn_feature_extractor.py:150] EfficientDet EfficientNet backbone version: efficientnet-b5\r\n",
      "I1212 15:37:30.250221 140704406885568 ssd_efficientnet_bifpn_feature_extractor.py:152] EfficientDet BiFPN num filters: 288\r\n",
      "I1212 15:37:30.250310 140704406885568 ssd_efficientnet_bifpn_feature_extractor.py:153] EfficientDet BiFPN num iterations: 7\r\n",
      "I1212 15:37:30.256649 140704406885568 efficientnet_model.py:143] round_filter input=32 output=48\r\n",
      "I1212 15:37:30.394388 140704406885568 efficientnet_model.py:143] round_filter input=32 output=48\r\n",
      "I1212 15:37:30.394567 140704406885568 efficientnet_model.py:143] round_filter input=16 output=24\r\n",
      "I1212 15:37:32.872431 140704406885568 efficientnet_model.py:143] round_filter input=16 output=24\r\n",
      "I1212 15:37:32.872624 140704406885568 efficientnet_model.py:143] round_filter input=24 output=40\r\n",
      "I1212 15:37:36.276463 140704406885568 efficientnet_model.py:143] round_filter input=24 output=40\r\n",
      "I1212 15:37:36.276986 140704406885568 efficientnet_model.py:143] round_filter input=40 output=64\r\n",
      "I1212 15:37:39.085365 140704406885568 efficientnet_model.py:143] round_filter input=40 output=64\r\n",
      "I1212 15:37:39.085810 140704406885568 efficientnet_model.py:143] round_filter input=80 output=128\r\n",
      "I1212 15:37:43.891908 140704406885568 efficientnet_model.py:143] round_filter input=80 output=128\r\n",
      "I1212 15:37:43.892096 140704406885568 efficientnet_model.py:143] round_filter input=112 output=176\r\n",
      "I1212 15:37:48.945155 140704406885568 efficientnet_model.py:143] round_filter input=112 output=176\r\n",
      "I1212 15:37:48.945483 140704406885568 efficientnet_model.py:143] round_filter input=192 output=304\r\n",
      "I1212 15:37:56.062019 140704406885568 efficientnet_model.py:143] round_filter input=192 output=304\r\n",
      "I1212 15:37:56.062350 140704406885568 efficientnet_model.py:143] round_filter input=320 output=512\r\n",
      "I1212 15:37:58.368489 140704406885568 efficientnet_model.py:143] round_filter input=1280 output=2048\r\n",
      "I1212 15:37:58.685790 140704406885568 efficientnet_model.py:453] Building model efficientnet with params ModelConfig(width_coefficient=1.6, depth_coefficient=2.2, resolution=456, dropout_rate=0.4, blocks=(BlockConfig(input_filters=32, output_filters=16, kernel_size=3, num_repeat=1, expand_ratio=1, strides=(1, 1), se_ratio=0.25, id_skip=True, fused_conv=False, conv_type='depthwise'), BlockConfig(input_filters=16, output_filters=24, kernel_size=3, num_repeat=2, expand_ratio=6, strides=(2, 2), se_ratio=0.25, id_skip=True, fused_conv=False, conv_type='depthwise'), BlockConfig(input_filters=24, output_filters=40, kernel_size=5, num_repeat=2, expand_ratio=6, strides=(2, 2), se_ratio=0.25, id_skip=True, fused_conv=False, conv_type='depthwise'), BlockConfig(input_filters=40, output_filters=80, kernel_size=3, num_repeat=3, expand_ratio=6, strides=(2, 2), se_ratio=0.25, id_skip=True, fused_conv=False, conv_type='depthwise'), BlockConfig(input_filters=80, output_filters=112, kernel_size=5, num_repeat=3, expand_ratio=6, strides=(1, 1), se_ratio=0.25, id_skip=True, fused_conv=False, conv_type='depthwise'), BlockConfig(input_filters=112, output_filters=192, kernel_size=5, num_repeat=4, expand_ratio=6, strides=(2, 2), se_ratio=0.25, id_skip=True, fused_conv=False, conv_type='depthwise'), BlockConfig(input_filters=192, output_filters=320, kernel_size=3, num_repeat=1, expand_ratio=6, strides=(1, 1), se_ratio=0.25, id_skip=True, fused_conv=False, conv_type='depthwise')), stem_base_filters=32, top_base_filters=1280, activation='simple_swish', batch_norm='default', bn_momentum=0.99, bn_epsilon=0.001, weight_decay=5e-06, drop_connect_rate=0.2, depth_divisor=8, min_depth=None, use_se=True, input_channels=3, num_classes=1000, model_name='efficientnet', rescale_input=False, data_format='channels_last', dtype='float32')\r\n",
      "I1212 15:37:59.445174 140704406885568 ssd_efficientnet_bifpn_feature_extractor.py:150] EfficientDet EfficientNet backbone version: efficientnet-b6\r\n",
      "I1212 15:37:59.445430 140704406885568 ssd_efficientnet_bifpn_feature_extractor.py:152] EfficientDet BiFPN num filters: 384\r\n",
      "I1212 15:37:59.445662 140704406885568 ssd_efficientnet_bifpn_feature_extractor.py:153] EfficientDet BiFPN num iterations: 8\r\n",
      "I1212 15:37:59.453387 140704406885568 efficientnet_model.py:143] round_filter input=32 output=56\r\n",
      "I1212 15:37:59.577565 140704406885568 efficientnet_model.py:143] round_filter input=32 output=56\r\n",
      "I1212 15:37:59.577833 140704406885568 efficientnet_model.py:143] round_filter input=16 output=32\r\n",
      "I1212 15:38:01.076929 140704406885568 efficientnet_model.py:143] round_filter input=16 output=32\r\n",
      "I1212 15:38:01.077429 140704406885568 efficientnet_model.py:143] round_filter input=24 output=40\r\n",
      "I1212 15:38:04.511613 140704406885568 efficientnet_model.py:143] round_filter input=24 output=40\r\n",
      "I1212 15:38:04.511852 140704406885568 efficientnet_model.py:143] round_filter input=40 output=72\r\n",
      "I1212 15:38:11.094679 140704406885568 efficientnet_model.py:143] round_filter input=40 output=72\r\n",
      "I1212 15:38:11.155320 140704406885568 efficientnet_model.py:143] round_filter input=80 output=144\r\n",
      "I1212 15:38:28.661400 140704406885568 efficientnet_model.py:143] round_filter input=80 output=144\r\n",
      "I1212 15:38:28.661692 140704406885568 efficientnet_model.py:143] round_filter input=112 output=200\r\n",
      "I1212 15:38:35.065582 140704406885568 efficientnet_model.py:143] round_filter input=112 output=200\r\n",
      "I1212 15:38:35.066191 140704406885568 efficientnet_model.py:143] round_filter input=192 output=344\r\n",
      "I1212 15:38:54.122146 140704406885568 efficientnet_model.py:143] round_filter input=192 output=344\r\n",
      "I1212 15:38:54.126181 140704406885568 efficientnet_model.py:143] round_filter input=320 output=576\r\n",
      "I1212 15:38:58.468159 140704406885568 efficientnet_model.py:143] round_filter input=1280 output=2304\r\n",
      "I1212 15:38:58.901800 140704406885568 efficientnet_model.py:453] Building model efficientnet with params ModelConfig(width_coefficient=1.8, depth_coefficient=2.6, resolution=528, dropout_rate=0.5, blocks=(BlockConfig(input_filters=32, output_filters=16, kernel_size=3, num_repeat=1, expand_ratio=1, strides=(1, 1), se_ratio=0.25, id_skip=True, fused_conv=False, conv_type='depthwise'), BlockConfig(input_filters=16, output_filters=24, kernel_size=3, num_repeat=2, expand_ratio=6, strides=(2, 2), se_ratio=0.25, id_skip=True, fused_conv=False, conv_type='depthwise'), BlockConfig(input_filters=24, output_filters=40, kernel_size=5, num_repeat=2, expand_ratio=6, strides=(2, 2), se_ratio=0.25, id_skip=True, fused_conv=False, conv_type='depthwise'), BlockConfig(input_filters=40, output_filters=80, kernel_size=3, num_repeat=3, expand_ratio=6, strides=(2, 2), se_ratio=0.25, id_skip=True, fused_conv=False, conv_type='depthwise'), BlockConfig(input_filters=80, output_filters=112, kernel_size=5, num_repeat=3, expand_ratio=6, strides=(1, 1), se_ratio=0.25, id_skip=True, fused_conv=False, conv_type='depthwise'), BlockConfig(input_filters=112, output_filters=192, kernel_size=5, num_repeat=4, expand_ratio=6, strides=(2, 2), se_ratio=0.25, id_skip=True, fused_conv=False, conv_type='depthwise'), BlockConfig(input_filters=192, output_filters=320, kernel_size=3, num_repeat=1, expand_ratio=6, strides=(1, 1), se_ratio=0.25, id_skip=True, fused_conv=False, conv_type='depthwise')), stem_base_filters=32, top_base_filters=1280, activation='simple_swish', batch_norm='default', bn_momentum=0.99, bn_epsilon=0.001, weight_decay=5e-06, drop_connect_rate=0.2, depth_divisor=8, min_depth=None, use_se=True, input_channels=3, num_classes=1000, model_name='efficientnet', rescale_input=False, data_format='channels_last', dtype='float32')\r\n",
      "I1212 15:39:00.922600 140704406885568 ssd_efficientnet_bifpn_feature_extractor.py:150] EfficientDet EfficientNet backbone version: efficientnet-b7\r\n",
      "I1212 15:39:00.922778 140704406885568 ssd_efficientnet_bifpn_feature_extractor.py:152] EfficientDet BiFPN num filters: 384\r\n",
      "I1212 15:39:00.923031 140704406885568 ssd_efficientnet_bifpn_feature_extractor.py:153] EfficientDet BiFPN num iterations: 8\r\n",
      "I1212 15:39:01.326671 140704406885568 efficientnet_model.py:143] round_filter input=32 output=64\r\n",
      "I1212 15:39:01.408902 140704406885568 efficientnet_model.py:143] round_filter input=32 output=64\r\n",
      "I1212 15:39:01.409399 140704406885568 efficientnet_model.py:143] round_filter input=16 output=32\r\n",
      "I1212 15:39:07.292677 140704406885568 efficientnet_model.py:143] round_filter input=16 output=32\r\n",
      "I1212 15:39:07.293402 140704406885568 efficientnet_model.py:143] round_filter input=24 output=48\r\n",
      "I1212 15:39:16.584239 140704406885568 efficientnet_model.py:143] round_filter input=24 output=48\r\n",
      "I1212 15:39:16.584417 140704406885568 efficientnet_model.py:143] round_filter input=40 output=80\r\n",
      "I1212 15:39:26.851437 140704406885568 efficientnet_model.py:143] round_filter input=40 output=80\r\n",
      "I1212 15:39:26.851701 140704406885568 efficientnet_model.py:143] round_filter input=80 output=160\r\n",
      "I1212 15:39:39.249748 140704406885568 efficientnet_model.py:143] round_filter input=80 output=160\r\n",
      "I1212 15:39:39.251383 140704406885568 efficientnet_model.py:143] round_filter input=112 output=224\r\n",
      "I1212 15:39:51.784888 140704406885568 efficientnet_model.py:143] round_filter input=112 output=224\r\n",
      "I1212 15:39:51.785058 140704406885568 efficientnet_model.py:143] round_filter input=192 output=384\r\n",
      "I1212 15:40:10.085960 140704406885568 efficientnet_model.py:143] round_filter input=192 output=384\r\n",
      "I1212 15:40:10.086158 140704406885568 efficientnet_model.py:143] round_filter input=320 output=640\r\n",
      "I1212 15:40:14.449883 140704406885568 efficientnet_model.py:143] round_filter input=1280 output=2560\r\n",
      "I1212 15:40:14.933367 140704406885568 efficientnet_model.py:453] Building model efficientnet with params ModelConfig(width_coefficient=2.0, depth_coefficient=3.1, resolution=600, dropout_rate=0.5, blocks=(BlockConfig(input_filters=32, output_filters=16, kernel_size=3, num_repeat=1, expand_ratio=1, strides=(1, 1), se_ratio=0.25, id_skip=True, fused_conv=False, conv_type='depthwise'), BlockConfig(input_filters=16, output_filters=24, kernel_size=3, num_repeat=2, expand_ratio=6, strides=(2, 2), se_ratio=0.25, id_skip=True, fused_conv=False, conv_type='depthwise'), BlockConfig(input_filters=24, output_filters=40, kernel_size=5, num_repeat=2, expand_ratio=6, strides=(2, 2), se_ratio=0.25, id_skip=True, fused_conv=False, conv_type='depthwise'), BlockConfig(input_filters=40, output_filters=80, kernel_size=3, num_repeat=3, expand_ratio=6, strides=(2, 2), se_ratio=0.25, id_skip=True, fused_conv=False, conv_type='depthwise'), BlockConfig(input_filters=80, output_filters=112, kernel_size=5, num_repeat=3, expand_ratio=6, strides=(1, 1), se_ratio=0.25, id_skip=True, fused_conv=False, conv_type='depthwise'), BlockConfig(input_filters=112, output_filters=192, kernel_size=5, num_repeat=4, expand_ratio=6, strides=(2, 2), se_ratio=0.25, id_skip=True, fused_conv=False, conv_type='depthwise'), BlockConfig(input_filters=192, output_filters=320, kernel_size=3, num_repeat=1, expand_ratio=6, strides=(1, 1), se_ratio=0.25, id_skip=True, fused_conv=False, conv_type='depthwise')), stem_base_filters=32, top_base_filters=1280, activation='simple_swish', batch_norm='default', bn_momentum=0.99, bn_epsilon=0.001, weight_decay=5e-06, drop_connect_rate=0.2, depth_divisor=8, min_depth=None, use_se=True, input_channels=3, num_classes=1000, model_name='efficientnet', rescale_input=False, data_format='channels_last', dtype='float32')\r\n",
      "INFO:tensorflow:time(__main__.ModelBuilderTF2Test.test_create_ssd_models_from_config): 287.83s\r\n",
      "I1212 15:40:16.499794 140704406885568 test_util.py:2457] time(__main__.ModelBuilderTF2Test.test_create_ssd_models_from_config): 287.83s\r\n",
      "[       OK ] ModelBuilderTF2Test.test_create_ssd_models_from_config\r\n",
      "[ RUN      ] ModelBuilderTF2Test.test_invalid_faster_rcnn_batchnorm_update\r\n",
      "INFO:tensorflow:time(__main__.ModelBuilderTF2Test.test_invalid_faster_rcnn_batchnorm_update): 0.01s\r\n",
      "I1212 15:40:17.586800 140704406885568 test_util.py:2457] time(__main__.ModelBuilderTF2Test.test_invalid_faster_rcnn_batchnorm_update): 0.01s\r\n",
      "[       OK ] ModelBuilderTF2Test.test_invalid_faster_rcnn_batchnorm_update\r\n",
      "[ RUN      ] ModelBuilderTF2Test.test_invalid_first_stage_nms_iou_threshold\r\n",
      "INFO:tensorflow:time(__main__.ModelBuilderTF2Test.test_invalid_first_stage_nms_iou_threshold): 0.0s\r\n",
      "I1212 15:40:17.590806 140704406885568 test_util.py:2457] time(__main__.ModelBuilderTF2Test.test_invalid_first_stage_nms_iou_threshold): 0.0s\r\n",
      "[       OK ] ModelBuilderTF2Test.test_invalid_first_stage_nms_iou_threshold\r\n",
      "[ RUN      ] ModelBuilderTF2Test.test_invalid_model_config_proto\r\n",
      "INFO:tensorflow:time(__main__.ModelBuilderTF2Test.test_invalid_model_config_proto): 0.0s\r\n",
      "I1212 15:40:17.591728 140704406885568 test_util.py:2457] time(__main__.ModelBuilderTF2Test.test_invalid_model_config_proto): 0.0s\r\n",
      "[       OK ] ModelBuilderTF2Test.test_invalid_model_config_proto\r\n",
      "[ RUN      ] ModelBuilderTF2Test.test_invalid_second_stage_batch_size\r\n",
      "INFO:tensorflow:time(__main__.ModelBuilderTF2Test.test_invalid_second_stage_batch_size): 0.01s\r\n",
      "I1212 15:40:17.597783 140704406885568 test_util.py:2457] time(__main__.ModelBuilderTF2Test.test_invalid_second_stage_batch_size): 0.01s\r\n",
      "[       OK ] ModelBuilderTF2Test.test_invalid_second_stage_batch_size\r\n",
      "[ RUN      ] ModelBuilderTF2Test.test_session\r\n",
      "[  SKIPPED ] ModelBuilderTF2Test.test_session\r\n",
      "[ RUN      ] ModelBuilderTF2Test.test_unknown_faster_rcnn_feature_extractor\r\n",
      "INFO:tensorflow:time(__main__.ModelBuilderTF2Test.test_unknown_faster_rcnn_feature_extractor): 0.07s\r\n",
      "I1212 15:40:17.673283 140704406885568 test_util.py:2457] time(__main__.ModelBuilderTF2Test.test_unknown_faster_rcnn_feature_extractor): 0.07s\r\n",
      "[       OK ] ModelBuilderTF2Test.test_unknown_faster_rcnn_feature_extractor\r\n",
      "[ RUN      ] ModelBuilderTF2Test.test_unknown_meta_architecture\r\n",
      "INFO:tensorflow:time(__main__.ModelBuilderTF2Test.test_unknown_meta_architecture): 0.0s\r\n",
      "I1212 15:40:17.674033 140704406885568 test_util.py:2457] time(__main__.ModelBuilderTF2Test.test_unknown_meta_architecture): 0.0s\r\n",
      "[       OK ] ModelBuilderTF2Test.test_unknown_meta_architecture\r\n",
      "[ RUN      ] ModelBuilderTF2Test.test_unknown_ssd_feature_extractor\r\n",
      "INFO:tensorflow:time(__main__.ModelBuilderTF2Test.test_unknown_ssd_feature_extractor): 0.1s\r\n",
      "I1212 15:40:17.772112 140704406885568 test_util.py:2457] time(__main__.ModelBuilderTF2Test.test_unknown_ssd_feature_extractor): 0.1s\r\n",
      "[       OK ] ModelBuilderTF2Test.test_unknown_ssd_feature_extractor\r\n",
      "----------------------------------------------------------------------\r\n",
      "Ran 24 tests in 354.934s\r\n",
      "\r\n",
      "OK (skipped=1)\r\n"
     ]
    }
   ],
   "source": [
    "# validate the proper installation (returns OK if everything worked properly)\n",
    "VERIFICATION_SCRIPT = os.path.join(paths['APIMODEL_PATH'], 'research', 'object_detection', 'builders', 'model_builder_tf2_test.py')\n",
    "!python {VERIFICATION_SCRIPT}"
   ]
  },
  {
   "cell_type": "code",
   "execution_count": 11,
   "outputs": [
    {
     "name": "stdout",
     "output_type": "stream",
     "text": [
      "Requirement already satisfied: opencv-python in /Users/francoterranova/lib/python3.9/site-packages (4.6.0.66)\r\n",
      "Requirement already satisfied: numpy>=1.14.5 in /Users/francoterranova/lib/python3.9/site-packages (from opencv-python) (1.22.4)\r\n"
     ]
    }
   ],
   "source": [
    "!pip install opencv-python"
   ],
   "metadata": {
    "collapsed": false
   }
  },
  {
   "cell_type": "code",
   "execution_count": 12,
   "metadata": {
    "collapsed": true
   },
   "outputs": [
    {
     "name": "stdout",
     "output_type": "stream",
     "text": [
      "Requirement already satisfied: tensorflow in /Users/francoterranova/lib/python3.9/site-packages (2.11.0)\r\n",
      "Requirement already satisfied: packaging in /Users/francoterranova/lib/python3.9/site-packages (from tensorflow) (21.3)\r\n",
      "Requirement already satisfied: libclang>=13.0.0 in /Users/francoterranova/lib/python3.9/site-packages (from tensorflow) (14.0.6)\r\n",
      "Requirement already satisfied: six>=1.12.0 in /Users/francoterranova/lib/python3.9/site-packages (from tensorflow) (1.16.0)\r\n",
      "Requirement already satisfied: tensorboard<2.12,>=2.11 in /Users/francoterranova/lib/python3.9/site-packages (from tensorflow) (2.11.0)\r\n",
      "Requirement already satisfied: absl-py>=1.0.0 in /Users/francoterranova/lib/python3.9/site-packages (from tensorflow) (1.3.0)\r\n",
      "Requirement already satisfied: astunparse>=1.6.0 in /Users/francoterranova/lib/python3.9/site-packages (from tensorflow) (1.6.3)\r\n",
      "Requirement already satisfied: flatbuffers>=2.0 in /Users/francoterranova/lib/python3.9/site-packages (from tensorflow) (22.11.23)\r\n",
      "Requirement already satisfied: typing-extensions>=3.6.6 in /Users/francoterranova/lib/python3.9/site-packages (from tensorflow) (4.4.0)\r\n",
      "Requirement already satisfied: grpcio<2.0,>=1.24.3 in /Users/francoterranova/lib/python3.9/site-packages (from tensorflow) (1.51.1)\r\n",
      "Collecting protobuf<3.20,>=3.9.2\r\n",
      "  Using cached protobuf-3.19.6-cp39-cp39-macosx_10_9_x86_64.whl (980 kB)\r\n",
      "Requirement already satisfied: numpy>=1.20 in /Users/francoterranova/lib/python3.9/site-packages (from tensorflow) (1.22.4)\r\n",
      "Requirement already satisfied: gast<=0.4.0,>=0.2.1 in /Users/francoterranova/lib/python3.9/site-packages (from tensorflow) (0.4.0)\r\n",
      "Requirement already satisfied: tensorflow-io-gcs-filesystem>=0.23.1 in /Users/francoterranova/lib/python3.9/site-packages (from tensorflow) (0.28.0)\r\n",
      "Requirement already satisfied: google-pasta>=0.1.1 in /Users/francoterranova/lib/python3.9/site-packages (from tensorflow) (0.2.0)\r\n",
      "Requirement already satisfied: h5py>=2.9.0 in /Users/francoterranova/lib/python3.9/site-packages (from tensorflow) (3.7.0)\r\n",
      "Requirement already satisfied: tensorflow-estimator<2.12,>=2.11.0 in /Users/francoterranova/lib/python3.9/site-packages (from tensorflow) (2.11.0)\r\n",
      "Requirement already satisfied: keras<2.12,>=2.11.0 in /Users/francoterranova/lib/python3.9/site-packages (from tensorflow) (2.11.0)\r\n",
      "Requirement already satisfied: setuptools in /Users/francoterranova/lib/python3.9/site-packages (from tensorflow) (60.2.0)\r\n",
      "Requirement already satisfied: opt-einsum>=2.3.2 in /Users/francoterranova/lib/python3.9/site-packages (from tensorflow) (3.3.0)\r\n",
      "Requirement already satisfied: wrapt>=1.11.0 in /Users/francoterranova/lib/python3.9/site-packages (from tensorflow) (1.14.1)\r\n",
      "Requirement already satisfied: termcolor>=1.1.0 in /Users/francoterranova/lib/python3.9/site-packages (from tensorflow) (2.1.1)\r\n",
      "Requirement already satisfied: wheel<1.0,>=0.23.0 in /Users/francoterranova/lib/python3.9/site-packages (from astunparse>=1.6.0->tensorflow) (0.37.1)\r\n",
      "Requirement already satisfied: google-auth-oauthlib<0.5,>=0.4.1 in /Users/francoterranova/lib/python3.9/site-packages (from tensorboard<2.12,>=2.11->tensorflow) (0.4.6)\r\n",
      "Requirement already satisfied: tensorboard-plugin-wit>=1.6.0 in /Users/francoterranova/lib/python3.9/site-packages (from tensorboard<2.12,>=2.11->tensorflow) (1.8.1)\r\n",
      "Requirement already satisfied: google-auth<3,>=1.6.3 in /Users/francoterranova/lib/python3.9/site-packages (from tensorboard<2.12,>=2.11->tensorflow) (2.15.0)\r\n",
      "Requirement already satisfied: werkzeug>=1.0.1 in /Users/francoterranova/lib/python3.9/site-packages (from tensorboard<2.12,>=2.11->tensorflow) (2.2.2)\r\n",
      "Requirement already satisfied: markdown>=2.6.8 in /Users/francoterranova/lib/python3.9/site-packages (from tensorboard<2.12,>=2.11->tensorflow) (3.4.1)\r\n",
      "Requirement already satisfied: tensorboard-data-server<0.7.0,>=0.6.0 in /Users/francoterranova/lib/python3.9/site-packages (from tensorboard<2.12,>=2.11->tensorflow) (0.6.1)\r\n",
      "Requirement already satisfied: requests<3,>=2.21.0 in /Users/francoterranova/lib/python3.9/site-packages (from tensorboard<2.12,>=2.11->tensorflow) (2.28.1)\r\n",
      "Requirement already satisfied: pyparsing!=3.0.5,>=2.0.2 in /Users/francoterranova/lib/python3.9/site-packages (from packaging->tensorflow) (2.4.7)\r\n",
      "Requirement already satisfied: rsa<5,>=3.1.4 in /Users/francoterranova/lib/python3.9/site-packages (from google-auth<3,>=1.6.3->tensorboard<2.12,>=2.11->tensorflow) (4.9)\r\n",
      "Requirement already satisfied: pyasn1-modules>=0.2.1 in /Users/francoterranova/lib/python3.9/site-packages (from google-auth<3,>=1.6.3->tensorboard<2.12,>=2.11->tensorflow) (0.2.8)\r\n",
      "Requirement already satisfied: cachetools<6.0,>=2.0.0 in /Users/francoterranova/lib/python3.9/site-packages (from google-auth<3,>=1.6.3->tensorboard<2.12,>=2.11->tensorflow) (5.2.0)\r\n",
      "Requirement already satisfied: requests-oauthlib>=0.7.0 in /Users/francoterranova/lib/python3.9/site-packages (from google-auth-oauthlib<0.5,>=0.4.1->tensorboard<2.12,>=2.11->tensorflow) (1.3.1)\r\n",
      "Requirement already satisfied: importlib-metadata>=4.4 in /Users/francoterranova/lib/python3.9/site-packages (from markdown>=2.6.8->tensorboard<2.12,>=2.11->tensorflow) (5.1.0)\r\n",
      "Requirement already satisfied: certifi>=2017.4.17 in /Users/francoterranova/lib/python3.9/site-packages (from requests<3,>=2.21.0->tensorboard<2.12,>=2.11->tensorflow) (2022.9.24)\r\n",
      "Requirement already satisfied: charset-normalizer<3,>=2 in /Users/francoterranova/lib/python3.9/site-packages (from requests<3,>=2.21.0->tensorboard<2.12,>=2.11->tensorflow) (2.1.1)\r\n",
      "Requirement already satisfied: idna<4,>=2.5 in /Users/francoterranova/lib/python3.9/site-packages (from requests<3,>=2.21.0->tensorboard<2.12,>=2.11->tensorflow) (3.4)\r\n",
      "Requirement already satisfied: urllib3<1.27,>=1.21.1 in /Users/francoterranova/lib/python3.9/site-packages (from requests<3,>=2.21.0->tensorboard<2.12,>=2.11->tensorflow) (1.26.13)\r\n",
      "Requirement already satisfied: MarkupSafe>=2.1.1 in /Users/francoterranova/lib/python3.9/site-packages (from werkzeug>=1.0.1->tensorboard<2.12,>=2.11->tensorflow) (2.1.1)\r\n",
      "Requirement already satisfied: zipp>=0.5 in /Users/francoterranova/lib/python3.9/site-packages (from importlib-metadata>=4.4->markdown>=2.6.8->tensorboard<2.12,>=2.11->tensorflow) (3.11.0)\r\n",
      "Requirement already satisfied: pyasn1<0.5.0,>=0.4.6 in /Users/francoterranova/lib/python3.9/site-packages (from pyasn1-modules>=0.2.1->google-auth<3,>=1.6.3->tensorboard<2.12,>=2.11->tensorflow) (0.4.8)\r\n",
      "Requirement already satisfied: oauthlib>=3.0.0 in /Users/francoterranova/lib/python3.9/site-packages (from requests-oauthlib>=0.7.0->google-auth-oauthlib<0.5,>=0.4.1->tensorboard<2.12,>=2.11->tensorflow) (3.2.2)\r\n",
      "Installing collected packages: protobuf\r\n",
      "  Attempting uninstall: protobuf\r\n",
      "    Found existing installation: protobuf 3.20.0\r\n",
      "    Uninstalling protobuf-3.20.0:\r\n",
      "      Successfully uninstalled protobuf-3.20.0\r\n",
      "Successfully installed protobuf-3.19.6\r\n"
     ]
    }
   ],
   "source": [
    "!pip install tensorflow --upgrade"
   ]
  },
  {
   "cell_type": "code",
   "execution_count": 13,
   "metadata": {
    "collapsed": true
   },
   "outputs": [
    {
     "name": "stdout",
     "output_type": "stream",
     "text": [
      "Found existing installation: protobuf 3.19.6\r\n",
      "Uninstalling protobuf-3.19.6:\r\n",
      "  Successfully uninstalled protobuf-3.19.6\r\n",
      "Found existing installation: matplotlib 3.6.2\r\n",
      "Uninstalling matplotlib-3.6.2:\r\n",
      "  Successfully uninstalled matplotlib-3.6.2\r\n",
      "Collecting protobuf\r\n",
      "  Downloading protobuf-4.21.11-cp37-abi3-macosx_10_9_universal2.whl (486 kB)\r\n",
      "\u001B[2K     \u001B[90m━━━━━━━━━━━━━━━━━━━━━━━━━━━━━━━━━━━━━━━\u001B[0m \u001B[32m486.2/486.2 kB\u001B[0m \u001B[31m3.4 MB/s\u001B[0m eta \u001B[36m0:00:00\u001B[0ma \u001B[36m0:00:01\u001B[0m\r\n",
      "\u001B[?25hCollecting matplotlib==3.2\r\n",
      "  Using cached matplotlib-3.2.0-cp39-cp39-macosx_10_9_x86_64.whl\r\n",
      "Requirement already satisfied: numpy>=1.11 in /Users/francoterranova/lib/python3.9/site-packages (from matplotlib==3.2) (1.22.4)\r\n",
      "Requirement already satisfied: cycler>=0.10 in /Users/francoterranova/lib/python3.9/site-packages (from matplotlib==3.2) (0.11.0)\r\n",
      "Requirement already satisfied: kiwisolver>=1.0.1 in /Users/francoterranova/lib/python3.9/site-packages (from matplotlib==3.2) (1.4.4)\r\n",
      "Requirement already satisfied: python-dateutil>=2.1 in /Users/francoterranova/lib/python3.9/site-packages (from matplotlib==3.2) (2.8.2)\r\n",
      "Requirement already satisfied: pyparsing!=2.0.4,!=2.1.2,!=2.1.6,>=2.0.1 in /Users/francoterranova/lib/python3.9/site-packages (from matplotlib==3.2) (2.4.7)\r\n",
      "Requirement already satisfied: six>=1.5 in /Users/francoterranova/lib/python3.9/site-packages (from python-dateutil>=2.1->matplotlib==3.2) (1.16.0)\r\n",
      "Installing collected packages: protobuf, matplotlib\r\n",
      "\u001B[31mERROR: pip's dependency resolver does not currently take into account all the packages that are installed. This behaviour is the source of the following dependency conflicts.\r\n",
      "tensorflow 2.11.0 requires protobuf<3.20,>=3.9.2, but you have protobuf 4.21.11 which is incompatible.\r\n",
      "tensorflow-metadata 1.12.0 requires protobuf<4,>=3.13, but you have protobuf 4.21.11 which is incompatible.\r\n",
      "tensorboard 2.11.0 requires protobuf<4,>=3.9.2, but you have protobuf 4.21.11 which is incompatible.\r\n",
      "apache-beam 2.43.0 requires protobuf<4,>3.12.2, but you have protobuf 4.21.11 which is incompatible.\u001B[0m\u001B[31m\r\n",
      "\u001B[0mSuccessfully installed matplotlib-3.2.0 protobuf-4.21.11\r\n"
     ]
    }
   ],
   "source": [
    "!pip uninstall protobuf matplotlib -y\n",
    "!pip install protobuf matplotlib==3.2"
   ]
  },
  {
   "cell_type": "code",
   "execution_count": 14,
   "metadata": {},
   "outputs": [],
   "source": [
    "import object_detection"
   ]
  },
  {
   "cell_type": "code",
   "execution_count": 15,
   "metadata": {
    "scrolled": true
   },
   "outputs": [
    {
     "name": "stdout",
     "output_type": "stream",
     "text": [
      "Package                       Version\r\n",
      "----------------------------- -----------\r\n",
      "absl-py                       1.3.0\r\n",
      "anyio                         3.6.2\r\n",
      "apache-beam                   2.43.0\r\n",
      "appnope                       0.1.3\r\n",
      "argon2-cffi                   21.3.0\r\n",
      "argon2-cffi-bindings          21.2.0\r\n",
      "astroNN                       1.0.1\r\n",
      "astropy                       5.1.1\r\n",
      "astroquery                    0.4.6\r\n",
      "asttokens                     2.2.0\r\n",
      "astunparse                    1.6.3\r\n",
      "attrs                         22.1.0\r\n",
      "avro-python3                  1.10.2\r\n",
      "backcall                      0.2.0\r\n",
      "beautifulsoup4                4.11.1\r\n",
      "bleach                        5.0.1\r\n",
      "cachetools                    5.2.0\r\n",
      "certifi                       2022.9.24\r\n",
      "cffi                          1.15.1\r\n",
      "charset-normalizer            2.1.1\r\n",
      "cloudpickle                   2.2.0\r\n",
      "colorama                      0.4.6\r\n",
      "contextlib2                   21.6.0\r\n",
      "contourpy                     1.0.6\r\n",
      "crcmod                        1.7\r\n",
      "cycler                        0.11.0\r\n",
      "Cython                        0.29.32\r\n",
      "debugpy                       1.6.4\r\n",
      "decorator                     5.1.1\r\n",
      "defusedxml                    0.7.1\r\n",
      "dill                          0.3.1.1\r\n",
      "dm-tree                       0.1.7\r\n",
      "docopt                        0.6.2\r\n",
      "entrypoints                   0.4\r\n",
      "etils                         0.9.0\r\n",
      "executing                     1.2.0\r\n",
      "fastavro                      1.7.0\r\n",
      "fasteners                     0.18\r\n",
      "fastjsonschema                2.16.2\r\n",
      "flatbuffers                   22.11.23\r\n",
      "fonttools                     4.38.0\r\n",
      "gast                          0.4.0\r\n",
      "gin-config                    0.5.0\r\n",
      "google-api-core               2.11.0\r\n",
      "google-api-python-client      2.69.0\r\n",
      "google-auth                   2.15.0\r\n",
      "google-auth-httplib2          0.1.0\r\n",
      "google-auth-oauthlib          0.4.6\r\n",
      "google-pasta                  0.2.0\r\n",
      "googleapis-common-protos      1.57.0\r\n",
      "grpcio                        1.51.1\r\n",
      "h5py                          3.7.0\r\n",
      "hdfs                          2.7.0\r\n",
      "html5lib                      1.1\r\n",
      "httplib2                      0.20.4\r\n",
      "idna                          3.4\r\n",
      "immutabledict                 2.2.3\r\n",
      "importlib-metadata            5.1.0\r\n",
      "importlib-resources           5.10.1\r\n",
      "ipykernel                     6.17.1\r\n",
      "ipython                       8.7.0\r\n",
      "ipython-genutils              0.2.0\r\n",
      "ipywidgets                    8.0.2\r\n",
      "jaraco.classes                3.2.3\r\n",
      "jedi                          0.18.2\r\n",
      "Jinja2                        3.1.2\r\n",
      "joblib                        1.2.0\r\n",
      "jsonschema                    4.17.3\r\n",
      "jupyter                       1.0.0\r\n",
      "jupyter_client                7.4.7\r\n",
      "jupyter-console               6.4.4\r\n",
      "jupyter_core                  5.1.0\r\n",
      "jupyter-server                1.23.3\r\n",
      "jupyterlab-pygments           0.2.2\r\n",
      "jupyterlab-widgets            3.0.3\r\n",
      "kaggle                        1.5.12\r\n",
      "keras                         2.11.0\r\n",
      "keyring                       23.11.0\r\n",
      "kiwisolver                    1.4.4\r\n",
      "libclang                      14.0.6\r\n",
      "lvis                          0.5.3\r\n",
      "lxml                          4.9.1\r\n",
      "Markdown                      3.4.1\r\n",
      "MarkupSafe                    2.1.1\r\n",
      "matplotlib                    3.2.0\r\n",
      "matplotlib-inline             0.1.6\r\n",
      "mistune                       2.0.4\r\n",
      "more-itertools                9.0.0\r\n",
      "nbclassic                     0.4.8\r\n",
      "nbclient                      0.7.2\r\n",
      "nbconvert                     7.2.5\r\n",
      "nbformat                      5.7.0\r\n",
      "nest-asyncio                  1.5.6\r\n",
      "notebook                      6.5.2\r\n",
      "notebook_shim                 0.2.2\r\n",
      "numpy                         1.22.4\r\n",
      "oauth2client                  4.1.3\r\n",
      "oauthlib                      3.2.2\r\n",
      "object-detection              0.1\r\n",
      "objsize                       0.5.2\r\n",
      "opencv-python                 4.6.0.66\r\n",
      "opencv-python-headless        4.5.2.52\r\n",
      "opt-einsum                    3.3.0\r\n",
      "orjson                        3.8.3\r\n",
      "packaging                     21.3\r\n",
      "pandas                        1.5.2\r\n",
      "pandocfilters                 1.5.0\r\n",
      "parso                         0.8.3\r\n",
      "pexpect                       4.8.0\r\n",
      "pickleshare                   0.7.5\r\n",
      "Pillow                        9.3.0\r\n",
      "pip                           22.3.1\r\n",
      "platformdirs                  2.5.4\r\n",
      "portalocker                   2.6.0\r\n",
      "prometheus-client             0.15.0\r\n",
      "promise                       2.3\r\n",
      "prompt-toolkit                3.0.33\r\n",
      "proto-plus                    1.22.1\r\n",
      "protobuf                      4.21.11\r\n",
      "psutil                        5.9.4\r\n",
      "ptyprocess                    0.7.0\r\n",
      "pure-eval                     0.2.2\r\n",
      "py-cpuinfo                    9.0.0\r\n",
      "pyarrow                       9.0.0\r\n",
      "pyasn1                        0.4.8\r\n",
      "pyasn1-modules                0.2.8\r\n",
      "pycocotools                   2.0.6\r\n",
      "pycparser                     2.21\r\n",
      "pydot                         1.4.2\r\n",
      "pyerfa                        2.0.0.1\r\n",
      "Pygments                      2.13.0\r\n",
      "pymongo                       3.13.0\r\n",
      "pyparsing                     2.4.7\r\n",
      "pyrsistent                    0.19.2\r\n",
      "python-dateutil               2.8.2\r\n",
      "python-slugify                7.0.0\r\n",
      "pytz                          2022.6\r\n",
      "pyvo                          1.4\r\n",
      "PyYAML                        5.4.1\r\n",
      "pyzmq                         24.0.1\r\n",
      "qtconsole                     5.4.0\r\n",
      "QtPy                          2.3.0\r\n",
      "regex                         2022.10.31\r\n",
      "requests                      2.28.1\r\n",
      "requests-oauthlib             1.3.1\r\n",
      "rsa                           4.9\r\n",
      "sacrebleu                     2.2.0\r\n",
      "scikit-learn                  1.2.0\r\n",
      "scipy                         1.9.3\r\n",
      "seaborn                       0.12.1\r\n",
      "Send2Trash                    1.8.0\r\n",
      "sentencepiece                 0.1.97\r\n",
      "seqeval                       1.2.2\r\n",
      "setuptools                    60.2.0\r\n",
      "six                           1.16.0\r\n",
      "sklearn                       0.0.post1\r\n",
      "sniffio                       1.3.0\r\n",
      "soupsieve                     2.3.2.post1\r\n",
      "stack-data                    0.6.2\r\n",
      "tabulate                      0.9.0\r\n",
      "tensorboard                   2.11.0\r\n",
      "tensorboard-data-server       0.6.1\r\n",
      "tensorboard-plugin-wit        1.8.1\r\n",
      "tensorflow                    2.11.0\r\n",
      "tensorflow-addons             0.19.0\r\n",
      "tensorflow-datasets           4.7.0\r\n",
      "tensorflow-estimator          2.11.0\r\n",
      "tensorflow-hub                0.12.0\r\n",
      "tensorflow-io                 0.28.0\r\n",
      "tensorflow-io-gcs-filesystem  0.28.0\r\n",
      "tensorflow-metadata           1.12.0\r\n",
      "tensorflow-model-optimization 0.7.3\r\n",
      "tensorflow-text               2.11.0\r\n",
      "termcolor                     2.1.1\r\n",
      "terminado                     0.17.0\r\n",
      "text-unidecode                1.3\r\n",
      "tf-models-official            2.11.0\r\n",
      "tf-slim                       1.1.0\r\n",
      "threadpoolctl                 3.1.0\r\n",
      "tinycss2                      1.2.1\r\n",
      "toml                          0.10.2\r\n",
      "tornado                       6.2\r\n",
      "tqdm                          4.64.1\r\n",
      "traitlets                     5.6.0\r\n",
      "typeguard                     2.13.3\r\n",
      "typing_extensions             4.4.0\r\n",
      "uritemplate                   4.1.1\r\n",
      "urllib3                       1.26.13\r\n",
      "wcwidth                       0.2.5\r\n",
      "webencodings                  0.5.1\r\n",
      "websocket-client              1.4.2\r\n",
      "Werkzeug                      2.2.2\r\n",
      "wheel                         0.37.1\r\n",
      "widgetsnbextension            4.0.3\r\n",
      "wrapt                         1.14.1\r\n",
      "zipp                          3.11.0\r\n",
      "zstandard                     0.19.0\r\n"
     ]
    }
   ],
   "source": [
    "!pip list"
   ]
  },
  {
   "cell_type": "code",
   "execution_count": 16,
   "metadata": {
    "colab": {
     "base_uri": "https://localhost:8080/"
    },
    "id": "csofht2npfDE",
    "outputId": "ff5471b2-bed2-43f2-959c-327a706527b6"
   },
   "outputs": [
    {
     "name": "stdout",
     "output_type": "stream",
     "text": [
      "--2022-12-12 15:42:58--  http://download.tensorflow.org/models/object_detection/tf2/20200711/ssd_mobilenet_v2_fpnlite_320x320_coco17_tpu-8.tar.gz\r\n",
      "Resolving download.tensorflow.org (download.tensorflow.org)... 142.250.200.48\r\n",
      "Connecting to download.tensorflow.org (download.tensorflow.org)|142.250.200.48|:80... connected.\r\n",
      "HTTP request sent, awaiting response... 200 OK\r\n",
      "Length: 20515344 (20M) [application/x-tar]\r\n",
      "Saving to: 'ssd_mobilenet_v2_fpnlite_320x320_coco17_tpu-8.tar.gz'\r\n",
      "\r\n",
      "ssd_mobilenet_v2_fp 100%[===================>]  19.56M  28.6MB/s    in 0.7s    \r\n",
      "\r\n",
      "2022-12-12 15:42:59 (28.6 MB/s) - 'ssd_mobilenet_v2_fpnlite_320x320_coco17_tpu-8.tar.gz' saved [20515344/20515344]\r\n",
      "\r\n",
      "x ssd_mobilenet_v2_fpnlite_320x320_coco17_tpu-8/\r\n",
      "x ssd_mobilenet_v2_fpnlite_320x320_coco17_tpu-8/checkpoint/\r\n",
      "x ssd_mobilenet_v2_fpnlite_320x320_coco17_tpu-8/checkpoint/ckpt-0.data-00000-of-00001\r\n",
      "x ssd_mobilenet_v2_fpnlite_320x320_coco17_tpu-8/checkpoint/checkpoint\r\n",
      "x ssd_mobilenet_v2_fpnlite_320x320_coco17_tpu-8/checkpoint/ckpt-0.index\r\n",
      "x ssd_mobilenet_v2_fpnlite_320x320_coco17_tpu-8/pipeline.config\r\n",
      "x ssd_mobilenet_v2_fpnlite_320x320_coco17_tpu-8/saved_model/\r\n",
      "x ssd_mobilenet_v2_fpnlite_320x320_coco17_tpu-8/saved_model/saved_model.pb\r\n",
      "x ssd_mobilenet_v2_fpnlite_320x320_coco17_tpu-8/saved_model/variables/\r\n",
      "x ssd_mobilenet_v2_fpnlite_320x320_coco17_tpu-8/saved_model/variables/variables.data-00000-of-00001\r\n",
      "x ssd_mobilenet_v2_fpnlite_320x320_coco17_tpu-8/saved_model/variables/variables.index\r\n"
     ]
    }
   ],
   "source": [
    "# download and uncompress pretrained model\n",
    "if os.name =='posix':\n",
    "    !wget {PRETRAINED_MODEL_URL}\n",
    "    !mv {PRETRAINED_MODEL_NAME+'.tar.gz'} {paths['PRETRAINED_MODEL_PATH']}\n",
    "    !cd {paths['PRETRAINED_MODEL_PATH']} && tar -zxvf {PRETRAINED_MODEL_NAME+'.tar.gz'}\n",
    "if os.name == 'nt':\n",
    "    wget.download(PRETRAINED_MODEL_URL)\n",
    "    !move {PRETRAINED_MODEL_NAME+'.tar.gz'} {paths['PRETRAINED_MODEL_PATH']}\n",
    "    !cd {paths['PRETRAINED_MODEL_PATH']} && tar -zxvf {PRETRAINED_MODEL_NAME+'.tar.gz'}"
   ]
  },
  {
   "cell_type": "markdown",
   "metadata": {
    "id": "M5KJTnkfpfDC"
   },
   "source": [
    "# 2. Create Label Map"
   ]
  },
  {
   "cell_type": "code",
   "execution_count": 7,
   "metadata": {
    "id": "p1BVDWo7pfDC"
   },
   "outputs": [],
   "source": [
    "# set the class\n",
    "labels = [{'name':'galaxy', 'id':1}]\n",
    "with open(files['LABELMAP'], 'w') as f:\n",
    "    for label in labels:\n",
    "        f.write('item { \\n')\n",
    "        f.write('\\tname:\\'{}\\'\\n'.format(label['name']))\n",
    "        f.write('\\tid:{}\\n'.format(label['id']))\n",
    "        f.write('}\\n')"
   ]
  },
  {
   "cell_type": "markdown",
   "metadata": {
    "id": "C88zyVELpfDC"
   },
   "source": [
    "# 3. Create TF records"
   ]
  },
  {
   "cell_type": "code",
   "execution_count": 8,
   "metadata": {},
   "outputs": [
    {
     "name": "stdout",
     "output_type": "stream",
     "text": [
      "Requirement already satisfied: protobuf==3.20 in /Users/francoterranova/lib/python3.9/site-packages (3.20.0)\r\n"
     ]
    }
   ],
   "source": [
    "if os.name=='posix':  \n",
    "   !pip install protobuf==3.20"
   ]
  },
  {
   "cell_type": "code",
   "execution_count": 9,
   "metadata": {
    "colab": {
     "base_uri": "https://localhost:8080/"
    },
    "id": "KWpb_BVUpfDD",
    "outputId": "56ce2a3f-3933-4ee6-8a9d-d5ec65f7d73c"
   },
   "outputs": [],
   "source": [
    "if not os.path.exists(files['TF_RECORD_SCRIPT']):\n",
    "    !git clone https://github.com/nicknochnack/GenerateTFRecord {paths['SCRIPTS_PATH']}"
   ]
  },
  {
   "cell_type": "code",
   "execution_count": 10,
   "metadata": {
    "colab": {
     "base_uri": "https://localhost:8080/"
    },
    "id": "UPFToGZqpfDD",
    "outputId": "0ebb456f-aadc-4a1f-96e6-fbfec1923e1c"
   },
   "outputs": [
    {
     "name": "stdout",
     "output_type": "stream",
     "text": [
      "Successfully created the TFRecord file: workspace/annotations/train.record\r\n",
      "Successfully created the TFRecord file: workspace/annotations/validation.record\r\n",
      "Successfully created the TFRecord file: workspace/annotations/test.record\r\n"
     ]
    }
   ],
   "source": [
    "!python {files['TF_RECORD_SCRIPT']} -x {os.path.join(paths['IMAGE_PATH'], 'train')} -l {files['LABELMAP']} -o {os.path.join(paths['ANNOTATION_PATH'], 'train.record')} \n",
    "!python {files['TF_RECORD_SCRIPT']} -x {os.path.join(paths['IMAGE_PATH'], 'eval')} -l {files['LABELMAP']} -o {os.path.join(paths['ANNOTATION_PATH'], 'validation.record')}\n",
    "!python {files['TF_RECORD_SCRIPT']} -x {os.path.join(paths['IMAGE_PATH'], 'test')} -l {files['LABELMAP']} -o {os.path.join(paths['ANNOTATION_PATH'], 'test.record')}"
   ]
  },
  {
   "cell_type": "markdown",
   "metadata": {
    "id": "qT4QU7pLpfDE"
   },
   "source": [
    "# 4. Copy Model Config to Training Folder"
   ]
  },
  {
   "cell_type": "code",
   "execution_count": 21,
   "metadata": {
    "id": "cOjuTFbwpfDF"
   },
   "outputs": [],
   "source": [
    "if os.name =='posix':\n",
    "    !cp {os.path.join(paths['PRETRAINED_MODEL_PATH'], PRETRAINED_MODEL_NAME, 'pipeline.config')} {os.path.join(paths['CHECKPOINT_PATH'])}\n",
    "if os.name == 'nt':\n",
    "    !copy {os.path.join(paths['PRETRAINED_MODEL_PATH'], PRETRAINED_MODEL_NAME, 'pipeline.config')} {os.path.join(paths['CHECKPOINT_PATH'])}"
   ]
  },
  {
   "cell_type": "markdown",
   "metadata": {
    "id": "Ga8gpNslpfDF"
   },
   "source": [
    "# 5. Update Config For Transfer Learning"
   ]
  },
  {
   "cell_type": "code",
   "execution_count": 22,
   "metadata": {
    "id": "Z9hRrO_ppfDF"
   },
   "outputs": [
    {
     "name": "stderr",
     "output_type": "stream",
     "text": [
      "2022-12-12 15:46:02.362482: I tensorflow/core/platform/cpu_feature_guard.cc:193] This TensorFlow binary is optimized with oneAPI Deep Neural Network Library (oneDNN) to use the following CPU instructions in performance-critical operations:  AVX2 FMA\n",
      "To enable them in other operations, rebuild TensorFlow with the appropriate compiler flags.\n",
      "/Users/francoterranova/opt/anaconda3/lib/python3.9/site-packages/tensorflow_io/python/ops/__init__.py:98: UserWarning: unable to load libtensorflow_io_plugins.so: unable to open file: libtensorflow_io_plugins.so, from paths: ['/Users/francoterranova/opt/anaconda3/lib/python3.9/site-packages/tensorflow_io/python/ops/libtensorflow_io_plugins.so']\n",
      "caused by: [\"dlopen(/Users/francoterranova/opt/anaconda3/lib/python3.9/site-packages/tensorflow_io/python/ops/libtensorflow_io_plugins.so, 0x0006): symbol not found in flat namespace '__ZN3tsl2io7DirnameENSt3__117basic_string_viewIcNS1_11char_traitsIcEEEE'\"]\n",
      "  warnings.warn(f\"unable to load libtensorflow_io_plugins.so: {e}\")\n",
      "/Users/francoterranova/opt/anaconda3/lib/python3.9/site-packages/tensorflow_io/python/ops/__init__.py:104: UserWarning: file system plugins are not loaded: unable to open file: libtensorflow_io.so, from paths: ['/Users/francoterranova/opt/anaconda3/lib/python3.9/site-packages/tensorflow_io/python/ops/libtensorflow_io.so']\n",
      "caused by: [\"dlopen(/Users/francoterranova/opt/anaconda3/lib/python3.9/site-packages/tensorflow_io/python/ops/libtensorflow_io.so, 0x0006): symbol not found in flat namespace '__ZN10tensorflow12OpDefBuilder10SetShapeFnENSt3__18functionIFN3tsl6StatusEPNS_15shape_inference16InferenceContextEEEE'\"]\n",
      "  warnings.warn(f\"file system plugins are not loaded: {e}\")\n"
     ]
    }
   ],
   "source": [
    "import tensorflow as tf\n",
    "from object_detection.utils import config_util\n",
    "from object_detection.protos import pipeline_pb2\n",
    "from google.protobuf import text_format"
   ]
  },
  {
   "cell_type": "code",
   "execution_count": 23,
   "metadata": {
    "id": "c2A0mn4ipfDF"
   },
   "outputs": [],
   "source": [
    "config = config_util.get_configs_from_pipeline_file(files['PIPELINE_CONFIG'])"
   ]
  },
  {
   "cell_type": "code",
   "execution_count": 24,
   "metadata": {
    "colab": {
     "base_uri": "https://localhost:8080/"
    },
    "id": "uQA13-afpfDF",
    "outputId": "907496a4-a39d-4b13-8c2c-e5978ecb1f10"
   },
   "outputs": [
    {
     "data": {
      "text/plain": "{'model': ssd {\n   num_classes: 90\n   image_resizer {\n     fixed_shape_resizer {\n       height: 320\n       width: 320\n     }\n   }\n   feature_extractor {\n     type: \"ssd_mobilenet_v2_fpn_keras\"\n     depth_multiplier: 1.0\n     min_depth: 16\n     conv_hyperparams {\n       regularizer {\n         l2_regularizer {\n           weight: 3.9999998989515007e-05\n         }\n       }\n       initializer {\n         random_normal_initializer {\n           mean: 0.0\n           stddev: 0.009999999776482582\n         }\n       }\n       activation: RELU_6\n       batch_norm {\n         decay: 0.996999979019165\n         scale: true\n         epsilon: 0.0010000000474974513\n       }\n     }\n     use_depthwise: true\n     override_base_feature_extractor_hyperparams: true\n     fpn {\n       min_level: 3\n       max_level: 7\n       additional_layer_depth: 128\n     }\n   }\n   box_coder {\n     faster_rcnn_box_coder {\n       y_scale: 10.0\n       x_scale: 10.0\n       height_scale: 5.0\n       width_scale: 5.0\n     }\n   }\n   matcher {\n     argmax_matcher {\n       matched_threshold: 0.5\n       unmatched_threshold: 0.5\n       ignore_thresholds: false\n       negatives_lower_than_unmatched: true\n       force_match_for_each_row: true\n       use_matmul_gather: true\n     }\n   }\n   similarity_calculator {\n     iou_similarity {\n     }\n   }\n   box_predictor {\n     weight_shared_convolutional_box_predictor {\n       conv_hyperparams {\n         regularizer {\n           l2_regularizer {\n             weight: 3.9999998989515007e-05\n           }\n         }\n         initializer {\n           random_normal_initializer {\n             mean: 0.0\n             stddev: 0.009999999776482582\n           }\n         }\n         activation: RELU_6\n         batch_norm {\n           decay: 0.996999979019165\n           scale: true\n           epsilon: 0.0010000000474974513\n         }\n       }\n       depth: 128\n       num_layers_before_predictor: 4\n       kernel_size: 3\n       class_prediction_bias_init: -4.599999904632568\n       share_prediction_tower: true\n       use_depthwise: true\n     }\n   }\n   anchor_generator {\n     multiscale_anchor_generator {\n       min_level: 3\n       max_level: 7\n       anchor_scale: 4.0\n       aspect_ratios: 1.0\n       aspect_ratios: 2.0\n       aspect_ratios: 0.5\n       scales_per_octave: 2\n     }\n   }\n   post_processing {\n     batch_non_max_suppression {\n       score_threshold: 9.99999993922529e-09\n       iou_threshold: 0.6000000238418579\n       max_detections_per_class: 100\n       max_total_detections: 100\n       use_static_shapes: false\n     }\n     score_converter: SIGMOID\n   }\n   normalize_loss_by_num_matches: true\n   loss {\n     localization_loss {\n       weighted_smooth_l1 {\n       }\n     }\n     classification_loss {\n       weighted_sigmoid_focal {\n         gamma: 2.0\n         alpha: 0.25\n       }\n     }\n     classification_weight: 1.0\n     localization_weight: 1.0\n   }\n   encode_background_as_zeros: true\n   normalize_loc_loss_by_codesize: true\n   inplace_batchnorm_update: true\n   freeze_batchnorm: false\n },\n 'train_config': batch_size: 128\n data_augmentation_options {\n   random_horizontal_flip {\n   }\n }\n data_augmentation_options {\n   random_crop_image {\n     min_object_covered: 0.0\n     min_aspect_ratio: 0.75\n     max_aspect_ratio: 3.0\n     min_area: 0.75\n     max_area: 1.0\n     overlap_thresh: 0.0\n   }\n }\n sync_replicas: true\n optimizer {\n   momentum_optimizer {\n     learning_rate {\n       cosine_decay_learning_rate {\n         learning_rate_base: 0.07999999821186066\n         total_steps: 50000\n         warmup_learning_rate: 0.026666000485420227\n         warmup_steps: 1000\n       }\n     }\n     momentum_optimizer_value: 0.8999999761581421\n   }\n   use_moving_average: false\n }\n fine_tune_checkpoint: \"PATH_TO_BE_CONFIGURED\"\n num_steps: 50000\n startup_delay_steps: 0.0\n replicas_to_aggregate: 8\n max_number_of_boxes: 100\n unpad_groundtruth_tensors: false\n fine_tune_checkpoint_type: \"classification\"\n fine_tune_checkpoint_version: V2,\n 'train_input_config': label_map_path: \"PATH_TO_BE_CONFIGURED\"\n tf_record_input_reader {\n   input_path: \"PATH_TO_BE_CONFIGURED\"\n },\n 'eval_config': metrics_set: \"coco_detection_metrics\"\n use_moving_averages: false,\n 'eval_input_configs': [label_map_path: \"PATH_TO_BE_CONFIGURED\"\n shuffle: false\n num_epochs: 1\n tf_record_input_reader {\n   input_path: \"PATH_TO_BE_CONFIGURED\"\n }\n ],\n 'eval_input_config': label_map_path: \"PATH_TO_BE_CONFIGURED\"\n shuffle: false\n num_epochs: 1\n tf_record_input_reader {\n   input_path: \"PATH_TO_BE_CONFIGURED\"\n }}"
     },
     "execution_count": 24,
     "metadata": {},
     "output_type": "execute_result"
    }
   ],
   "source": [
    "config"
   ]
  },
  {
   "cell_type": "code",
   "execution_count": 25,
   "metadata": {
    "id": "9vK5lotDpfDF"
   },
   "outputs": [],
   "source": [
    "pipeline_config = pipeline_pb2.TrainEvalPipelineConfig()\n",
    "with tf.io.gfile.GFile(files['PIPELINE_CONFIG'], \"r\") as f:\n",
    "    proto_str = f.read()\n",
    "    text_format.Merge(proto_str, pipeline_config)"
   ]
  },
  {
   "cell_type": "code",
   "execution_count": 26,
   "metadata": {
    "id": "rP43Ph0JpfDG"
   },
   "outputs": [],
   "source": [
    "pipeline_config.model.ssd.num_classes = len(labels)\n",
    "pipeline_config.train_config.batch_size = 4\n",
    "pipeline_config.train_config.fine_tune_checkpoint = os.path.join(paths['PRETRAINED_MODEL_PATH'], PRETRAINED_MODEL_NAME, 'checkpoint', 'ckpt-0')\n",
    "pipeline_config.train_config.fine_tune_checkpoint_type = \"detection\"\n",
    "pipeline_config.train_input_reader.label_map_path= files['LABELMAP']\n",
    "pipeline_config.train_input_reader.tf_record_input_reader.input_path[:] = [os.path.join(paths['ANNOTATION_PATH'], 'train.record')]\n",
    "pipeline_config.eval_input_reader[0].label_map_path = files['LABELMAP']\n",
    "pipeline_config.eval_input_reader[0].tf_record_input_reader.input_path[:] = [os.path.join(paths['ANNOTATION_PATH'], 'test.record')]\n",
    "# custom part\n",
    "pipeline_config.train_config.max_number_of_boxes = 100\n",
    "# update other values manually from the pipeline.config file if needed or here"
   ]
  },
  {
   "cell_type": "code",
   "execution_count": 27,
   "metadata": {
    "id": "oJvfgwWqpfDG"
   },
   "outputs": [],
   "source": [
    "config_text = text_format.MessageToString(pipeline_config)\n",
    "with tf.io.gfile.GFile(files['PIPELINE_CONFIG'], \"wb\") as f:\n",
    "    f.write(config_text)"
   ]
  }
 ],
 "metadata": {
  "accelerator": "GPU",
  "colab": {
   "name": "3. Training and Detection.ipynb",
   "provenance": []
  },
  "kernelspec": {
   "name": "odod",
   "language": "python",
   "display_name": "odod"
  },
  "language_info": {
   "codemirror_mode": {
    "name": "ipython",
    "version": 3
   },
   "file_extension": ".py",
   "mimetype": "text/x-python",
   "name": "python",
   "nbconvert_exporter": "python",
   "pygments_lexer": "ipython3",
   "version": "3.9.13"
  }
 },
 "nbformat": 4,
 "nbformat_minor": 1
}
