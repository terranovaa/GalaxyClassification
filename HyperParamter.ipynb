{
  "cells": [
    {
      "cell_type": "code",
      "execution_count": null,
      "metadata": {
        "id": "mPwwbJDjw-Bv"
      },
      "outputs": [],
      "source": [
        "from tensorflow import keras\n",
        "from tensorflow.keras.utils import to_categorical\n",
        "from tensorflow.keras import layers\n",
        "from tensorflow.keras import models\n",
        "from keras_tuner.applications import HyperResNet\n",
        "import keras_tuner\n",
        "import tensorflow as tf\n",
        "import matplotlib"
      ]
    },
    {
      "cell_type": "markdown",
      "metadata": {
        "id": "t9iB5X1u1nGM"
      },
      "source": [
        "import dataset"
      ]
    },
    {
      "cell_type": "code",
      "execution_count": null,
      "metadata": {
        "id": "0cTFqgkG1aLd"
      },
      "outputs": [],
      "source": [
        " # read dataset\n",
        "\n",
        "# Normalize pixel values between 0 and 1\n",
        "train_images = train_images.reshape((60000, 28, 28, 1))\n",
        "train_images = train_images.astype('float32') / 255\n",
        "\n",
        "test_images = test_images.reshape((10000, 28, 28, 1))\n",
        "test_images = test_images.astype('float32') / 255\n",
        "\n",
        "#to categorical (?)"
      ]
    },
    {
      "cell_type": "markdown",
      "metadata": {
        "id": "CJv7UIuf1rGi"
      },
      "source": [
        "parameter tuning"
      ]
    },
    {
      "cell_type": "code",
      "execution_count": null,
      "metadata": {
        "id": "6ihF_Qld1aae"
      },
      "outputs": [],
      "source": [
        "def build_model():\n",
        "  model = models.Sequential()\n",
        "  hp = keras_tuner.HyperParameters()\n",
        "\n",
        "  #add input layer\n",
        "  model.add(layers.Input(shape=(?,?,?)))\n",
        "\n",
        "  #add data augmentation layer???\n",
        "\n",
        "  # Tune the number of layers.\n",
        "  for i in range(hp.Int(\"num_layers\", min_value = 1, max_value = 64, step = 8)):\n",
        "\n",
        "      #tune filter size\n",
        "      hp_filters = hp.Int(f\"conv_filter_{i}\", min_value=32, max_value=64, step=16)\n",
        "      #tune filter size. Most used are 3x3 and 5x5\n",
        "      hp_kernel_size=hp.Choice(\"conv_kernel\", values = [3,5])\n",
        "      #add convolutional and pooling layer\n",
        "      model.add(layers.Conv2D(filters = hp_filters, kernel_size = (hp_kernel_size,hp_kernel_size), activation='relu'))\n",
        "      model.add(layers.MaxPooling2D((2, 2)))\n",
        "  \n",
        "  #decide whether to use dropout or not\n",
        "  if hp.Boolean(\"dropout\"):\n",
        "      model.add(layers.Dropout(rate=0.25))\n",
        "\n",
        "  #add classification layer\n",
        "  model.add(layers.Dense(10, activation=\"softmax\"))\n",
        "\n",
        "  #tune learning rate\n",
        "  hp_learning_rate = hp.Float(\"learning rate\", min_value=1e-4, max_value=1e-2, sampling=\"log\") #decide other values?\n",
        "  model.compile(\n",
        "      optimizer=keras.optimizers.Adam(learning_rate=hp_learning_rate),\n",
        "      loss=\"categorical_crossentropy\",\n",
        "      metrics=[\"accuracy\"],\n",
        "  )\n",
        "\n",
        "  return model"
      ]
    },
    {
      "cell_type": "markdown",
      "metadata": {
        "id": "ZK41Nu971umZ"
      },
      "source": [
        " train with optimized parameters"
      ]
    },
    {
      "cell_type": "code",
      "execution_count": null,
      "metadata": {
        "id": "LC0Ap5Oi18YU"
      },
      "outputs": [],
      "source": [
        "tuner = keras_tuner.Hyperband(. #decide objective and type of tuner\n",
        "    build_model,\n",
        "    objective='val_mean_squared_logarithmic_error',\n",
        "    max_epochs=10,\n",
        "    directory='galaxy_dir',\n",
        "    project_name='galaxy_classification_project'\n",
        ")\n",
        "\n",
        "#early stopping callbacks\n",
        "stop_early = tf.keras.callbacks.EarlyStopping(monitor='val_loss', patience=5) \n",
        "tensorboard = keras.callbacks.TensorBoard(log_dir)\n",
        "\n",
        "#find best parameters\n",
        "tuner.search(img_train, label_train, epochs=50, validation_split=0.2, callbacks=[stop_early, tensorboard])\n",
        "\n",
        "# Get the optimal hyperparameters\n",
        "best_hps = tuner.get_best_hyperparameters(num_trials=1)[0]\n",
        "\n",
        "#tune model with optimal parameters\n",
        "model = tuner.hypermodel.build(best_hps)"
      ]
    },
    {
      "cell_type": "markdown",
      "metadata": {
        "id": "41yfK-QjGACI"
      },
      "source": [
        "Possibile test con entrambi gli approcci ?"
      ]
    },
    {
      "cell_type": "code",
      "execution_count": null,
      "metadata": {
        "id": "f-mmetN-FN9H"
      },
      "outputs": [],
      "source": [
        "tuner = keras_tuner.RandomSearch(\n",
        "    HyperResNet(input_shape=(?, ?, ?), classes=10), #used a in-built model for tuning, useful in CV applications.\n",
        "                                                      #there is no need to define a search space so users can use it directly\n",
        "    objective='val_accuracy', #decide objective\n",
        "    max_epochs=10,\n",
        "    directory='galaxy_dir',  #store search result in this dir\n",
        "    project_name='galaxy_classification_project' # will be a sub dir of the above directory\n",
        ")\n",
        "\n",
        "stop_early = tf.keras.callbacks.EarlyStopping(monitor='val_loss', patience=5)\n",
        "tensorboard = keras.callbacks.TensorBoard(log_dir)\n",
        "tuner.search(img_train, label_train, epochs=50, validation_split=0.2, callbacks=[stop_early, tensorboard])\n",
        "best_hps = tuner.get_best_hyperparameters(num_trials=1)[0]\n",
        "\n",
        "model = tuner.hypermodel.build(best_hps)"
      ]
    },
    {
      "cell_type": "code",
      "execution_count": null,
      "metadata": {
        "id": "eqdQHzIhciF7"
      },
      "outputs": [],
      "source": [
        "#test models"
      ]
    }
  ],
  "metadata": {
    "colab": {
      "provenance": []
    },
    "kernelspec": {
      "display_name": "Python 3.9.7 64-bit",
      "language": "python",
      "name": "python3"
    },
    "language_info": {
      "name": "python",
      "version": "3.9.7"
    },
    "vscode": {
      "interpreter": {
        "hash": "aee8b7b246df8f9039afb4144a1f6fd8d2ca17a180786b69acc140d282b71a49"
      }
    }
  },
  "nbformat": 4,
  "nbformat_minor": 0
}
