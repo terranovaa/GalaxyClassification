{
 "cells": [
  {
   "cell_type": "code",
   "execution_count": null,
   "outputs": [],
   "source": [
    "import os\n",
    "from keras.utils import load_img, img_to_array, array_to_img\n",
    "import matplotlib.pyplot as plt\n",
    "from keras.preprocessing.image import ImageDataGenerator\n",
    "import pandas as pd"
   ],
   "metadata": {
    "collapsed": false
   }
  },
  {
   "cell_type": "code",
   "execution_count": null,
   "outputs": [],
   "source": [
    "rescale_size=1./255\n",
    "rotation_range=40 # range within which we randomly rotate pictures\n",
    "width_shift_range=0.2 # range withing which we shift image horizontally\n",
    "height_shift_range=0.2 # range withing which we shift image vertically\n",
    "shear_range=0.2 # random shearing transformation\n",
    "zoom_range=0.2 # random zoom inside pictures\n",
    "horizontal_flip=True\n",
    "fill_mode='nearest' # strategy to fill newly created pixels after rotation or shift\n",
    "input_height = 50\n",
    "input_width = 50\n",
    "batch_size=20"
   ],
   "metadata": {
    "collapsed": false
   }
  },
  {
   "cell_type": "code",
   "execution_count": null,
   "outputs": [],
   "source": [
    "paths = {\n",
    "    'IMAGES_PATH' : os.path.join('..','workspace', 'images', 'all'),\n",
    "    'TRAIN_PATH' : os.path.join('..','workspace', 'images', 'train'),\n",
    "    'TEST_PATH' : os.path.join('..','workspace', 'images','test'),\n",
    "    'EVAL_PATH' : os.path.join('..','workspace', 'images','eval')\n",
    " }"
   ],
   "metadata": {
    "collapsed": false
   }
  },
  {
   "cell_type": "code",
   "execution_count": null,
   "outputs": [],
   "source": [
    "train_datagen = ImageDataGenerator(\n",
    "          rescale=rescale_size,\n",
    "          rotation_range=rotation_range,\n",
    "          width_shift_range=width_shift_range,\n",
    "          height_shift_range=height_shift_range,\n",
    "          shear_range=shear_range,\n",
    "          zoom_range=zoom_range,\n",
    "          horizontal_flip=horizontal_flip,\n",
    "          fill_mode=fill_mode)\n",
    "\n",
    "train_dir=paths['TRAIN_PATH']\n",
    "\n",
    "train_generator = train_datagen.flow_from_directory(train_dir, target_size=(input_width, input_height), batch_size=batch_size, class_mode='categorical')"
   ],
   "metadata": {
    "collapsed": false
   }
  },
  {
   "cell_type": "code",
   "execution_count": null,
   "outputs": [],
   "source": [
    "image_index = 20\n",
    "fnames = [os.path.join(train_dir, fname) for\n",
    "     fname in os.listdir(train_dir)]\n",
    "img_path = fnames[image_index]\n",
    "img = load_img(img_path, target_size=(64, 64))\n",
    "x = img_to_array(img)\n",
    "x = x.reshape((1,) + x.shape)\n",
    "\n",
    "i=0\n",
    "for batch in train_datagen.flow(x, batch_size=1):\n",
    "    plt.figure(i)\n",
    "    imgplot = plt.imshow(array_to_img(batch[0]))\n",
    "    i += 1\n",
    "    if i % 4 == 0:\n",
    "        break\n",
    "plt.show()"
   ],
   "metadata": {
    "collapsed": false
   }
  }
 ],
 "metadata": {
  "kernelspec": {
   "display_name": "Python 3",
   "language": "python",
   "name": "python3"
  },
  "language_info": {
   "codemirror_mode": {
    "name": "ipython",
    "version": 2
   },
   "file_extension": ".py",
   "mimetype": "text/x-python",
   "name": "python",
   "nbconvert_exporter": "python",
   "pygments_lexer": "ipython2",
   "version": "2.7.6"
  }
 },
 "nbformat": 4,
 "nbformat_minor": 0
}
