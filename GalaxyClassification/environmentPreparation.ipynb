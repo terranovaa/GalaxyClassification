{
 "cells": [
  {
   "cell_type": "markdown",
   "source": [
    "# 1. Setup"
   ],
   "metadata": {
    "collapsed": false
   }
  },
  {
   "cell_type": "code",
   "execution_count": 1,
   "metadata": {
    "collapsed": true
   },
   "outputs": [],
   "source": [
    "import sys"
   ]
  },
  {
   "cell_type": "code",
   "execution_count": 1,
   "outputs": [
    {
     "name": "stdout",
     "output_type": "stream",
     "text": [
      "Requirement already satisfied: keras in /opt/anaconda3/envs/GalaxyClassification/lib/python3.10/site-packages (2.11.0)\r\n",
      "Requirement already satisfied: matplotlib in /opt/anaconda3/envs/GalaxyClassification/lib/python3.10/site-packages (3.6.2)\r\n",
      "Requirement already satisfied: cycler>=0.10 in /opt/anaconda3/envs/GalaxyClassification/lib/python3.10/site-packages (from matplotlib) (0.11.0)\r\n",
      "Requirement already satisfied: pillow>=6.2.0 in /opt/anaconda3/envs/GalaxyClassification/lib/python3.10/site-packages (from matplotlib) (9.3.0)\r\n",
      "Requirement already satisfied: fonttools>=4.22.0 in /opt/anaconda3/envs/GalaxyClassification/lib/python3.10/site-packages (from matplotlib) (4.38.0)\r\n",
      "Requirement already satisfied: kiwisolver>=1.0.1 in /opt/anaconda3/envs/GalaxyClassification/lib/python3.10/site-packages (from matplotlib) (1.4.4)\r\n",
      "Requirement already satisfied: python-dateutil>=2.7 in /opt/anaconda3/envs/GalaxyClassification/lib/python3.10/site-packages (from matplotlib) (2.8.2)\r\n",
      "Requirement already satisfied: contourpy>=1.0.1 in /opt/anaconda3/envs/GalaxyClassification/lib/python3.10/site-packages (from matplotlib) (1.0.6)\r\n",
      "Requirement already satisfied: packaging>=20.0 in /opt/anaconda3/envs/GalaxyClassification/lib/python3.10/site-packages (from matplotlib) (21.3)\r\n",
      "Requirement already satisfied: numpy>=1.19 in /opt/anaconda3/envs/GalaxyClassification/lib/python3.10/site-packages (from matplotlib) (1.23.4)\r\n",
      "Requirement already satisfied: pyparsing>=2.2.1 in /opt/anaconda3/envs/GalaxyClassification/lib/python3.10/site-packages (from matplotlib) (3.0.9)\r\n",
      "Requirement already satisfied: six>=1.5 in /opt/anaconda3/envs/GalaxyClassification/lib/python3.10/site-packages (from python-dateutil>=2.7->matplotlib) (1.16.0)\r\n",
      "Collecting sklearn\r\n",
      "  Using cached sklearn-0.0.post1.tar.gz (3.6 kB)\r\n",
      "  Preparing metadata (setup.py) ... \u001B[?25ldone\r\n",
      "\u001B[?25hBuilding wheels for collected packages: sklearn\r\n",
      "  Building wheel for sklearn (setup.py) ... \u001B[?25ldone\r\n",
      "\u001B[?25h  Created wheel for sklearn: filename=sklearn-0.0.post1-py3-none-any.whl size=2936 sha256=94f190448bed2d41d95cce5ffceb3859710116f0a98e09d45104bdcc9afc9614\r\n",
      "  Stored in directory: /Users/benedettatessa/Library/Caches/pip/wheels/db/9f/0b/772886b624f84c138a5febb6966c89d374ab58c62bd65d109e\r\n",
      "Successfully built sklearn\r\n",
      "Installing collected packages: sklearn\r\n",
      "Successfully installed sklearn-0.0.post1\r\n",
      "Requirement already satisfied: pandas in /opt/anaconda3/envs/GalaxyClassification/lib/python3.10/site-packages (1.5.2)\r\n",
      "Requirement already satisfied: python-dateutil>=2.8.1 in /opt/anaconda3/envs/GalaxyClassification/lib/python3.10/site-packages (from pandas) (2.8.2)\r\n",
      "Requirement already satisfied: pytz>=2020.1 in /opt/anaconda3/envs/GalaxyClassification/lib/python3.10/site-packages (from pandas) (2022.1)\r\n",
      "Requirement already satisfied: numpy>=1.21.0 in /opt/anaconda3/envs/GalaxyClassification/lib/python3.10/site-packages (from pandas) (1.23.4)\r\n",
      "Requirement already satisfied: six>=1.5 in /opt/anaconda3/envs/GalaxyClassification/lib/python3.10/site-packages (from python-dateutil>=2.8.1->pandas) (1.16.0)\r\n",
      "Collecting pydot\r\n",
      "  Using cached pydot-1.4.2-py2.py3-none-any.whl (21 kB)\r\n",
      "Requirement already satisfied: pyparsing>=2.1.4 in /opt/anaconda3/envs/GalaxyClassification/lib/python3.10/site-packages (from pydot) (3.0.9)\r\n",
      "Installing collected packages: pydot\r\n",
      "Successfully installed pydot-1.4.2\r\n",
      "\u001B[31mERROR: Could not find a version that satisfies the requirement tensorflow (from versions: none)\u001B[0m\u001B[31m\r\n",
      "\u001B[0m\u001B[31mERROR: No matching distribution found for tensorflow\u001B[0m\u001B[31m\r\n",
      "\u001B[0mRequirement already satisfied: numpy in /opt/anaconda3/envs/GalaxyClassification/lib/python3.10/site-packages (1.23.4)\r\n",
      "Collecting opencv-python\r\n",
      "  Using cached opencv-python-4.6.0.66.tar.gz (90.3 MB)\r\n",
      "  Installing build dependencies ... \u001B[?25ldone\r\n",
      "\u001B[?25h  Getting requirements to build wheel ... \u001B[?25ldone\r\n",
      "\u001B[?25h  Preparing metadata (pyproject.toml) ... \u001B[?25ldone\r\n",
      "\u001B[?25hRequirement already satisfied: numpy>=1.14.5 in /opt/anaconda3/envs/GalaxyClassification/lib/python3.10/site-packages (from opencv-python) (1.23.4)\r\n",
      "Building wheels for collected packages: opencv-python\r\n",
      "  Building wheel for opencv-python (pyproject.toml) ... \u001B[?25ldone\r\n",
      "\u001B[?25h  Created wheel for opencv-python: filename=opencv_python-4.6.0.66-cp310-cp310-macosx_10_13_x86_64.whl size=26467271 sha256=49f3ace7d2fe759e2a5e293d68549833903d790c5dd82201510531a98084c4a3\r\n",
      "  Stored in directory: /Users/benedettatessa/Library/Caches/pip/wheels/83/3e/b8/1d7dd871bb29bd2c4ebd2affd39c9011964b8ae903f9eaf2cf\r\n",
      "Successfully built opencv-python\r\n",
      "Installing collected packages: opencv-python\r\n",
      "Successfully installed opencv-python-4.6.0.66\r\n",
      "Requirement already satisfied: scipy in /opt/anaconda3/envs/GalaxyClassification/lib/python3.10/site-packages (1.9.3)\r\n",
      "Requirement already satisfied: numpy<1.26.0,>=1.18.5 in /opt/anaconda3/envs/GalaxyClassification/lib/python3.10/site-packages (from scipy) (1.23.4)\r\n",
      "Collecting astropy\r\n",
      "  Downloading astropy-5.2-cp310-cp310-macosx_10_9_x86_64.whl (7.0 MB)\r\n",
      "\u001B[2K     \u001B[90m━━━━━━━━━━━━━━━━━━━━━━━━━━━━━━━━━━━━━━━━\u001B[0m \u001B[32m7.0/7.0 MB\u001B[0m \u001B[31m2.2 MB/s\u001B[0m eta \u001B[36m0:00:00\u001B[0m00:01\u001B[0m00:01\u001B[0m\r\n",
      "\u001B[?25hCollecting PyYAML>=3.13\r\n",
      "  Downloading PyYAML-6.0-cp310-cp310-macosx_10_9_x86_64.whl (197 kB)\r\n",
      "\u001B[2K     \u001B[90m━━━━━━━━━━━━━━━━━━━━━━━━━━━━━━━━━━━━━━━\u001B[0m \u001B[32m197.6/197.6 kB\u001B[0m \u001B[31m3.4 MB/s\u001B[0m eta \u001B[36m0:00:00\u001B[0m00:01\u001B[0m\r\n",
      "\u001B[?25hRequirement already satisfied: numpy>=1.20 in /opt/anaconda3/envs/GalaxyClassification/lib/python3.10/site-packages (from astropy) (1.23.4)\r\n",
      "Requirement already satisfied: packaging>=19.0 in /opt/anaconda3/envs/GalaxyClassification/lib/python3.10/site-packages (from astropy) (21.3)\r\n",
      "Collecting pyerfa>=2.0\r\n",
      "  Downloading pyerfa-2.0.0.1-cp310-cp310-macosx_10_9_x86_64.whl (340 kB)\r\n",
      "\u001B[2K     \u001B[90m━━━━━━━━━━━━━━━━━━━━━━━━━━━━━━━━━━━━━━━\u001B[0m \u001B[32m340.4/340.4 kB\u001B[0m \u001B[31m7.3 MB/s\u001B[0m eta \u001B[36m0:00:00\u001B[0m00:01\u001B[0m\r\n",
      "\u001B[?25hRequirement already satisfied: pyparsing!=3.0.5,>=2.0.2 in /opt/anaconda3/envs/GalaxyClassification/lib/python3.10/site-packages (from packaging>=19.0->astropy) (3.0.9)\r\n",
      "Installing collected packages: PyYAML, pyerfa, astropy\r\n",
      "Successfully installed PyYAML-6.0 astropy-5.2 pyerfa-2.0.0.1\r\n"
     ]
    }
   ],
   "source": [
    "! pip install keras\n",
    "! pip install matplotlib\n",
    "! pip install sklearn\n",
    "! pip install pandas\n",
    "! pip install pydot\n",
    "! pip install tensorflow\n",
    "! pip install numpy\n",
    "! pip install opencv-python\n",
    "! pip install scipy\n",
    "! pip install astropy"
   ],
   "metadata": {
    "collapsed": false
   }
  },
  {
   "cell_type": "code",
   "execution_count": null,
   "outputs": [],
   "source": [
    "# OS-dependent\n",
    "if sys.platform.startswith(\"linux\"):  # Linux-like\n",
    "    ! apt install graphviz\n",
    "elif sys.platform == \"darwin\": # MacOS\n",
    "    ! brew install graphviz"
   ],
   "metadata": {
    "collapsed": false
   }
  },
  {
   "cell_type": "markdown",
   "source": [
    "# 2. Folders setup"
   ],
   "metadata": {
    "collapsed": false
   }
  },
  {
   "cell_type": "code",
   "execution_count": null,
   "outputs": [],
   "source": [
    "import os"
   ],
   "metadata": {
    "collapsed": false
   }
  },
  {
   "cell_type": "code",
   "execution_count": null,
   "outputs": [],
   "source": [
    "paths = {\n",
    "    'MODEL_DIR': os.path.join('model'),\n",
    "    'LOG_DIR' : os.path.join('model', 'log_dir'),\n",
    "    'IMAGES_PATH': os.path.join('workspace','images','all'),\n",
    "    'ANNOTATION_PATH': os.path.join('workspace','annotations'),\n",
    "    'RAW_DATA_PATH' : os.path.join('workspace', 'raw_data'),\n",
    "    'RESULTS_PATH': os.path.join('workspace','results'),\n",
    "    'TRANSFER_LEARNING_RESULTS': os.path.join('workspace','transfer_learning_results')\n",
    " }"
   ],
   "metadata": {
    "collapsed": false
   }
  },
  {
   "cell_type": "code",
   "execution_count": null,
   "outputs": [],
   "source": [
    "# create paths\n",
    "for path in paths.values():\n",
    "    if not os.path.exists(path):\n",
    "        if os.name == 'posix': # Unix-like\n",
    "            !mkdir -p {path}\n",
    "        if os.name == 'nt': # Windows\n",
    "            !mkdir {path}"
   ],
   "metadata": {
    "collapsed": false
   }
  },
  {
   "cell_type": "markdown",
   "source": [
    "# 3. Convert h5 file to jpg images using astroNN"
   ],
   "metadata": {
    "collapsed": false
   }
  },
  {
   "cell_type": "code",
   "execution_count": null,
   "outputs": [],
   "source": [
    "! pip install astroNN"
   ],
   "metadata": {
    "collapsed": false
   }
  },
  {
   "cell_type": "code",
   "execution_count": null,
   "outputs": [],
   "source": [
    "from astroNN.datasets import load_galaxy10\n",
    "import os\n",
    "from PIL import Image\n",
    "import pandas as pd\n",
    "import warnings\n",
    "warnings.filterwarnings('ignore')\n",
    "\n",
    "images, labels = load_galaxy10()\n",
    "\n",
    "print(images.size)\n",
    "print(labels.size)\n",
    "df = pd.DataFrame()\n",
    "\n",
    "print(\"Removing previous images...\")\n",
    "for file in os.listdir(os.path.join('workspace', 'images', 'all')):\n",
    "    if file != \".DS_Store\":\n",
    "        os.remove(os.path.join('workspace', 'images', 'all', file))\n",
    "\n",
    "print(\"Saving images in the correct folder...\")\n",
    "for i in range(0,labels.size):\n",
    "    image = images[i]\n",
    "    label = labels[i]\n",
    "    new_row = {'Path':str(i)+\".jpg\", 'Class':labels[i]}\n",
    "    df = df.append(new_row, ignore_index=True)\n",
    "    im = Image.fromarray(image)\n",
    "    im.save(os.path.join('workspace', 'images', 'all',str(i)+\".jpg\"))\n",
    "    if i % 100 == 0:\n",
    "        print(i)\n",
    "df.to_csv(os.path.join('workspace','annotations','annotations.csv'), index=False)"
   ],
   "metadata": {
    "collapsed": false
   }
  }
 ],
 "metadata": {
  "kernelspec": {
   "display_name": "Python 3",
   "language": "python",
   "name": "python3"
  },
  "language_info": {
   "codemirror_mode": {
    "name": "ipython",
    "version": 2
   },
   "file_extension": ".py",
   "mimetype": "text/x-python",
   "name": "python",
   "nbconvert_exporter": "python",
   "pygments_lexer": "ipython2",
   "version": "2.7.6"
  }
 },
 "nbformat": 4,
 "nbformat_minor": 0
}
