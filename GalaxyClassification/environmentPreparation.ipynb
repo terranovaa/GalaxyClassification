{
 "cells": [
  {
   "cell_type": "markdown",
   "source": [
    "# 1. Libraries setup"
   ],
   "metadata": {
    "collapsed": false
   }
  },
  {
   "cell_type": "code",
   "execution_count": null,
   "metadata": {
    "collapsed": true,
    "pycharm": {
     "is_executing": true
    }
   },
   "outputs": [],
   "source": [
    "import sys"
   ]
  },
  {
   "cell_type": "code",
   "execution_count": null,
   "outputs": [
    {
     "name": "stdout",
     "output_type": "stream",
     "text": [
      "^C\r\n",
      "Traceback (most recent call last):\r\n",
      "  File \"/Users/benedettatessa/PycharmProjects/pythonProject/venv/bin/pip\", line 8, in <module>\r\n",
      "    sys.exit(main())\r\n",
      "  File \"/Users/benedettatessa/PycharmProjects/pythonProject/venv/lib/python3.9/site-packages/pip/_internal/cli/main.py\", line 68, in main\r\n",
      "    command = create_command(cmd_name, isolated=(\"--isolated\" in cmd_args))\r\n",
      "  File \"/Users/benedettatessa/PycharmProjects/pythonProject/venv/lib/python3.9/site-packages/pip/_internal/commands/__init__.py\", line 114, in create_command\r\n",
      "    module = importlib.import_module(module_path)\r\n",
      "  File \"/Library/Frameworks/Python.framework/Versions/3.9/lib/python3.9/importlib/__init__.py\", line 127, in import_module\r\n",
      "    return _bootstrap._gcd_import(name[level:], package, level)\r\n",
      "  File \"<frozen importlib._bootstrap>\", line 1030, in _gcd_import\r\n",
      "  File \"<frozen importlib._bootstrap>\", line 1007, in _find_and_load\r\n",
      "  File \"<frozen importlib._bootstrap>\", line 986, in _find_and_load_unlocked\r\n",
      "  File \"<frozen importlib._bootstrap>\", line 680, in _load_unlocked\r\n",
      "  File \"<frozen importlib._bootstrap_external>\", line 850, in exec_module\r\n",
      "  File \"<frozen importlib._bootstrap>\", line 228, in _call_with_frames_removed\r\n",
      "  File \"/Users/benedettatessa/PycharmProjects/pythonProject/venv/lib/python3.9/site-packages/pip/_internal/commands/install.py\", line 16, in <module>\r\n",
      "    from pip._internal.cli.req_command import (\r\n",
      "  File \"/Users/benedettatessa/PycharmProjects/pythonProject/venv/lib/python3.9/site-packages/pip/_internal/cli/req_command.py\", line 26, in <module>\r\n",
      "    from pip._internal.operations.prepare import RequirementPreparer\r\n",
      "  File \"/Users/benedettatessa/PycharmProjects/pythonProject/venv/lib/python3.9/site-packages/pip/_internal/operations/prepare.py\", line 32, in <module>\r\n",
      "    from pip._internal.network.download import BatchDownloader, Downloader\r\n",
      "  File \"/Users/benedettatessa/PycharmProjects/pythonProject/venv/lib/python3.9/site-packages/pip/_internal/network/download.py\", line 11, in <module>\r\n",
      "    from pip._internal.cli.progress_bars import get_download_progress_renderer\r\n",
      "  File \"/Users/benedettatessa/PycharmProjects/pythonProject/venv/lib/python3.9/site-packages/pip/_internal/cli/progress_bars.py\", line 4, in <module>\r\n",
      "    from pip._vendor.rich.progress import (\r\n",
      "  File \"/Users/benedettatessa/PycharmProjects/pythonProject/venv/lib/python3.9/site-packages/pip/_vendor/rich/progress.py\", line 46, in <module>\r\n",
      "    from .live import Live\r\n",
      "  File \"/Users/benedettatessa/PycharmProjects/pythonProject/venv/lib/python3.9/site-packages/pip/_vendor/rich/live.py\", line 9, in <module>\r\n",
      "    from .file_proxy import FileProxy\r\n",
      "  File \"/Users/benedettatessa/PycharmProjects/pythonProject/venv/lib/python3.9/site-packages/pip/_vendor/rich/file_proxy.py\", line 4, in <module>\r\n",
      "    from .ansi import AnsiDecoder\r\n",
      "  File \"<frozen importlib._bootstrap>\", line 1007, in _find_and_load\r\n",
      "  File \"<frozen importlib._bootstrap>\", line 986, in _find_and_load_unlocked\r\n",
      "  File \"<frozen importlib._bootstrap>\", line 680, in _load_unlocked\r\n",
      "  File \"<frozen importlib._bootstrap_external>\", line 846, in exec_module\r\n",
      "  File \"<frozen importlib._bootstrap_external>\", line 941, in get_code\r\n",
      "  File \"<frozen importlib._bootstrap_external>\", line 1040, in get_data\r\n",
      "KeyboardInterrupt\r\n",
      "Requirement already satisfied: matplotlib in /Users/benedettatessa/PycharmProjects/pythonProject/venv/lib/python3.9/site-packages (3.6.2)\r\n",
      "Requirement already satisfied: numpy>=1.19 in /Users/benedettatessa/PycharmProjects/pythonProject/venv/lib/python3.9/site-packages (from matplotlib) (1.23.5)\r\n",
      "Requirement already satisfied: cycler>=0.10 in /Users/benedettatessa/PycharmProjects/pythonProject/venv/lib/python3.9/site-packages (from matplotlib) (0.11.0)\r\n",
      "Requirement already satisfied: kiwisolver>=1.0.1 in /Users/benedettatessa/PycharmProjects/pythonProject/venv/lib/python3.9/site-packages (from matplotlib) (1.4.4)\r\n",
      "Requirement already satisfied: fonttools>=4.22.0 in /Users/benedettatessa/PycharmProjects/pythonProject/venv/lib/python3.9/site-packages (from matplotlib) (4.38.0)\r\n",
      "Requirement already satisfied: pyparsing>=2.2.1 in /Users/benedettatessa/PycharmProjects/pythonProject/venv/lib/python3.9/site-packages (from matplotlib) (3.0.9)\r\n",
      "Requirement already satisfied: packaging>=20.0 in /Users/benedettatessa/PycharmProjects/pythonProject/venv/lib/python3.9/site-packages (from matplotlib) (21.3)\r\n",
      "Requirement already satisfied: pillow>=6.2.0 in /Users/benedettatessa/PycharmProjects/pythonProject/venv/lib/python3.9/site-packages (from matplotlib) (9.3.0)\r\n",
      "Requirement already satisfied: contourpy>=1.0.1 in /Users/benedettatessa/PycharmProjects/pythonProject/venv/lib/python3.9/site-packages (from matplotlib) (1.0.6)\r\n",
      "Requirement already satisfied: python-dateutil>=2.7 in /Users/benedettatessa/PycharmProjects/pythonProject/venv/lib/python3.9/site-packages (from matplotlib) (2.8.2)\r\n",
      "Requirement already satisfied: six>=1.5 in /Users/benedettatessa/PycharmProjects/pythonProject/venv/lib/python3.9/site-packages (from python-dateutil>=2.7->matplotlib) (1.15.0)\r\n",
      "Requirement already satisfied: sklearn in /Users/benedettatessa/PycharmProjects/pythonProject/venv/lib/python3.9/site-packages (0.0.post1)\r\n",
      "Requirement already satisfied: pandas in /Users/benedettatessa/PycharmProjects/pythonProject/venv/lib/python3.9/site-packages (1.5.2)\r\n",
      "Requirement already satisfied: python-dateutil>=2.8.1 in /Users/benedettatessa/PycharmProjects/pythonProject/venv/lib/python3.9/site-packages (from pandas) (2.8.2)\r\n",
      "Requirement already satisfied: numpy>=1.20.3 in /Users/benedettatessa/PycharmProjects/pythonProject/venv/lib/python3.9/site-packages (from pandas) (1.23.5)\r\n",
      "Requirement already satisfied: pytz>=2020.1 in /Users/benedettatessa/PycharmProjects/pythonProject/venv/lib/python3.9/site-packages (from pandas) (2022.6)\r\n",
      "Requirement already satisfied: six>=1.5 in /Users/benedettatessa/PycharmProjects/pythonProject/venv/lib/python3.9/site-packages (from python-dateutil>=2.8.1->pandas) (1.15.0)\r\n",
      "Requirement already satisfied: pydot in /Users/benedettatessa/PycharmProjects/pythonProject/venv/lib/python3.9/site-packages (1.4.2)\r\n",
      "Requirement already satisfied: pyparsing>=2.1.4 in /Users/benedettatessa/PycharmProjects/pythonProject/venv/lib/python3.9/site-packages (from pydot) (3.0.9)\r\n",
      "Requirement already satisfied: tensorflow in /Users/benedettatessa/PycharmProjects/pythonProject/venv/lib/python3.9/site-packages (2.6.5)\r\n",
      "Requirement already satisfied: typing-extensions<3.11,>=3.7 in /Users/benedettatessa/PycharmProjects/pythonProject/venv/lib/python3.9/site-packages (from tensorflow) (3.10.0.2)\r\n",
      "Requirement already satisfied: tensorboard<2.7,>=2.6.0 in /Users/benedettatessa/PycharmProjects/pythonProject/venv/lib/python3.9/site-packages (from tensorflow) (2.6.0)\r\n",
      "Requirement already satisfied: absl-py~=0.10 in /Users/benedettatessa/PycharmProjects/pythonProject/venv/lib/python3.9/site-packages (from tensorflow) (0.15.0)\r\n",
      "Requirement already satisfied: h5py~=3.1.0 in /Users/benedettatessa/PycharmProjects/pythonProject/venv/lib/python3.9/site-packages (from tensorflow) (3.1.0)\r\n",
      "Requirement already satisfied: astunparse~=1.6.3 in /Users/benedettatessa/PycharmProjects/pythonProject/venv/lib/python3.9/site-packages (from tensorflow) (1.6.3)\r\n",
      "Requirement already satisfied: google-pasta~=0.2 in /Users/benedettatessa/PycharmProjects/pythonProject/venv/lib/python3.9/site-packages (from tensorflow) (0.2.0)\r\n",
      "Requirement already satisfied: gast==0.4.0 in /Users/benedettatessa/PycharmProjects/pythonProject/venv/lib/python3.9/site-packages (from tensorflow) (0.4.0)\r\n",
      "Requirement already satisfied: clang~=5.0 in /Users/benedettatessa/PycharmProjects/pythonProject/venv/lib/python3.9/site-packages (from tensorflow) (5.0)\r\n",
      "Requirement already satisfied: wheel~=0.35 in /Users/benedettatessa/PycharmProjects/pythonProject/venv/lib/python3.9/site-packages (from tensorflow) (0.37.1)\r\n",
      "Requirement already satisfied: grpcio<2.0,>=1.37.0 in /Users/benedettatessa/PycharmProjects/pythonProject/venv/lib/python3.9/site-packages (from tensorflow) (1.51.1)\r\n",
      "Requirement already satisfied: keras<2.7,>=2.6.0 in /Users/benedettatessa/PycharmProjects/pythonProject/venv/lib/python3.9/site-packages (from tensorflow) (2.6.0)\r\n",
      "Requirement already satisfied: keras-preprocessing~=1.1.2 in /Users/benedettatessa/PycharmProjects/pythonProject/venv/lib/python3.9/site-packages (from tensorflow) (1.1.2)\r\n",
      "Collecting numpy~=1.19.2\r\n",
      "  Using cached numpy-1.19.5-cp39-cp39-macosx_10_9_x86_64.whl (15.6 MB)\r\n",
      "Requirement already satisfied: termcolor~=1.1.0 in /Users/benedettatessa/PycharmProjects/pythonProject/venv/lib/python3.9/site-packages (from tensorflow) (1.1.0)\r\n",
      "Requirement already satisfied: tensorflow-estimator<2.7,>=2.6.0 in /Users/benedettatessa/PycharmProjects/pythonProject/venv/lib/python3.9/site-packages (from tensorflow) (2.6.0)\r\n",
      "Requirement already satisfied: six~=1.15.0 in /Users/benedettatessa/PycharmProjects/pythonProject/venv/lib/python3.9/site-packages (from tensorflow) (1.15.0)\r\n",
      "Requirement already satisfied: protobuf<3.20,>=3.9.2 in /Users/benedettatessa/PycharmProjects/pythonProject/venv/lib/python3.9/site-packages (from tensorflow) (3.19.6)\r\n",
      "Requirement already satisfied: opt-einsum~=3.3.0 in /Users/benedettatessa/PycharmProjects/pythonProject/venv/lib/python3.9/site-packages (from tensorflow) (3.3.0)\r\n",
      "Requirement already satisfied: wrapt~=1.12.1 in /Users/benedettatessa/PycharmProjects/pythonProject/venv/lib/python3.9/site-packages (from tensorflow) (1.12.1)\r\n",
      "Requirement already satisfied: flatbuffers~=1.12.0 in /Users/benedettatessa/PycharmProjects/pythonProject/venv/lib/python3.9/site-packages (from tensorflow) (1.12)\r\n",
      "Requirement already satisfied: google-auth-oauthlib<0.5,>=0.4.1 in /Users/benedettatessa/PycharmProjects/pythonProject/venv/lib/python3.9/site-packages (from tensorboard<2.7,>=2.6.0->tensorflow) (0.4.6)\r\n",
      "Requirement already satisfied: werkzeug>=0.11.15 in /Users/benedettatessa/PycharmProjects/pythonProject/venv/lib/python3.9/site-packages (from tensorboard<2.7,>=2.6.0->tensorflow) (2.2.2)\r\n",
      "Requirement already satisfied: tensorboard-data-server<0.7.0,>=0.6.0 in /Users/benedettatessa/PycharmProjects/pythonProject/venv/lib/python3.9/site-packages (from tensorboard<2.7,>=2.6.0->tensorflow) (0.6.1)\r\n",
      "Requirement already satisfied: google-auth<2,>=1.6.3 in /Users/benedettatessa/PycharmProjects/pythonProject/venv/lib/python3.9/site-packages (from tensorboard<2.7,>=2.6.0->tensorflow) (1.35.0)\r\n",
      "Requirement already satisfied: markdown>=2.6.8 in /Users/benedettatessa/PycharmProjects/pythonProject/venv/lib/python3.9/site-packages (from tensorboard<2.7,>=2.6.0->tensorflow) (3.4.1)\r\n",
      "Requirement already satisfied: requests<3,>=2.21.0 in /Users/benedettatessa/PycharmProjects/pythonProject/venv/lib/python3.9/site-packages (from tensorboard<2.7,>=2.6.0->tensorflow) (2.28.1)\r\n",
      "Requirement already satisfied: setuptools>=41.0.0 in /Users/benedettatessa/PycharmProjects/pythonProject/venv/lib/python3.9/site-packages (from tensorboard<2.7,>=2.6.0->tensorflow) (60.2.0)\r\n",
      "Requirement already satisfied: tensorboard-plugin-wit>=1.6.0 in /Users/benedettatessa/PycharmProjects/pythonProject/venv/lib/python3.9/site-packages (from tensorboard<2.7,>=2.6.0->tensorflow) (1.8.1)\r\n",
      "Requirement already satisfied: pyasn1-modules>=0.2.1 in /Users/benedettatessa/PycharmProjects/pythonProject/venv/lib/python3.9/site-packages (from google-auth<2,>=1.6.3->tensorboard<2.7,>=2.6.0->tensorflow) (0.2.8)\r\n",
      "Requirement already satisfied: rsa<5,>=3.1.4 in /Users/benedettatessa/PycharmProjects/pythonProject/venv/lib/python3.9/site-packages (from google-auth<2,>=1.6.3->tensorboard<2.7,>=2.6.0->tensorflow) (4.9)\r\n",
      "Requirement already satisfied: cachetools<5.0,>=2.0.0 in /Users/benedettatessa/PycharmProjects/pythonProject/venv/lib/python3.9/site-packages (from google-auth<2,>=1.6.3->tensorboard<2.7,>=2.6.0->tensorflow) (4.2.4)\r\n",
      "Requirement already satisfied: requests-oauthlib>=0.7.0 in /Users/benedettatessa/PycharmProjects/pythonProject/venv/lib/python3.9/site-packages (from google-auth-oauthlib<0.5,>=0.4.1->tensorboard<2.7,>=2.6.0->tensorflow) (1.3.1)\r\n",
      "Requirement already satisfied: importlib-metadata>=4.4 in /Users/benedettatessa/PycharmProjects/pythonProject/venv/lib/python3.9/site-packages (from markdown>=2.6.8->tensorboard<2.7,>=2.6.0->tensorflow) (5.1.0)\r\n",
      "Requirement already satisfied: charset-normalizer<3,>=2 in /Users/benedettatessa/PycharmProjects/pythonProject/venv/lib/python3.9/site-packages (from requests<3,>=2.21.0->tensorboard<2.7,>=2.6.0->tensorflow) (2.1.1)\r\n",
      "Requirement already satisfied: idna<4,>=2.5 in /Users/benedettatessa/PycharmProjects/pythonProject/venv/lib/python3.9/site-packages (from requests<3,>=2.21.0->tensorboard<2.7,>=2.6.0->tensorflow) (3.4)\r\n",
      "Requirement already satisfied: certifi>=2017.4.17 in /Users/benedettatessa/PycharmProjects/pythonProject/venv/lib/python3.9/site-packages (from requests<3,>=2.21.0->tensorboard<2.7,>=2.6.0->tensorflow) (2022.12.7)\r\n",
      "Requirement already satisfied: urllib3<1.27,>=1.21.1 in /Users/benedettatessa/PycharmProjects/pythonProject/venv/lib/python3.9/site-packages (from requests<3,>=2.21.0->tensorboard<2.7,>=2.6.0->tensorflow) (1.26.13)\r\n",
      "Requirement already satisfied: MarkupSafe>=2.1.1 in /Users/benedettatessa/PycharmProjects/pythonProject/venv/lib/python3.9/site-packages (from werkzeug>=0.11.15->tensorboard<2.7,>=2.6.0->tensorflow) (2.1.1)\r\n",
      "Requirement already satisfied: zipp>=0.5 in /Users/benedettatessa/PycharmProjects/pythonProject/venv/lib/python3.9/site-packages (from importlib-metadata>=4.4->markdown>=2.6.8->tensorboard<2.7,>=2.6.0->tensorflow) (3.11.0)\r\n",
      "Requirement already satisfied: pyasn1<0.5.0,>=0.4.6 in /Users/benedettatessa/PycharmProjects/pythonProject/venv/lib/python3.9/site-packages (from pyasn1-modules>=0.2.1->google-auth<2,>=1.6.3->tensorboard<2.7,>=2.6.0->tensorflow) (0.4.8)\r\n",
      "Requirement already satisfied: oauthlib>=3.0.0 in /Users/benedettatessa/PycharmProjects/pythonProject/venv/lib/python3.9/site-packages (from requests-oauthlib>=0.7.0->google-auth-oauthlib<0.5,>=0.4.1->tensorboard<2.7,>=2.6.0->tensorflow) (3.2.2)\r\n",
      "Installing collected packages: numpy\r\n",
      "  Attempting uninstall: numpy\r\n",
      "    Found existing installation: numpy 1.23.5\r\n",
      "    Uninstalling numpy-1.23.5:\r\n",
      "      Successfully uninstalled numpy-1.23.5\r\n",
      "\u001B[31mERROR: pip's dependency resolver does not currently take into account all the packages that are installed. This behaviour is the source of the following dependency conflicts.\r\n",
      "pandas 1.5.2 requires numpy>=1.20.3; python_version < \"3.10\", but you have numpy 1.19.5 which is incompatible.\u001B[0m\u001B[31m\r\n",
      "\u001B[0mSuccessfully installed numpy-1.23.5\r\n",
      "Requirement already satisfied: numpy in /Users/benedettatessa/PycharmProjects/pythonProject/venv/lib/python3.9/site-packages (1.23.5)\r\n",
      "Collecting opencv-python\r\n",
      "  Using cached opencv-python-4.6.0.66.tar.gz (90.3 MB)\r\n",
      "  Installing build dependencies ... \u001B[?25ldone\r\n",
      "\u001B[?25h  Getting requirements to build wheel ... \u001B[?25ldone\r\n",
      "\u001B[?25h  Preparing metadata (pyproject.toml) ... \u001B[?25ldone\r\n",
      "\u001B[?25hRequirement already satisfied: numpy>=1.17.3 in /Users/benedettatessa/PycharmProjects/pythonProject/venv/lib/python3.9/site-packages (from opencv-python) (1.23.5)\r\n",
      "Building wheels for collected packages: opencv-python\r\n",
      "  Building wheel for opencv-python (pyproject.toml) ... \u001B[?25l|"
     ]
    }
   ],
   "source": [
    "! pip install keras\n",
    "! pip install matplotlib\n",
    "! pip install sklearn\n",
    "! pip install pandas\n",
    "! pip install pydot\n",
    "! pip install tensorflow\n",
    "! pip install numpy\n",
    "! pip install opencv-python\n",
    "! pip install scipy\n",
    "! pip install astropy"
   ],
   "metadata": {
    "collapsed": false,
    "pycharm": {
     "is_executing": true
    }
   }
  },
  {
   "cell_type": "code",
   "execution_count": null,
   "outputs": [],
   "source": [
    "# OS-dependent\n",
    "if sys.platform.startswith(\"linux\"):  # Linux-like\n",
    "    ! apt install graphviz\n",
    "elif sys.platform == \"darwin\": # MacOS\n",
    "    ! brew install graphviz"
   ],
   "metadata": {
    "collapsed": false,
    "pycharm": {
     "is_executing": true
    }
   }
  },
  {
   "cell_type": "markdown",
   "source": [
    "# 2. Folders setup"
   ],
   "metadata": {
    "collapsed": false
   }
  },
  {
   "cell_type": "code",
   "execution_count": 2,
   "outputs": [],
   "source": [
    "import os"
   ],
   "metadata": {
    "collapsed": false
   }
  },
  {
   "cell_type": "code",
   "execution_count": 3,
   "outputs": [],
   "source": [
    "paths = {\n",
    "    'MODEL_DIR': os.path.join('model'),\n",
    "    'LOG_DIR' : os.path.join('model', 'log_dir'),\n",
    "    'IMAGES_PATH': os.path.join('workspace','images','all'),\n",
    "    'ANNOTATION_PATH': os.path.join('workspace','annotations'),\n",
    "    'RESULTS_PATH': os.path.join('workspace','results'),\n",
    "    'TRANSFER_LEARNING_RESULTS': os.path.join('workspace','transfer_learning_results')\n",
    " }"
   ],
   "metadata": {
    "collapsed": false
   }
  },
  {
   "cell_type": "code",
   "execution_count": 4,
   "outputs": [],
   "source": [
    "# create paths\n",
    "for path in paths.values():\n",
    "    if not os.path.exists(path):\n",
    "        if os.name == 'posix': # Unix-like\n",
    "            !mkdir -p {path}\n",
    "        if os.name == 'nt': # Windows\n",
    "            !mkdir {path}"
   ],
   "metadata": {
    "collapsed": false
   }
  }
 ],
 "metadata": {
  "kernelspec": {
   "display_name": "Python 3",
   "language": "python",
   "name": "python3"
  },
  "language_info": {
   "codemirror_mode": {
    "name": "ipython",
    "version": 2
   },
   "file_extension": ".py",
   "mimetype": "text/x-python",
   "name": "python",
   "nbconvert_exporter": "python",
   "pygments_lexer": "ipython2",
   "version": "2.7.6"
  }
 },
 "nbformat": 4,
 "nbformat_minor": 0
}
