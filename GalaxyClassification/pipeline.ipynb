{
 "cells": [
  {
   "cell_type": "code",
   "execution_count": null,
   "outputs": [],
   "source": [
    "# rebalancing VS class weights -> scelta per sempre amici\n",
    "    # CNN baseline (16, 32, 64), early stopping\n",
    "    # se class weights minore, però non troppo minore, comunque class weights (perchè senza dati finti)\n",
    "    # se vince class weights -> ImageDataGenerator\n",
    "\n",
    "# class weights benny carina\n",
    "# rebalancing franco\n",
    "# holdout una sola esecuzione già sul drive\n",
    "\n",
    "# -> checkpoint (?) domani"
   ],
   "metadata": {
    "collapsed": false
   }
  },
  {
   "cell_type": "code",
   "execution_count": null,
   "outputs": [],
   "source": [
    "# CNN baseline (16, 32, 64, 128), early stopping\n",
    "# CNN baseline (16, 32, 64, 128) + dropout, early stopping\n",
    "# CNN baseline (16, 32, 64, 128) + dropout & regularizer & BatchNormalization, early stopping"
   ],
   "metadata": {
    "collapsed": false
   }
  },
  {
   "cell_type": "code",
   "execution_count": null,
   "outputs": [],
   "source": [
    "# hyperparameter optimizations: hyperband, bayesian optimization\n",
    "# 2 optimal models (best accuracy)\n",
    "# visualization"
   ],
   "metadata": {
    "collapsed": false
   }
  },
  {
   "cell_type": "code",
   "execution_count": null,
   "outputs": [],
   "source": [
    "# scelta modello: EfficientNetB2\n",
    "# fine_tuning, vedere da quanto sfreezare da paper (benny)\n",
    "# feature_extraction\n",
    "# metodo ottimo transfer learning\n",
    "# visualization"
   ],
   "metadata": {
    "collapsed": false
   }
  },
  {
   "cell_type": "code",
   "execution_count": null,
   "outputs": [],
   "source": [
    "# kfold CV\n",
    "# training, test set\n",
    "# confronto metodo ottimo transfer learning VS CNN hyperparameter optimization\n",
    "\n",
    "# confronto t-test o wilcoxon (controllare ipotesi)"
   ],
   "metadata": {
    "collapsed": false
   }
  },
  {
   "cell_type": "code",
   "execution_count": null,
   "outputs": [],
   "source": [
    "# ottimo ottimo, lo retrainiamo\n",
    "# early stopping, Tensorboard, log"
   ],
   "metadata": {
    "collapsed": false
   }
  },
  {
   "cell_type": "code",
   "execution_count": null,
   "outputs": [],
   "source": [
    "# confusion matrix, P, R, F-Measure, forse(ROC Curve, AUC)"
   ],
   "metadata": {
    "collapsed": false
   }
  }
 ],
 "metadata": {
  "kernelspec": {
   "display_name": "Python 3",
   "language": "python",
   "name": "python3"
  },
  "language_info": {
   "codemirror_mode": {
    "name": "ipython",
    "version": 2
   },
   "file_extension": ".py",
   "mimetype": "text/x-python",
   "name": "python",
   "nbconvert_exporter": "python",
   "pygments_lexer": "ipython2",
   "version": "2.7.6"
  }
 },
 "nbformat": 4,
 "nbformat_minor": 0
}
