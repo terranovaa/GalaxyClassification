{
 "cells": [
  {
   "cell_type": "code",
   "execution_count": 1,
   "metadata": {
    "collapsed": true,
    "pycharm": {
     "name": "#%%\n"
    }
   },
   "outputs": [
    {
     "name": "stderr",
     "output_type": "stream",
     "text": [
      "2022-12-06 10:05:33.459761: I tensorflow/core/platform/cpu_feature_guard.cc:193] This TensorFlow binary is optimized with oneAPI Deep Neural Network Library (oneDNN) to use the following CPU instructions in performance-critical operations:  AVX2 FMA\n",
      "To enable them in other operations, rebuild TensorFlow with the appropriate compiler flags.\n",
      "/Users/francoterranova/opt/anaconda3/lib/python3.9/site-packages/tensorflow_io/python/ops/__init__.py:98: UserWarning: unable to load libtensorflow_io_plugins.so: unable to open file: libtensorflow_io_plugins.so, from paths: ['/Users/francoterranova/opt/anaconda3/lib/python3.9/site-packages/tensorflow_io/python/ops/libtensorflow_io_plugins.so']\n",
      "caused by: [\"dlopen(/Users/francoterranova/opt/anaconda3/lib/python3.9/site-packages/tensorflow_io/python/ops/libtensorflow_io_plugins.so, 0x0006): symbol not found in flat namespace '__ZN3tsl2io7DirnameENSt3__117basic_string_viewIcNS1_11char_traitsIcEEEE'\"]\n",
      "  warnings.warn(f\"unable to load libtensorflow_io_plugins.so: {e}\")\n",
      "/Users/francoterranova/opt/anaconda3/lib/python3.9/site-packages/tensorflow_io/python/ops/__init__.py:104: UserWarning: file system plugins are not loaded: unable to open file: libtensorflow_io.so, from paths: ['/Users/francoterranova/opt/anaconda3/lib/python3.9/site-packages/tensorflow_io/python/ops/libtensorflow_io.so']\n",
      "caused by: [\"dlopen(/Users/francoterranova/opt/anaconda3/lib/python3.9/site-packages/tensorflow_io/python/ops/libtensorflow_io.so, 0x0006): symbol not found in flat namespace '__ZN10tensorflow12OpDefBuilder10SetShapeFnENSt3__18functionIFN3tsl6StatusEPNS_15shape_inference16InferenceContextEEEE'\"]\n",
      "  warnings.warn(f\"file system plugins are not loaded: {e}\")\n"
     ]
    }
   ],
   "source": [
    "import random\n",
    "from sklearn.model_selection import KFold\n",
    "import math\n",
    "import pandas as pd\n",
    "import shutil\n",
    "import time\n",
    "from keras.models import load_model\n",
    "from keras.preprocessing.image import ImageDataGenerator\n",
    "import os"
   ]
  },
  {
   "cell_type": "code",
   "execution_count": 26,
   "outputs": [],
   "source": [
    "paths = {\n",
    "    'TRAIN_PATH' : os.path.join('workspace', 'images', 'train'),\n",
    "    'TEST_PATH' : os.path.join('workspace', 'images','test'),\n",
    "    'EVAL_PATH' : os.path.join('workspace', 'images','eval'),\n",
    "    'IMAGES_PATH': os.path.join('workspace','images','all'),\n",
    "    'ANNOTATION_PATH': os.path.join('workspace','annotations'),\n",
    "    'RESULTS_PATH': os.path.join('workspace','results')\n",
    " }"
   ],
   "metadata": {
    "collapsed": false,
    "pycharm": {
     "name": "#%%\n"
    }
   }
  },
  {
   "cell_type": "code",
   "execution_count": 31,
   "outputs": [],
   "source": [
    "input_height = int(1920/8)\n",
    "input_width = int(1080/8)\n",
    "batch_size = 4\n",
    "\n",
    "augmentation=True\n",
    "# TODO: find best ones using the display_data_augmentation_sample jupyter notebook\n",
    "rescale_size=1./255\n",
    "rotation_range=20 # range within which we randomly rotate pictures\n",
    "width_shift_range=0.05 # range withing which we shift image horizontally\n",
    "height_shift_range=0.05 # range withing which we shift image vertically\n",
    "shear_range=0.2 # random shearing transformation\n",
    "zoom_range=0.2 # random zoom inside pictures\n",
    "horizontal_flip=True\n",
    "fill_mode='nearest' # strategy to fill newly created pixels after rotation or shift\n",
    "# consider also stride (>1), type of pooling (Max, Avg), padding (same, valid)"
   ],
   "metadata": {
    "collapsed": false,
    "pycharm": {
     "name": "#%%\n"
    }
   }
  },
  {
   "cell_type": "code",
   "execution_count": 32,
   "outputs": [],
   "source": [
    "K = 10"
   ],
   "metadata": {
    "collapsed": false,
    "pycharm": {
     "name": "#%%\n"
    }
   }
  },
  {
   "cell_type": "code",
   "execution_count": 33,
   "outputs": [],
   "source": [
    "model_path = os.path.join(\"models\",\"CNN_baseline.h5\")"
   ],
   "metadata": {
    "collapsed": false,
    "pycharm": {
     "name": "#%%\n"
    }
   }
  },
  {
   "cell_type": "code",
   "execution_count": 34,
   "outputs": [],
   "source": [
    "epochs = 2"
   ],
   "metadata": {
    "collapsed": false,
    "pycharm": {
     "name": "#%%\n"
    }
   }
  },
  {
   "cell_type": "code",
   "execution_count": 35,
   "outputs": [],
   "source": [
    "def emptyFolders():\n",
    "    for file in os.listdir(paths[\"TRAIN_PATH\"]):\n",
    "        if file != \".DS_Store\":\n",
    "            os.remove(os.path.join(paths[\"TRAIN_PATH\"], file))\n",
    "    for file in os.listdir(paths[\"TEST_PATH\"]):\n",
    "        if file != \".DS_Store\":\n",
    "            os.remove(os.path.join(paths[\"TEST_PATH\"], file))\n",
    "\n",
    "df = pd.read_csv(os.path.join(paths['ANNOTATION_PATH'],\"annotations.csv\"))\n",
    "df = df.dropna()"
   ],
   "metadata": {
    "collapsed": false,
    "pycharm": {
     "name": "#%%\n"
    }
   }
  },
  {
   "cell_type": "code",
   "execution_count": 38,
   "outputs": [
    {
     "name": "stdout",
     "output_type": "stream",
     "text": [
      "====== K-Fold CV Iteration: 1/10 =======\n",
      "Folders empty..\n",
      "Train:  180\n",
      "Test:  21\n",
      "Letter to be removed from the training set: B\n",
      "Train:  163\n",
      "Test:  38\n",
      "Created csv files..\n",
      "Found 163 validated image filenames.\n",
      "Found 38 validated image filenames.\n"
     ]
    },
    {
     "name": "stderr",
     "output_type": "stream",
     "text": [
      "/var/folders/lp/fbpz2wyx1kb4b5zgt8w_tsp40000gn/T/ipykernel_38356/3992552463.py:83: UserWarning: `Model.fit_generator` is deprecated and will be removed in a future version. Please use `Model.fit`, which supports generators.\n",
      "  history = model.fit_generator(\n"
     ]
    },
    {
     "name": "stdout",
     "output_type": "stream",
     "text": [
      "Epoch 1/2\n",
      "16/16 [==============================] - 9s 520ms/step - loss: 4825.6699 - mae: 63.5557 - val_loss: 5980.0312 - val_mae: 73.7494\n",
      "Epoch 2/2\n",
      "16/16 [==============================] - 8s 464ms/step - loss: 5967.6528 - mae: 70.6818 - val_loss: 5049.3779 - val_mae: 67.2242\n",
      "====== K-Fold CV Iteration: 2/10 =======\n",
      "Folders empty..\n",
      "Train:  181\n",
      "Test:  20\n",
      "Letter to be removed from the training set: B\n",
      "Train:  165\n",
      "Test:  36\n",
      "Created csv files..\n",
      "Found 165 validated image filenames.\n",
      "Found 36 validated image filenames.\n"
     ]
    },
    {
     "name": "stderr",
     "output_type": "stream",
     "text": [
      "/var/folders/lp/fbpz2wyx1kb4b5zgt8w_tsp40000gn/T/ipykernel_38356/3992552463.py:83: UserWarning: `Model.fit_generator` is deprecated and will be removed in a future version. Please use `Model.fit`, which supports generators.\n",
      "  history = model.fit_generator(\n"
     ]
    },
    {
     "name": "stdout",
     "output_type": "stream",
     "text": [
      "Epoch 1/2\n",
      "16/16 [==============================] - 7s 392ms/step - loss: 5499.6514 - mae: 68.5930 - val_loss: 4553.2134 - val_mae: 62.6491\n",
      "Epoch 2/2\n",
      "16/16 [==============================] - 8s 473ms/step - loss: 6233.6055 - mae: 71.5721 - val_loss: 4019.4019 - val_mae: 58.0740\n",
      "====== K-Fold CV Iteration: 3/10 =======\n",
      "Folders empty..\n",
      "Train:  181\n",
      "Test:  20\n",
      "Letter to be removed from the training set: L\n",
      "Train:  159\n",
      "Test:  42\n",
      "Created csv files..\n",
      "Found 159 validated image filenames.\n",
      "Found 42 validated image filenames.\n"
     ]
    },
    {
     "name": "stderr",
     "output_type": "stream",
     "text": [
      "/var/folders/lp/fbpz2wyx1kb4b5zgt8w_tsp40000gn/T/ipykernel_38356/3992552463.py:83: UserWarning: `Model.fit_generator` is deprecated and will be removed in a future version. Please use `Model.fit`, which supports generators.\n",
      "  history = model.fit_generator(\n"
     ]
    },
    {
     "name": "stdout",
     "output_type": "stream",
     "text": [
      "Epoch 1/2\n",
      "15/15 [==============================] - 11s 629ms/step - loss: 6201.5234 - mae: 73.4874 - val_loss: 5547.3467 - val_mae: 67.8680\n",
      "Epoch 2/2\n",
      "15/15 [==============================] - 16s 994ms/step - loss: 6254.1455 - mae: 72.6595 - val_loss: 6253.9111 - val_mae: 72.9939\n",
      "====== K-Fold CV Iteration: 4/10 =======\n",
      "Folders empty..\n",
      "Train:  181\n",
      "Test:  20\n",
      "Letter to be removed from the training set: H\n",
      "Train:  173\n",
      "Test:  28\n",
      "Created csv files..\n",
      "Found 173 validated image filenames.\n",
      "Found 28 validated image filenames.\n"
     ]
    },
    {
     "name": "stderr",
     "output_type": "stream",
     "text": [
      "/var/folders/lp/fbpz2wyx1kb4b5zgt8w_tsp40000gn/T/ipykernel_38356/3992552463.py:83: UserWarning: `Model.fit_generator` is deprecated and will be removed in a future version. Please use `Model.fit`, which supports generators.\n",
      "  history = model.fit_generator(\n"
     ]
    },
    {
     "name": "stdout",
     "output_type": "stream",
     "text": [
      "Epoch 1/2\n",
      "17/17 [==============================] - 15s 654ms/step - loss: 5547.1182 - mae: 67.7954 - val_loss: 4426.6445 - val_mae: 58.0870\n",
      "Epoch 2/2\n",
      "17/17 [==============================] - 10s 601ms/step - loss: 5524.5210 - mae: 68.7009 - val_loss: 3914.2839 - val_mae: 57.1972\n",
      "====== K-Fold CV Iteration: 5/10 =======\n",
      "Folders empty..\n",
      "Train:  181\n",
      "Test:  20\n",
      "Letter to be removed from the training set: K\n",
      "Train:  164\n",
      "Test:  37\n",
      "Created csv files..\n",
      "Found 164 validated image filenames.\n",
      "Found 37 validated image filenames.\n"
     ]
    },
    {
     "name": "stderr",
     "output_type": "stream",
     "text": [
      "/var/folders/lp/fbpz2wyx1kb4b5zgt8w_tsp40000gn/T/ipykernel_38356/3992552463.py:83: UserWarning: `Model.fit_generator` is deprecated and will be removed in a future version. Please use `Model.fit`, which supports generators.\n",
      "  history = model.fit_generator(\n"
     ]
    },
    {
     "name": "stdout",
     "output_type": "stream",
     "text": [
      "Epoch 1/2\n",
      "16/16 [==============================] - 18s 1000ms/step - loss: 5813.5176 - mae: 69.0213 - val_loss: 6196.8701 - val_mae: 71.0507\n",
      "Epoch 2/2\n",
      "16/16 [==============================] - 11s 663ms/step - loss: 6315.1987 - mae: 72.6632 - val_loss: 5416.6143 - val_mae: 69.8078\n",
      "====== K-Fold CV Iteration: 6/10 =======\n",
      "Folders empty..\n",
      "Train:  181\n",
      "Test:  20\n",
      "Letter to be removed from the training set: M\n",
      "Train:  152\n",
      "Test:  49\n",
      "Created csv files..\n",
      "Found 152 validated image filenames.\n",
      "Found 49 validated image filenames.\n"
     ]
    },
    {
     "name": "stderr",
     "output_type": "stream",
     "text": [
      "/var/folders/lp/fbpz2wyx1kb4b5zgt8w_tsp40000gn/T/ipykernel_38356/3992552463.py:83: UserWarning: `Model.fit_generator` is deprecated and will be removed in a future version. Please use `Model.fit`, which supports generators.\n",
      "  history = model.fit_generator(\n"
     ]
    },
    {
     "name": "stdout",
     "output_type": "stream",
     "text": [
      "Epoch 1/2\n",
      "15/15 [==============================] - 16s 1s/step - loss: 5130.8174 - mae: 65.8300 - val_loss: 4837.0088 - val_mae: 64.5293\n",
      "Epoch 2/2\n",
      "15/15 [==============================] - 9s 622ms/step - loss: 6147.9844 - mae: 71.3477 - val_loss: 4603.8276 - val_mae: 63.5576\n",
      "====== K-Fold CV Iteration: 7/10 =======\n",
      "Folders empty..\n",
      "Train:  181\n",
      "Test:  20\n",
      "Letter to be removed from the training set: E\n",
      "Train:  172\n",
      "Test:  29\n",
      "Created csv files..\n",
      "Found 172 validated image filenames.\n",
      "Found 29 validated image filenames.\n"
     ]
    },
    {
     "name": "stderr",
     "output_type": "stream",
     "text": [
      "/var/folders/lp/fbpz2wyx1kb4b5zgt8w_tsp40000gn/T/ipykernel_38356/3992552463.py:83: UserWarning: `Model.fit_generator` is deprecated and will be removed in a future version. Please use `Model.fit`, which supports generators.\n",
      "  history = model.fit_generator(\n"
     ]
    },
    {
     "name": "stdout",
     "output_type": "stream",
     "text": [
      "Epoch 1/2\n",
      "17/17 [==============================] - 13s 674ms/step - loss: 5900.7349 - mae: 71.3325 - val_loss: 4626.8452 - val_mae: 63.6215\n",
      "Epoch 2/2\n",
      "17/17 [==============================] - 10s 589ms/step - loss: 5770.2988 - mae: 70.3625 - val_loss: 4599.8911 - val_mae: 64.4473\n",
      "====== K-Fold CV Iteration: 8/10 =======\n",
      "Folders empty..\n",
      "Train:  181\n",
      "Test:  20\n",
      "Letter to be removed from the training set: B\n",
      "Train:  164\n",
      "Test:  37\n",
      "Created csv files..\n",
      "Found 164 validated image filenames.\n",
      "Found 37 validated image filenames.\n"
     ]
    },
    {
     "name": "stderr",
     "output_type": "stream",
     "text": [
      "/var/folders/lp/fbpz2wyx1kb4b5zgt8w_tsp40000gn/T/ipykernel_38356/3992552463.py:83: UserWarning: `Model.fit_generator` is deprecated and will be removed in a future version. Please use `Model.fit`, which supports generators.\n",
      "  history = model.fit_generator(\n"
     ]
    },
    {
     "name": "stdout",
     "output_type": "stream",
     "text": [
      "Epoch 1/2\n",
      "16/16 [==============================] - 19s 874ms/step - loss: 6037.6523 - mae: 70.7820 - val_loss: 4742.1025 - val_mae: 65.2831\n",
      "Epoch 2/2\n",
      "16/16 [==============================] - 12s 725ms/step - loss: 5980.7852 - mae: 70.5718 - val_loss: 4268.9482 - val_mae: 61.3288\n",
      "====== K-Fold CV Iteration: 9/10 =======\n",
      "Folders empty..\n",
      "Train:  181\n",
      "Test:  20\n",
      "Letter to be removed from the training set: L\n",
      "Train:  158\n",
      "Test:  43\n",
      "Created csv files..\n",
      "Found 158 validated image filenames.\n",
      "Found 43 validated image filenames.\n"
     ]
    },
    {
     "name": "stderr",
     "output_type": "stream",
     "text": [
      "/var/folders/lp/fbpz2wyx1kb4b5zgt8w_tsp40000gn/T/ipykernel_38356/3992552463.py:83: UserWarning: `Model.fit_generator` is deprecated and will be removed in a future version. Please use `Model.fit`, which supports generators.\n",
      "  history = model.fit_generator(\n"
     ]
    },
    {
     "name": "stdout",
     "output_type": "stream",
     "text": [
      "Epoch 1/2\n",
      "15/15 [==============================] - 23s 1s/step - loss: 5447.5811 - mae: 67.0884 - val_loss: 4350.3989 - val_mae: 61.6463\n",
      "Epoch 2/2\n",
      "15/15 [==============================] - 12s 767ms/step - loss: 5782.8496 - mae: 69.6327 - val_loss: 8194.2754 - val_mae: 83.3521\n",
      "====== K-Fold CV Iteration: 10/10 =======\n",
      "Folders empty..\n",
      "Train:  181\n",
      "Test:  20\n",
      "Letter to be removed from the training set: G\n",
      "Train:  161\n",
      "Test:  40\n",
      "Created csv files..\n",
      "Found 161 validated image filenames.\n",
      "Found 40 validated image filenames.\n"
     ]
    },
    {
     "name": "stderr",
     "output_type": "stream",
     "text": [
      "/var/folders/lp/fbpz2wyx1kb4b5zgt8w_tsp40000gn/T/ipykernel_38356/3992552463.py:83: UserWarning: `Model.fit_generator` is deprecated and will be removed in a future version. Please use `Model.fit`, which supports generators.\n",
      "  history = model.fit_generator(\n"
     ]
    },
    {
     "name": "stdout",
     "output_type": "stream",
     "text": [
      "Epoch 1/2\n",
      "16/16 [==============================] - 15s 803ms/step - loss: 5582.7812 - mae: 68.9950 - val_loss: 5396.5996 - val_mae: 67.6635\n",
      "Epoch 2/2\n",
      "16/16 [==============================] - 12s 731ms/step - loss: 5358.3306 - mae: 66.2745 - val_loss: 4428.9331 - val_mae: 62.7619\n",
      "     k  epoch        mae    val_mae         loss     val_loss\n",
      "0    1      1  63.555706  73.749420  4825.669922  5980.031250\n",
      "1    1      2  70.681808  67.224243  5967.652832  5049.377930\n",
      "2    2      1  68.593002  62.649055  5499.651367  4553.213379\n",
      "3    2      2  71.572090  58.073986  6233.605469  4019.401855\n",
      "4    3      1  73.487366  67.868050  6201.523438  5547.346680\n",
      "5    3      2  72.659462  72.993942  6254.145508  6253.911133\n",
      "6    4      1  67.795410  58.086956  5547.118164  4426.644531\n",
      "7    4      2  68.700905  57.197163  5524.520996  3914.283936\n",
      "8    5      1  69.021324  71.050728  5813.517578  6196.870117\n",
      "9    5      2  72.663170  69.807777  6315.198730  5416.614258\n",
      "10   6      1  65.829971  64.529343  5130.817383  4837.008789\n",
      "11   6      2  71.347710  63.557579  6147.984375  4603.827637\n",
      "12   7      1  71.332451  63.621479  5900.734863  4626.845215\n",
      "13   7      2  70.362503  64.447334  5770.298828  4599.891113\n",
      "14   8      1  70.781982  65.283150  6037.652344  4742.102539\n",
      "15   8      2  70.571838  61.328773  5980.785156  4268.948242\n",
      "16   9      1  67.088364  61.646339  5447.581055  4350.398926\n",
      "17   9      2  69.632729  83.352119  5782.849609  8194.275391\n",
      "18  10      1  68.994957  67.663483  5582.781250  5396.599609\n",
      "19  10      2  66.274506  62.761879  5358.330566  4428.933105\n"
     ]
    }
   ],
   "source": [
    "## Training with K-fold cross validation\n",
    "kf = KFold(n_splits=K, random_state=None, shuffle=True)\n",
    "kf.get_n_splits(df)\n",
    "\n",
    "df_results = pd.DataFrame()\n",
    "\n",
    "# TODO: change adapting to our project\n",
    "df_new = pd.DataFrame()\n",
    "for _, row in df.iterrows():\n",
    "    if(row['Path'].endswith(\".jpg\")):\n",
    "        new_row = { 'Path': row['Path'], 'Class': row['Class'] }\n",
    "        df_new_row = pd.DataFrame([new_row])\n",
    "        df_new = pd.concat([df_new, df_new_row],ignore_index=True)\n",
    "\n",
    "time.sleep(5)\n",
    "i = 1\n",
    "for train_index, test_index in kf.split(df_new):\n",
    "    print(\"====== K-Fold CV Iteration: %d/%d =======\" % (i,K))\n",
    "    emptyFolders()\n",
    "    print(\"Folders empty..\")\n",
    "\n",
    "    print(\"Train: \", len(train_index))\n",
    "    print(\"Test: \", len(test_index))\n",
    "\n",
    "    df_train = df_new.iloc[train_index]\n",
    "    df_test = df_new.iloc[test_index]\n",
    "\n",
    "    for _, row in df_train.iterrows():\n",
    "        shutil.copy(os.path.join(paths[\"IMAGES_PATH\"],row['Path']),\n",
    "                os.path.join(paths[\"TRAIN_PATH\"],row['Path']))\n",
    "    for _, row in df_test.iterrows():\n",
    "        shutil.copy(os.path.join(paths[\"IMAGES_PATH\"],row['Path']),\n",
    "                os.path.join(paths[\"TEST_PATH\"],row['Path']))\n",
    "\n",
    "    if augmentation:\n",
    "        train_datagen = ImageDataGenerator(\n",
    "          rescale=rescale_size,\n",
    "          rotation_range=rotation_range,\n",
    "          width_shift_range=width_shift_range,\n",
    "          height_shift_range=height_shift_range,\n",
    "          shear_range=shear_range,\n",
    "          zoom_range=zoom_range,\n",
    "          horizontal_flip=horizontal_flip,\n",
    "          fill_mode=fill_mode)\n",
    "    else:\n",
    "        train_datagen = ImageDataGenerator(rescale=1./255)\n",
    "\n",
    "    train_dir=paths['TRAIN_PATH']\n",
    "    # TODO: Consider if the output should be normalized\n",
    "    train_generator = train_datagen.flow_from_directory(train_dir, target_size=(input_width, input_height), batch_size=batch_size, class_mode='categorical')\n",
    "\n",
    "    # validation set image data generator\n",
    "    val_datagen = ImageDataGenerator(rescale=rescale_size) # it should not be augmented\n",
    "    validation_dir=paths['TEST_PATH']\n",
    "    validation_generator = val_datagen.flow_from_directory(validation_dir, target_size=(input_width, input_height), batch_size=batch_size, class_mode='categorical')\n",
    "\n",
    "    try:\n",
    "        model = load_model(model_path, compile=True)\n",
    "    except Exception as OSError:\n",
    "        pass\n",
    "\n",
    "    # set steps, epochs, etc.\n",
    "    history = model.fit_generator(\n",
    "            train_generator,\n",
    "            steps_per_epoch=int(math.ceil((1. * len(df_train)) / batch_size)),\n",
    "            epochs=epochs,\n",
    "            validation_data=validation_generator,\n",
    "            validation_steps=int(math.ceil((1. * len(df_test)) / batch_size)))\n",
    "\n",
    "    acc = history.history['acc']\n",
    "    val_acc = history.history['val_acc']\n",
    "    loss = history.history['loss']\n",
    "    val_loss = history.history['val_loss']\n",
    "\n",
    "    for epoch in range(epochs):\n",
    "        new_row = { 'k': i, 'epoch': epoch+1, 'acc': acc[epoch], 'val_acc': val_acc[epoch], 'loss': loss[epoch], 'val_loss': val_loss[epoch] }\n",
    "        df_new_row = pd.DataFrame([new_row])\n",
    "        df_results = pd.concat([df_results, df_new_row],ignore_index=True)\n",
    "\n",
    "    model.save(model_path)\n",
    "    i+=1\n",
    "\n",
    "print(df_results)"
   ],
   "metadata": {
    "collapsed": false,
    "pycharm": {
     "name": "#%%\n"
    }
   }
  },
  {
   "cell_type": "code",
   "execution_count": 37,
   "outputs": [],
   "source": [
    "df_results.to_csv(os.path.join(paths['RESULTS_PATH'], \"resultsKFold.csv\"), index=False)"
   ],
   "metadata": {
    "collapsed": false,
    "pycharm": {
     "name": "#%%\n"
    }
   }
  }
 ],
 "metadata": {
  "kernelspec": {
   "display_name": "Python 3",
   "language": "python",
   "name": "python3"
  },
  "language_info": {
   "codemirror_mode": {
    "name": "ipython",
    "version": 2
   },
   "file_extension": ".py",
   "mimetype": "text/x-python",
   "name": "python",
   "nbconvert_exporter": "python",
   "pygments_lexer": "ipython2",
   "version": "2.7.6"
  }
 },
 "nbformat": 4,
 "nbformat_minor": 0
}