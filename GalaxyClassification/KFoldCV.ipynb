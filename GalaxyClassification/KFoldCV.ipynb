{
 "cells": [
  {
   "cell_type": "code",
   "execution_count": 18,
   "metadata": {
    "collapsed": true
   },
   "outputs": [],
   "source": [
    " from sklearn.model_selection import StratifiedKFold\n",
    "import math\n",
    "import pandas as pd\n",
    "import shutil\n",
    "import time\n",
    "from keras.models import load_model\n",
    "from keras.preprocessing.image import ImageDataGenerator\n",
    "import os"
   ]
  },
  {
   "cell_type": "code",
   "execution_count": 19,
   "outputs": [],
   "source": [
    "paths = {\n",
    "    'TRAIN_PATH' : os.path.join('workspace', 'images','kfold', 'train'),\n",
    "    'TEST_PATH' : os.path.join('workspace', 'images','kfold','test'),\n",
    "    'IMAGES_PATH': os.path.join('workspace','images','all'),\n",
    "    'ANNOTATION_PATH': os.path.join('workspace','annotations'),\n",
    "    'RESULTS_PATH': os.path.join('workspace','results')\n",
    " }"
   ],
   "metadata": {
    "collapsed": false
   }
  },
  {
   "cell_type": "code",
   "execution_count": 20,
   "outputs": [],
   "source": [
    "input_height = 69\n",
    "input_width = 69\n",
    "batch_size = 32\n",
    "\n",
    "augmentation=False"
   ],
   "metadata": {
    "collapsed": false
   }
  },
  {
   "cell_type": "code",
   "execution_count": 56,
   "outputs": [],
   "source": [
    "K = 10"
   ],
   "metadata": {
    "collapsed": false
   }
  },
  {
   "cell_type": "code",
   "execution_count": 45,
   "outputs": [],
   "source": [
    "model_path = os.path.join(\"models\",\"CNN_baseline_bigger_class_weights.h5\")"
   ],
   "metadata": {
    "collapsed": false
   }
  },
  {
   "cell_type": "code",
   "execution_count": 23,
   "outputs": [],
   "source": [
    "def emptyFolders():\n",
    "    if not os.path.exists(os.path.join(paths[\"TRAIN_PATH\"])):\n",
    "        os.makedirs(os.path.join(paths[\"TRAIN_PATH\"]))\n",
    "    if not os.path.exists(os.path.join(paths[\"TEST_PATH\"])):\n",
    "        os.makedirs(os.path.join(paths[\"TEST_PATH\"]))\n",
    "    for i in range(0,10):\n",
    "        if not os.path.exists(os.path.join(paths[\"TRAIN_PATH\"],str(i))):\n",
    "            os.makedirs(os.path.join(paths[\"TRAIN_PATH\"],str(i)))\n",
    "        if not os.path.exists(os.path.join(paths[\"TEST_PATH\"],str(i))):\n",
    "            os.makedirs(os.path.join(paths[\"TEST_PATH\"],str(i)))\n",
    "\n",
    "        for file in os.listdir(os.path.join(paths[\"TRAIN_PATH\"],str(i))):\n",
    "            if file != \".DS_Store\":\n",
    "                os.remove(os.path.join(paths[\"TRAIN_PATH\"],str(i), file))\n",
    "        for file in os.listdir(os.path.join(paths[\"TEST_PATH\"],str(i))):\n",
    "            if file != \".DS_Store\":\n",
    "                os.remove(os.path.join(paths[\"TEST_PATH\"],str(i), file))\n",
    "\n",
    "df = pd.read_csv(os.path.join(paths['ANNOTATION_PATH'],\"annotations.csv\"))\n",
    "df = df.dropna()"
   ],
   "metadata": {
    "collapsed": false
   }
  },
  {
   "cell_type": "code",
   "execution_count": 41,
   "outputs": [],
   "source": [
    "import random\n",
    "import keras.utils as image\n",
    "import matplotlib.pyplot as plt\n",
    "\n",
    "def remove_images(label):\n",
    "    img_names = os.listdir(os.path.join(paths['TRAIN_PATH'],str(label)))\n",
    "    for image in img_names:  # Go over each image name to be deleted\n",
    "      f = os.path.join(paths['TRAIN_PATH'],str(label),image)  # Create valid path to image\n",
    "      os.remove(f)  # Remove the image\n",
    "\n",
    "def undersample(label,n):\n",
    "    img_names = os.listdir(os.path.join(paths['TRAIN_PATH'],str(label)))\n",
    "    img_names = random.sample(img_names,n)  # Pick n random images to remove\n",
    "    for image in img_names:  # Go over each image name to be deleted\n",
    "      f = os.path.join(paths['TRAIN_PATH'],str(label),image)  # Create valid path to image\n",
    "      os.remove(f)  # Remove the image\n",
    "\n",
    "def augment_images(label,number_images, datagen):\n",
    "    number_images = int(number_images)\n",
    "    path = os.path.join(paths['TRAIN_PATH'],str(label))\n",
    "    i = 0\n",
    "    while i < number_images:\n",
    "        for f in os.listdir(path):\n",
    "          img = image.load_img(os.path.join(paths['TRAIN_PATH'],str(label),f), target_size=(69, 69))\n",
    "          x = image.img_to_array(img)\n",
    "          x = x.reshape((1,) + x.shape)\n",
    "          for batch in datagen.flow(x, batch_size=1):\n",
    "              new_image = image.array_to_img(batch[0])\n",
    "              new_image.save(os.path.join(paths['TRAIN_PATH'],str(label),\"aug_\" + str(i) +\".jpg\"))\n",
    "              i += 1\n",
    "              if i > number_images:\n",
    "                  return\n",
    "              break\n",
    "\n",
    "def renameDirectories():\n",
    "    for i in range(6,10):\n",
    "        os.rename(os.path.join(paths['TRAIN_PATH'],str(i)),os.path.join(paths['TRAIN_PATH'],str(i-1)))\n",
    "        os.rename(os.path.join(paths['TEST_PATH'],str(i)),os.path.join(paths['TEST_PATH'],str(i-1)))\n",
    "\n",
    "def rebalanceTrainingSet():\n",
    "    CLASS_TO_DELETE = 5\n",
    "    remove_images(CLASS_TO_DELETE)\n",
    "    N_IMG_TO_DELETE = [2017,1551]\n",
    "    CLASSES_TO_REDUCE = [1,2]\n",
    "    for i in range(len(CLASSES_TO_REDUCE)):\n",
    "        undersample(CLASSES_TO_REDUCE[i], N_IMG_TO_DELETE[i])\n",
    "    CLASSES_TO_AUGMENT = [3,4,6,7,8,9]\n",
    "    N_IMG_TO_AUGMENT = [600,400,600,500,500,600]\n",
    "\n",
    "    datagen = ImageDataGenerator(\n",
    "          rotation_range=40,\n",
    "          width_shift_range=0.2,\n",
    "          height_shift_range=0.1,\n",
    "          shear_range=0.2,\n",
    "          zoom_range=0.2,\n",
    "          horizontal_flip=True,\n",
    "          fill_mode='nearest')\n",
    "\n",
    "    for i in range(len(CLASSES_TO_AUGMENT)):\n",
    "        augment_images(CLASSES_TO_AUGMENT[i], N_IMG_TO_AUGMENT[i], datagen)\n",
    "    renameDirectories()\n",
    "\n",
    "def plotTrainingDistribution():\n",
    "    files_per_label = dict()\n",
    "    for i in range(9):\n",
    "      path = os.path.join(paths['TRAIN_PATH'],str(i))\n",
    "      n_images = len([f for f in os.listdir(path) if os.path.isfile(os.path.join(path, f))])\n",
    "      files_per_label[i] = n_images\n",
    "    plt.bar(list(files_per_label.keys()), files_per_label.values(), color='g')\n",
    "    plt.show()\n",
    "    print(files_per_label)\n",
    "    return files_per_label"
   ],
   "metadata": {
    "collapsed": false
   }
  },
  {
   "cell_type": "code",
   "execution_count": 42,
   "outputs": [
    {
     "name": "stdout",
     "output_type": "stream",
     "text": [
      "            Path  Class\n",
      "0          0.jpg      2\n",
      "1          1.jpg      2\n",
      "2          2.jpg      4\n",
      "3          3.jpg      2\n",
      "4          4.jpg      4\n",
      "...          ...    ...\n",
      "21780  21780.jpg      2\n",
      "21781  21781.jpg      1\n",
      "21782  21782.jpg      2\n",
      "21783  21783.jpg      9\n",
      "21784  21784.jpg      2\n",
      "\n",
      "[21785 rows x 2 columns]\n"
     ]
    }
   ],
   "source": [
    "import keras\n",
    "## Training with K-fold cross validation\n",
    "kf = StratifiedKFold(n_splits=K, random_state=None, shuffle=False)\n",
    "\n",
    "# TODO: change adapting to our project\n",
    "df_new = pd.DataFrame()\n",
    "for _, row in df.iterrows():\n",
    "    if(row['Path'].endswith(\".jpg\")):\n",
    "        new_row = { 'Path': row['Path'], 'Class': row['Class'] }\n",
    "        df_new_row = pd.DataFrame([new_row])\n",
    "        df_new = pd.concat([df_new, df_new_row],ignore_index=True)\n",
    "\n",
    "print(df_new)\n",
    "kf.get_n_splits(df_new)\n",
    "df_results = pd.DataFrame()\n",
    "i = 1\n",
    "epochs=200"
   ],
   "metadata": {
    "collapsed": false
   }
  },
  {
   "cell_type": "code",
   "execution_count": 55,
   "outputs": [
    {
     "name": "stdout",
     "output_type": "stream",
     "text": [
      "Model: \"sequential_4\"\n",
      "_________________________________________________________________\n",
      " Layer (type)                Output Shape              Param #   \n",
      "=================================================================\n",
      " conv2d_6 (Conv2D)           (None, 69, 69, 8)         224       \n",
      "                                                                 \n",
      " max_pooling2d_6 (MaxPooling  (None, 34, 34, 8)        0         \n",
      " 2D)                                                             \n",
      "                                                                 \n",
      " conv2d_7 (Conv2D)           (None, 34, 34, 16)        1168      \n",
      "                                                                 \n",
      " max_pooling2d_7 (MaxPooling  (None, 17, 17, 16)       0         \n",
      " 2D)                                                             \n",
      "                                                                 \n",
      " flatten_3 (Flatten)         (None, 4624)              0         \n",
      "                                                                 \n",
      " dense_6 (Dense)             (None, 64)                296000    \n",
      "                                                                 \n",
      " dense_7 (Dense)             (None, 9)                 585       \n",
      "                                                                 \n",
      "=================================================================\n",
      "Total params: 297,977\n",
      "Trainable params: 297,977\n",
      "Non-trainable params: 0\n",
      "_________________________________________________________________\n"
     ]
    }
   ],
   "source": [
    "import matplotlib.pyplot as plt\n",
    "import keras.optimizers as optimizers\n",
    "from keras.preprocessing.image import ImageDataGenerator\n",
    "from keras.layers import Conv2D, MaxPooling2D, Dropout, Flatten, Dense, BatchNormalization\n",
    "from keras import models\n",
    "from keras import regularizers\n",
    "import math\n",
    "import tensorflow as tf\n",
    "\n",
    "import keras.backend as KB\n",
    "# best loss function for multi-class classification, measures the distance between two probability distributions\n",
    "# the probability distribution of the output of the network and the true distribution of the labels\n",
    "loss_function='categorical_crossentropy'\n",
    "\n",
    "def precision(y_true, y_pred):\n",
    "    \"\"\"Precision metric.\n",
    "    Only computes a batch-wise average of precision.\n",
    "    Computes the precision, a metric for multi-label classification of\n",
    "    how many selected items are relevant.\n",
    "    \"\"\"\n",
    "    true_positives = KB.sum(KB.round(KB.clip(y_true * y_pred, 0, 1)))\n",
    "    predicted_positives = KB.sum(KB.round(KB.clip(y_pred, 0, 1)))\n",
    "    precision = true_positives / (predicted_positives + KB.epsilon())\n",
    "    return precision\n",
    "\n",
    "\n",
    "def recall(y_true, y_pred):\n",
    "    \"\"\"Recall metric.\n",
    "    Only computes a batch-wise average of recall.\n",
    "    Computes the recall, a metric for multi-label classification of\n",
    "    how many relevant items are selected.\n",
    "    \"\"\"\n",
    "    true_positives = KB.sum(KB.round(KB.clip(y_true * y_pred, 0, 1)))\n",
    "    possible_positives = KB.sum(KB.round(KB.clip(y_true, 0, 1)))\n",
    "    recall = true_positives / (possible_positives + KB.epsilon())\n",
    "    return recall\n",
    "\n",
    "metrics = [\n",
    "    precision,\n",
    "    recall,\n",
    "    tf.keras.metrics.CategoricalAccuracy(name='acc')\n",
    "]\n",
    "optimizer='rmsprop'\n",
    "optimizer_learning_rate=1e-4\n",
    "epochs=100\n",
    "batch_size=32\n",
    "regularizer=regularizers.l1_l2(l1=0.001, l2=0.001) # simultaneous l1 and l2, add 0.001*weight_coefficient_value + 0.001 * 1/2*weight^2\n",
    "\n",
    "if optimizer == 'rmsprop':\n",
    "    optimizer=optimizers.RMSprop(learning_rate=optimizer_learning_rate)\n",
    "\n",
    "# Function used to create the CNN structure used for regression\n",
    "def create_cnn(width, height, depth, num_classes,filters=(16, 32, 64)):\n",
    "    inputShape = (height, width, depth)\n",
    "    chanDim = -1\n",
    "    model = models.Sequential()\n",
    "    for (i, f) in enumerate(filters):\n",
    "        # first CONV layer set appropriately\n",
    "        if i == 0:\n",
    "            model.add(Conv2D(f, (3, 3), activation=\"relu\", padding=\"same\", input_shape=inputShape))\n",
    "        else:\n",
    "            model.add(Conv2D(f, (3, 3), activation=\"relu\", padding=\"same\"))\n",
    "        # size of the patches typically 3x3 or 5x5\n",
    "        # determine if we need to change padding or stride, with padding = same we are able to center convolutional windows around every input tile, in order to have always the same size of the input image\n",
    "        # model.add(BatchNormalization(axis=chanDim))\n",
    "        model.add(MaxPooling2D(pool_size=(2, 2)))\n",
    "    # FLATTEN => FC => RELU => BN => DROPOUT\n",
    "    model.add(Flatten())\n",
    "    #model.add(Dropout(0.5))\n",
    "    model.add(Dense(64, activation=\"relu\")) # consider if we need to add this dense layer before with more units, such as 64 in order to shrink in two different stages, depends on the outpout size of flatten\n",
    "    #model.add(BatchNormalization(axis=chanDim))\n",
    "    model.add(Dense(num_classes, activation=\"softmax\"))\n",
    "    return model\n",
    "\n",
    "model = create_cnn(input_width, input_height, 3, 9, (8,16))\n",
    "model.summary()\n",
    "\n",
    "# compile the model\n",
    "model.compile(optimizer=optimizer,\n",
    "              loss=loss_function,\n",
    "              metrics=metrics)\n",
    "#try:\n",
    "#    model = load_model(model_path, compile=True)\n",
    "#except Exception as OSError:\n",
    "#    pass"
   ],
   "metadata": {
    "collapsed": false
   }
  },
  {
   "cell_type": "code",
   "execution_count": 66,
   "outputs": [
    {
     "name": "stdout",
     "output_type": "stream",
     "text": [
      "Empty DataFrame\n",
      "Columns: []\n",
      "Index: []\n",
      "====== K-Fold CV Iteration: 0/10 =======\n",
      "Folders empty..\n",
      "Train:  19606\n",
      "Test:  2179\n",
      "Images moved...\n"
     ]
    },
    {
     "data": {
      "text/plain": "<Figure size 640x480 with 1 Axes>",
      "image/png": "[encoded data removed]"
     },
     "metadata": {},
     "output_type": "display_data"
    },
    {
     "name": "stdout",
     "output_type": "stream",
     "text": [
      "{0: 3115, 1: 6297, 2: 5662, 3: 314, 4: 1381, 5: 0, 6: 530, 7: 1009, 8: 816}\n"
     ]
    },
    {
     "data": {
      "text/plain": "<Figure size 640x480 with 1 Axes>",
      "image/png": "[encoded data removed]"
     },
     "metadata": {},
     "output_type": "display_data"
    },
    {
     "name": "stdout",
     "output_type": "stream",
     "text": [
      "{0: 3115, 1: 4280, 2: 4111, 3: 915, 4: 1782, 5: 1131, 6: 1510, 7: 1317, 8: 1068}\n",
      "Found 19229 images belonging to 9 classes.\n",
      "Found 2177 images belonging to 9 classes.\n",
      "19229\n",
      "  1/601 [..............................] - ETA: 56s - loss: 0.8267 - precision: 0.7391 - recall: 0.5312 - acc: 0.6562"
     ]
    },
    {
     "name": "stderr",
     "output_type": "stream",
     "text": [
      "/var/folders/lp/fbpz2wyx1kb4b5zgt8w_tsp40000gn/T/ipykernel_11014/3687641812.py:76: UserWarning: `Model.fit_generator` is deprecated and will be removed in a future version. Please use `Model.fit`, which supports generators.\n",
      "  history = model.fit_generator(\n"
     ]
    },
    {
     "name": "stdout",
     "output_type": "stream",
     "text": [
      "601/601 [==============================] - 49s 82ms/step - loss: 0.8724 - precision: 0.7799 - recall: 0.5626 - acc: 0.6817 - val_loss: 0.7747 - val_precision: 0.8260 - val_recall: 0.5987 - val_acc: 0.7308 - lr: 1.0000e-04\n",
      "       model  k  epoch       acc  test_acc  test_recall  test_precision\n",
      "0  optimized  0      1  0.681731  0.730822     0.598732        0.826042\n",
      "====== K-Fold CV Iteration: 1/10 =======\n",
      "Folders empty..\n",
      "Train:  19606\n",
      "Test:  2179\n"
     ]
    },
    {
     "ename": "KeyboardInterrupt",
     "evalue": "",
     "output_type": "error",
     "traceback": [
      "\u001B[0;31m---------------------------------------------------------------------------\u001B[0m",
      "\u001B[0;31mKeyboardInterrupt\u001B[0m                         Traceback (most recent call last)",
      "Cell \u001B[0;32mIn[66], line 17\u001B[0m\n\u001B[1;32m     13\u001B[0m df_train \u001B[38;5;241m=\u001B[39m df_new\u001B[38;5;241m.\u001B[39miloc[train_index]\n\u001B[1;32m     14\u001B[0m df_test \u001B[38;5;241m=\u001B[39m df_new\u001B[38;5;241m.\u001B[39miloc[test_index]\n\u001B[0;32m---> 17\u001B[0m \u001B[38;5;28;01mfor\u001B[39;00m _, row \u001B[38;5;129;01min\u001B[39;00m df_train\u001B[38;5;241m.\u001B[39miterrows():\n\u001B[1;32m     18\u001B[0m     \u001B[38;5;28;01mtry\u001B[39;00m:\n\u001B[1;32m     19\u001B[0m         shutil\u001B[38;5;241m.\u001B[39mcopy(os\u001B[38;5;241m.\u001B[39mpath\u001B[38;5;241m.\u001B[39mjoin(paths[\u001B[38;5;124m\"\u001B[39m\u001B[38;5;124mIMAGES_PATH\u001B[39m\u001B[38;5;124m\"\u001B[39m],row[\u001B[38;5;124m'\u001B[39m\u001B[38;5;124mPath\u001B[39m\u001B[38;5;124m'\u001B[39m]),\n\u001B[1;32m     20\u001B[0m                 os\u001B[38;5;241m.\u001B[39mpath\u001B[38;5;241m.\u001B[39mjoin(paths[\u001B[38;5;124m\"\u001B[39m\u001B[38;5;124mTRAIN_PATH\u001B[39m\u001B[38;5;124m\"\u001B[39m],\u001B[38;5;28mstr\u001B[39m(row[\u001B[38;5;124m'\u001B[39m\u001B[38;5;124mClass\u001B[39m\u001B[38;5;124m'\u001B[39m]),row[\u001B[38;5;124m'\u001B[39m\u001B[38;5;124mPath\u001B[39m\u001B[38;5;124m'\u001B[39m]))\n",
      "File \u001B[0;32m~/lib/python3.9/site-packages/pandas/core/frame.py:1410\u001B[0m, in \u001B[0;36mDataFrame.iterrows\u001B[0;34m(self)\u001B[0m\n\u001B[1;32m   1408\u001B[0m klass \u001B[38;5;241m=\u001B[39m \u001B[38;5;28mself\u001B[39m\u001B[38;5;241m.\u001B[39m_constructor_sliced\n\u001B[1;32m   1409\u001B[0m \u001B[38;5;28;01mfor\u001B[39;00m k, v \u001B[38;5;129;01min\u001B[39;00m \u001B[38;5;28mzip\u001B[39m(\u001B[38;5;28mself\u001B[39m\u001B[38;5;241m.\u001B[39mindex, \u001B[38;5;28mself\u001B[39m\u001B[38;5;241m.\u001B[39mvalues):\n\u001B[0;32m-> 1410\u001B[0m     s \u001B[38;5;241m=\u001B[39m \u001B[43mklass\u001B[49m\u001B[43m(\u001B[49m\u001B[43mv\u001B[49m\u001B[43m,\u001B[49m\u001B[43m \u001B[49m\u001B[43mindex\u001B[49m\u001B[38;5;241;43m=\u001B[39;49m\u001B[43mcolumns\u001B[49m\u001B[43m,\u001B[49m\u001B[43m \u001B[49m\u001B[43mname\u001B[49m\u001B[38;5;241;43m=\u001B[39;49m\u001B[43mk\u001B[49m\u001B[43m)\u001B[49m\u001B[38;5;241m.\u001B[39m__finalize__(\u001B[38;5;28mself\u001B[39m)\n\u001B[1;32m   1411\u001B[0m     \u001B[38;5;28;01myield\u001B[39;00m k, s\n",
      "File \u001B[0;32m~/lib/python3.9/site-packages/pandas/core/series.py:421\u001B[0m, in \u001B[0;36mSeries.__init__\u001B[0;34m(self, data, index, dtype, name, copy, fastpath)\u001B[0m\n\u001B[1;32m    418\u001B[0m     copy \u001B[38;5;241m=\u001B[39m \u001B[38;5;28;01mFalse\u001B[39;00m\n\u001B[1;32m    420\u001B[0m \u001B[38;5;28;01melif\u001B[39;00m \u001B[38;5;28misinstance\u001B[39m(data, np\u001B[38;5;241m.\u001B[39mndarray):\n\u001B[0;32m--> 421\u001B[0m     \u001B[38;5;28;01mif\u001B[39;00m \u001B[38;5;28;43mlen\u001B[39;49m\u001B[43m(\u001B[49m\u001B[43mdata\u001B[49m\u001B[38;5;241;43m.\u001B[39;49m\u001B[43mdtype\u001B[49m\u001B[43m)\u001B[49m:\n\u001B[1;32m    422\u001B[0m         \u001B[38;5;66;03m# GH#13296 we are dealing with a compound dtype, which\u001B[39;00m\n\u001B[1;32m    423\u001B[0m         \u001B[38;5;66;03m#  should be treated as 2D\u001B[39;00m\n\u001B[1;32m    424\u001B[0m         \u001B[38;5;28;01mraise\u001B[39;00m \u001B[38;5;167;01mValueError\u001B[39;00m(\n\u001B[1;32m    425\u001B[0m             \u001B[38;5;124m\"\u001B[39m\u001B[38;5;124mCannot construct a Series from an ndarray with \u001B[39m\u001B[38;5;124m\"\u001B[39m\n\u001B[1;32m    426\u001B[0m             \u001B[38;5;124m\"\u001B[39m\u001B[38;5;124mcompound dtype.  Use DataFrame instead.\u001B[39m\u001B[38;5;124m\"\u001B[39m\n\u001B[1;32m    427\u001B[0m         )\n\u001B[1;32m    428\u001B[0m \u001B[38;5;28;01melif\u001B[39;00m \u001B[38;5;28misinstance\u001B[39m(data, Series):\n",
      "\u001B[0;31mKeyboardInterrupt\u001B[0m: "
     ]
    }
   ],
   "source": [
    "df_results = pd.DataFrame()\n",
    "print(df_results)\n",
    "i = 0\n",
    "epochs = 1\n",
    "for train_index, test_index in kf.split(df_new, df_new['Class']):\n",
    "    print(\"====== K-Fold CV Iteration: %d/%d =======\" % (i,K))\n",
    "    emptyFolders()\n",
    "    print(\"Folders empty..\")\n",
    "\n",
    "    print(\"Train: \", len(train_index))\n",
    "    print(\"Test: \", len(test_index))\n",
    "\n",
    "    df_train = df_new.iloc[train_index]\n",
    "    df_test = df_new.iloc[test_index]\n",
    "\n",
    "\n",
    "    for _, row in df_train.iterrows():\n",
    "        try:\n",
    "            shutil.copy(os.path.join(paths[\"IMAGES_PATH\"],row['Path']),\n",
    "                    os.path.join(paths[\"TRAIN_PATH\"],str(row['Class']),row['Path']))\n",
    "        except:\n",
    "            pass\n",
    "    for _, row in df_test.iterrows():\n",
    "        try:\n",
    "            shutil.copy(os.path.join(paths[\"IMAGES_PATH\"],row['Path']),\n",
    "                    os.path.join(paths[\"TEST_PATH\"],str(row['Class']),row['Path']))\n",
    "        except:\n",
    "            pass\n",
    "    print(\"Images moved...\")\n",
    "    plotTrainingDistribution()\n",
    "    rebalanceTrainingSet()\n",
    "    files_per_label = plotTrainingDistribution()\n",
    "    time.sleep(10)\n",
    "    train_datagen = ImageDataGenerator(rescale=1./255)\n",
    "\n",
    "    train_dir=paths['TRAIN_PATH']\n",
    "    # TODO: Consider if the output should be normalized\n",
    "    train_generator = train_datagen.flow_from_directory(train_dir, target_size=(input_width, input_height), batch_size=batch_size, class_mode='categorical')\n",
    "\n",
    "    # validation set image data generator\n",
    "    val_datagen = ImageDataGenerator(rescale=1./255) # it should not be augmented\n",
    "    validation_dir=paths['TEST_PATH']\n",
    "    validation_generator = val_datagen.flow_from_directory(validation_dir, target_size=(input_width, input_height), batch_size=batch_size, class_mode='categorical')\n",
    "\n",
    "\n",
    "    #number of classes\n",
    "    NUM_CLASSES = 9\n",
    "\n",
    "    #get number of total images\n",
    "    tot_images = sum(list(files_per_label.values()))\n",
    "    print(tot_images)\n",
    "\n",
    "    weights = dict([ (class_label , tot_images/(NUM_CLASSES * n_images)) for class_label, n_images in files_per_label.items()])\n",
    "\n",
    "    n_images_eval = 0\n",
    "    for j in range(9):\n",
    "        path = os.path.join(paths['TEST_PATH'],str(j))\n",
    "        #compute number of images in each eval folder and sum it up\n",
    "        n_images_eval = n_images_eval + len([f for f in os.listdir(path)if os.path.isfile(os.path.join(path, f))])\n",
    "\n",
    "    number_training = tot_images # TODO: contare elementi training cartella\n",
    "    number_eval = n_images_eval\n",
    "\n",
    "    callbacks_list = [\n",
    "        keras.callbacks.EarlyStopping(\n",
    "            monitor='acc', # should be part of the metrics specific during compilation\n",
    "            patience=5,\n",
    "        ),\n",
    "        keras.callbacks.ReduceLROnPlateau(\n",
    "            monitor='val_loss',\n",
    "            factor=0.2, # divides LR by 5 when triggered\n",
    "            patience=3 # called when stopped improving for 3 epochs\n",
    "        ),\n",
    "    ]\n",
    "\n",
    "    history = model.fit_generator(\n",
    "      train_generator,\n",
    "      steps_per_epoch=int(math.ceil((1. * number_training) / batch_size)),\n",
    "      epochs=epochs,\n",
    "      validation_data=validation_generator,\n",
    "      callbacks=callbacks_list,\n",
    "      validation_steps=int(math.ceil((1. * number_eval) / batch_size)))\n",
    "\n",
    "    acc = history.history['acc'][epochs-1]\n",
    "    val_acc = history.history['val_acc'][epochs-1]\n",
    "    val_recall = history.history['val_recall'][epochs-1]\n",
    "    val_precision = history.history['val_precision'][epochs-1]\n",
    "    new_row = { 'model': 'optimized', 'k': i+1, 'epochs': epochs, 'acc': acc, 'test_acc': val_acc, 'test_recall': val_recall, 'test_precision': val_precision}\n",
    "    df_new_row = pd.DataFrame([new_row])\n",
    "    df_results = pd.concat([df_results, df_new_row],ignore_index=True)\n",
    "\n",
    "    #model.save(model_path)\n",
    "    i+=1\n",
    "\n",
    "    print(df_results)"
   ],
   "metadata": {
    "collapsed": false
   }
  },
  {
   "cell_type": "code",
   "execution_count": 37,
   "outputs": [],
   "source": [
    "df_results.to_csv(os.path.join(paths['RESULTS_PATH'], \"resultsKFold.csv\"), index=False)"
   ],
   "metadata": {
    "collapsed": false
   }
  }
 ],
 "metadata": {
  "kernelspec": {
   "display_name": "Python 3",
   "language": "python",
   "name": "python3"
  },
  "language_info": {
   "codemirror_mode": {
    "name": "ipython",
    "version": 2
   },
   "file_extension": ".py",
   "mimetype": "text/x-python",
   "name": "python",
   "nbconvert_exporter": "python",
   "pygments_lexer": "ipython2",
   "version": "2.7.6"
  }
 },
 "nbformat": 4,
 "nbformat_minor": 0
}
