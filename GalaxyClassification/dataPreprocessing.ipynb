{
 "cells": [
  {
   "cell_type": "markdown",
   "source": [
    "# 0. Data Preparation"
   ],
   "metadata": {
    "collapsed": false
   }
  },
  {
   "cell_type": "code",
   "execution_count": null,
   "outputs": [],
   "source": [
    "from astroNN.datasets import load_galaxy10\n",
    "import numpy as np\n",
    "import os\n",
    "from PIL import Image\n",
    "\n",
    "# To load images and labels (will download automatically at the first time)\n",
    "# First time downloading location will be ~/.astroNN/datasets/\n",
    "images, labels = load_galaxy10()\n",
    "\n",
    "for label in np.unique(labels):\n",
    "     IMAGES_PATH = os.path.join('workspace', 'images', 'all', str(label))\n",
    "     !mkdir -p {IMAGES_PATH}\n",
    "print(\"Folders created...\")\n",
    "\n",
    "print(\"Saving images in the correct folder...\")\n",
    "print(images.size)\n",
    "print(labels.size)\n",
    "for i in range(0,labels.size):\n",
    "    image = images[i]\n",
    "    label = labels[i]\n",
    "    #plt.imshow(image, interpolation='nearest')\n",
    "    im = Image.fromarray(image)\n",
    "    im.save(os.path.join('workspace', 'images', 'all', str(label),str(i)+\".jpg\"))\n",
    "    if i% 100 == 0:\n",
    "        print(i)"
   ],
   "metadata": {
    "collapsed": false
   }
  },
  {
   "cell_type": "markdown",
   "source": [
    "# 1. Rest"
   ],
   "metadata": {
    "collapsed": false
   }
  },
  {
   "cell_type": "code",
   "execution_count": null,
   "metadata": {
    "collapsed": true
   },
   "outputs": [],
   "source": [
    "import keras\n"
   ]
  },
  {
   "cell_type": "markdown",
   "source": [
    "We have a very skewed distribution of classes within our dataset, so a strategy to deal with class imbalance is to give different weights to each class (the less the examples we have for a class the higher the weight) to not to penalize infrequent classes."
   ],
   "metadata": {
    "collapsed": false
   }
  },
  {
   "cell_type": "code",
   "execution_count": 3,
   "outputs": [
    {
     "name": "stdout",
     "output_type": "stream",
     "text": [
      "{0: 1.6407030527289548, 1: 0.9571505666486778, 2: 0.6705482041587901, 3: 0.87498766650222, 4: 5.310179640718563, 5: 0.8681350954478708, 6: 0.969710224166211, 7: 0.6748858447488585, 8: 1.2463808854532676, 9: 0.9469300587293112}\n"
     ]
    }
   ],
   "source": [
    "model = keras.models.Sequential() #dummy model for example\n",
    "\n",
    "NUM_CLASSES = 10\n",
    "\n",
    "\n",
    "def get_class_weights(samples_per_class):\n",
    "    #array containing the number of samples in each class\n",
    "    NUM_SAMPLES = sum(samples_per_class)\n",
    "\n",
    "    #weight[j] = number_total_samples / number_total_classes * num_samples_class_j\n",
    "    weights  = dict([ (n_class,NUM_SAMPLES/(NUM_CLASSES * n_samples)) for n_class,n_samples in enumerate(samples_per_class) ])\n",
    "\n",
    "    return weights\n",
    "\n",
    "#give weights in input to the model.fit\n",
    "weighted_history = model.fit(\n",
    "    train_features,\n",
    "    train_labels,\n",
    "    batch_size=BATCH_SIZE,\n",
    "    epochs=EPOCHS,\n",
    "    callbacks=[early_stopping],\n",
    "    validation_data=(val_features, val_labels),\n",
    "    # The class weights go here\n",
    "    class_weight=get_class_weights([]))\n"
   ],
   "metadata": {
    "collapsed": false
   }
  },
  {
   "cell_type": "code",
   "execution_count": null,
   "outputs": [],
   "source": [
    "#read fits images\n",
    "from astropy.utils.data import get_pkg_data_filename\n",
    "from astropy.io import fits\n",
    "\n",
    "image_file = get_pkg_data_filename('tutorials/FITS-images/HorseHead.fits')\n",
    "image_data = fits.getdata(image_file, ext=0)"
   ],
   "metadata": {
    "collapsed": false
   }
  },
  {
   "cell_type": "code",
   "execution_count": null,
   "outputs": [],
   "source": [
    "# we can vectorize the labels using one hot encoding (preferred) or cast the label list as integer tensor"
   ],
   "metadata": {
    "collapsed": false
   }
  },
  {
   "cell_type": "code",
   "execution_count": null,
   "outputs": [],
   "source": [
    "# if use use one-hot encoding we should use as loss function categorical_crossentropy"
   ],
   "metadata": {
    "collapsed": false
   }
  },
  {
   "cell_type": "code",
   "execution_count": null,
   "outputs": [],
   "source": [
    "# if we use encoding using integer vectors, we should use sparse_categorical_crossentropy"
   ],
   "metadata": {
    "collapsed": false
   }
  },
  {
   "cell_type": "code",
   "execution_count": null,
   "outputs": [],
   "source": [],
   "metadata": {
    "collapsed": false
   }
  }
 ],
 "metadata": {
  "kernelspec": {
   "display_name": "Python 3",
   "language": "python",
   "name": "python3"
  },
  "language_info": {
   "codemirror_mode": {
    "name": "ipython",
    "version": 2
   },
   "file_extension": ".py",
   "mimetype": "text/x-python",
   "name": "python",
   "nbconvert_exporter": "python",
   "pygments_lexer": "ipython2",
   "version": "2.7.6"
  }
 },
 "nbformat": 4,
 "nbformat_minor": 0
}
