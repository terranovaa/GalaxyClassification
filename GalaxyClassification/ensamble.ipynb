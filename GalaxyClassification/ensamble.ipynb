{
 "cells": [
  {
   "cell_type": "markdown",
   "source": [
    "# 1. Setup"
   ],
   "metadata": {
    "collapsed": false
   }
  },
  {
   "cell_type": "code",
   "execution_count": 37,
   "outputs": [],
   "source": [
    "import matplotlib.pyplot as plt\n",
    "from keras.preprocessing.image import ImageDataGenerator\n",
    "from keras import models\n",
    "import tensorflow as tf\n",
    "import os\n",
    "from keras.models import load_model"
   ],
   "metadata": {
    "collapsed": false
   }
  },
  {
   "cell_type": "code",
   "execution_count": 38,
   "outputs": [],
   "source": [
    "class WeightedAverageLayer(tf.keras.layers.Layer):\n",
    "    def __init__(self, weight1, weight2, **kwargs):\n",
    "        super(WeightedAverageLayer, self).__init__(**kwargs)\n",
    "        self.w1 = weight1\n",
    "        self.w2 = weight2\n",
    "\n",
    "    def get_config(self):\n",
    "        config = super().get_config()\n",
    "        config.update({\n",
    "            \"weight1\": self.w1,\n",
    "            \"weight2\": self.w2,\n",
    "        })\n",
    "        return config\n",
    "\n",
    "    def call(self, inputs):\n",
    "        return self.w1 * inputs[0] + self.w2 * inputs[1]"
   ],
   "metadata": {
    "collapsed": false
   }
  },
  {
   "cell_type": "code",
   "execution_count": 39,
   "outputs": [],
   "source": [
    "input_height = 69\n",
    "input_width = 69\n",
    "input_depth = 3\n",
    "batch_size = 64"
   ],
   "metadata": {
    "collapsed": false
   }
  },
  {
   "cell_type": "code",
   "execution_count": 40,
   "outputs": [],
   "source": [
    "paths = {\n",
    "    'CNN_DIR' : os.path.join('models', 'CNN_dropout_batch_bigger_class_weights.h5'),\n",
    "    'VGG_DIR' : os.path.join('models', 'VGG16_finetuned.h5'),\n",
    "    'TEST_PATH' : os.path.join('workspace','images', 'test')\n",
    " }"
   ],
   "metadata": {
    "collapsed": false
   }
  },
  {
   "cell_type": "code",
   "execution_count": 41,
   "outputs": [],
   "source": [
    "cnn = load_model(paths['CNN_DIR'],compile=False)\n",
    "vgg = load_model(paths['VGG_DIR'],compile=False)"
   ],
   "metadata": {
    "collapsed": false
   }
  },
  {
   "cell_type": "code",
   "execution_count": 42,
   "outputs": [],
   "source": [
    "models = [cnn,vgg]"
   ],
   "metadata": {
    "collapsed": false
   }
  },
  {
   "cell_type": "code",
   "execution_count": 43,
   "outputs": [],
   "source": [
    "#rename model to prevent conflicts later\n",
    "for i, layer in enumerate(cnn.layers):\n",
    "    layer._name = layer._name + \"_cnn\"\n",
    "\n",
    "cnn._name = cnn._name + \"_cnn\""
   ],
   "metadata": {
    "collapsed": false
   }
  },
  {
   "cell_type": "code",
   "execution_count": 44,
   "outputs": [
    {
     "name": "stdout",
     "output_type": "stream",
     "text": [
      "Model: \"sequential_cnn\"\n",
      "_________________________________________________________________\n",
      " Layer (type)                Output Shape              Param #   \n",
      "=================================================================\n",
      " conv2d_cnn (Conv2D)         (None, 69, 69, 16)        448       \n",
      "                                                                 \n",
      " batch_normalization_cnn (Ba  (None, 69, 69, 16)       64        \n",
      " tchNormalization)                                               \n",
      "                                                                 \n",
      " max_pooling2d_cnn (MaxPooli  (None, 34, 34, 16)       0         \n",
      " ng2D)                                                           \n",
      "                                                                 \n",
      " conv2d_1_cnn (Conv2D)       (None, 34, 34, 32)        4640      \n",
      "                                                                 \n",
      " batch_normalization_1_cnn (  (None, 34, 34, 32)       128       \n",
      " BatchNormalization)                                             \n",
      "                                                                 \n",
      " max_pooling2d_1_cnn (MaxPoo  (None, 17, 17, 32)       0         \n",
      " ling2D)                                                         \n",
      "                                                                 \n",
      " conv2d_2_cnn (Conv2D)       (None, 17, 17, 64)        18496     \n",
      "                                                                 \n",
      " batch_normalization_2_cnn (  (None, 17, 17, 64)       256       \n",
      " BatchNormalization)                                             \n",
      "                                                                 \n",
      " max_pooling2d_2_cnn (MaxPoo  (None, 8, 8, 64)         0         \n",
      " ling2D)                                                         \n",
      "                                                                 \n",
      " conv2d_3_cnn (Conv2D)       (None, 8, 8, 128)         73856     \n",
      "                                                                 \n",
      " batch_normalization_3_cnn (  (None, 8, 8, 128)        512       \n",
      " BatchNormalization)                                             \n",
      "                                                                 \n",
      " max_pooling2d_3_cnn (MaxPoo  (None, 4, 4, 128)        0         \n",
      " ling2D)                                                         \n",
      "                                                                 \n",
      " flatten_cnn (Flatten)       (None, 2048)              0         \n",
      "                                                                 \n",
      " dropout_cnn (Dropout)       (None, 2048)              0         \n",
      "                                                                 \n",
      " dense_cnn (Dense)           (None, 64)                131136    \n",
      "                                                                 \n",
      " batch_normalization_4_cnn (  (None, 64)               256       \n",
      " BatchNormalization)                                             \n",
      "                                                                 \n",
      " dense_1_cnn (Dense)         (None, 9)                 585       \n",
      "                                                                 \n",
      "=================================================================\n",
      "Total params: 230,377\n",
      "Trainable params: 229,769\n",
      "Non-trainable params: 608\n",
      "_________________________________________________________________\n"
     ]
    }
   ],
   "source": [
    "cnn.summary()"
   ],
   "metadata": {
    "collapsed": false
   }
  },
  {
   "cell_type": "code",
   "execution_count": 45,
   "outputs": [],
   "source": [
    "def ensemble(weight1 = 0.5, weight2 = 0.5):\n",
    "    model_input = tf.keras.Input(shape=(input_width, input_height, input_depth))\n",
    "    model_outputs = [model(model_input) for model in models]\n",
    "    # if weights are equal, it's the same as calling keras.layers.Average()\n",
    "    ensemble_output = WeightedAverageLayer(weight1,weight2)(model_outputs)\n",
    "    ensemble_model = tf.keras.Model(inputs=model_input, outputs=ensemble_output)\n",
    "\n",
    "    return ensemble_model"
   ],
   "metadata": {
    "collapsed": false
   }
  },
  {
   "cell_type": "markdown",
   "source": [
    "# 2. Model testing"
   ],
   "metadata": {
    "collapsed": false
   }
  },
  {
   "cell_type": "code",
   "execution_count": 46,
   "outputs": [],
   "source": [
    "number_test = 0\n",
    "for i in range(9):\n",
    "      path = os.path.join(paths['TEST_PATH'],str(i))\n",
    "      n_images = len([f for f in os.listdir(path)if os.path.isfile(os.path.join(path, f))])\n",
    "      number_test += n_images"
   ],
   "metadata": {
    "collapsed": false
   }
  },
  {
   "cell_type": "code",
   "execution_count": 47,
   "outputs": [
    {
     "name": "stdout",
     "output_type": "stream",
     "text": [
      "workspace/images/test\n",
      "Found 2931 images belonging to 9 classes.\n"
     ]
    }
   ],
   "source": [
    "test_dir=paths['TEST_PATH']\n",
    "print(test_dir)\n",
    "test_datagen = ImageDataGenerator(rescale=1./255) # it should not be augmented\n",
    "\n",
    "test_generator = test_datagen.flow_from_directory(test_dir, target_size=(input_width, input_height), batch_size=batch_size, class_mode='categorical', classes=None, shuffle=False)"
   ],
   "metadata": {
    "collapsed": false
   }
  },
  {
   "cell_type": "markdown",
   "source": [
    "# 3. Find best weights"
   ],
   "metadata": {
    "collapsed": false
   }
  },
  {
   "cell_type": "code",
   "execution_count": null,
   "outputs": [],
   "source": [
    "import numpy as np\n",
    "from sklearn.metrics import  classification_report\n",
    "import csv\n",
    "\n",
    "with open('results.csv','a') as file:\n",
    "    writer = csv.writer(file)\n",
    "    header = ['w1', 'w2', 'avg_precision', 'avg_recall','avg_f1score','accuracy']\n",
    "    writer.writerow(header)\n",
    "    w1 = 0.0\n",
    "    while w1 <= 1:\n",
    "        w2 = 1.0 - w1\n",
    "        Y_pred = ensemble(w1,w2).predict(test_generator, number_test // batch_size+1)\n",
    "        y_pred = np.argmax(Y_pred, axis=1)\n",
    "        target_names = ['0','1','2','3','4','5','6','7','8']\n",
    "        report = classification_report(test_generator.classes, y_pred, target_names=target_names,output_dict=True)\n",
    "        writer.writerow([str(w1),str(w2),report['macro avg']['precision'],report['macro avg']['recall'],report['macro avg']['f1-score'],report['accuracy']])\n",
    "        w1 += 0.1"
   ],
   "metadata": {
    "collapsed": false,
    "pycharm": {
     "is_executing": true
    }
   }
  },
  {
   "cell_type": "markdown",
   "source": [
    "# 4. Plot metrics with best weights"
   ],
   "metadata": {
    "collapsed": false
   }
  },
  {
   "cell_type": "code",
   "execution_count": 49,
   "outputs": [],
   "source": [
    "ensemble_net = ensemble(0.6,0.4)"
   ],
   "metadata": {
    "collapsed": false
   }
  },
  {
   "cell_type": "code",
   "execution_count": null,
   "outputs": [],
   "source": [
    "Y_pred = ensemble_net.predict(test_generator, number_test // batch_size+1)\n",
    "y_pred = np.argmax(Y_pred, axis=1)\n",
    "print('Confusion Matrix')\n",
    "print(classification_report(test_generator.classes, y_pred, target_names=target_names))"
   ],
   "metadata": {
    "collapsed": false,
    "pycharm": {
     "is_executing": true
    }
   }
  },
  {
   "cell_type": "code",
   "execution_count": null,
   "outputs": [],
   "source": [
    "from sklearn.preprocessing import LabelBinarizer\n",
    "from sklearn.metrics import roc_curve, roc_auc_score, auc\n",
    "fig, c_ax = plt.subplots(1,1, figsize = (12, 8))\n",
    "\n",
    "def multiclass_roc_auc_score(y_test, y_pred, average=\"macro\"):\n",
    "    lb = LabelBinarizer()\n",
    "    lb.fit(y_test)\n",
    "    y_test = lb.transform(y_test)\n",
    "    y_pred = lb.transform(y_pred)\n",
    "\n",
    "    for (idx, c_label) in enumerate(target_names):\n",
    "        fpr, tpr, thresholds = roc_curve(y_test[:,idx].astype(int), y_pred[:,idx])\n",
    "        c_ax.plot(fpr, tpr, label = '%s (AUC:%0.2f)'  % (c_label, auc(fpr, tpr)))\n",
    "    c_ax.plot(fpr, fpr, 'b-', label = 'Random Guessing')\n",
    "    c_ax.legend()\n",
    "    return roc_auc_score(y_test, y_pred, average=average)\n",
    "\n",
    "\n",
    "test_generator.reset()\n",
    "y_pred = ensemble_net.predict(test_generator, verbose = True)\n",
    "y_pred = np.argmax(y_pred, axis=1)\n",
    "print(\"Multiclass roc auc score:\", multiclass_roc_auc_score(test_generator.classes, y_pred))"
   ],
   "metadata": {
    "collapsed": false
   }
  },
  {
   "cell_type": "markdown",
   "source": [
    "# 5. Model exportation"
   ],
   "metadata": {
    "collapsed": false
   }
  },
  {
   "cell_type": "code",
   "execution_count": null,
   "outputs": [],
   "source": [
    "ensemble_net.save(\"models/ensamble_model.h5\")"
   ],
   "metadata": {
    "collapsed": false
   }
  },
  {
   "cell_type": "markdown",
   "source": [
    "# 6. Plot model as graph of layers"
   ],
   "metadata": {
    "collapsed": false
   }
  },
  {
   "cell_type": "code",
   "execution_count": null,
   "outputs": [],
   "source": [
    "from keras.utils import plot_model"
   ],
   "metadata": {
    "collapsed": false
   }
  },
  {
   "cell_type": "code",
   "execution_count": null,
   "outputs": [],
   "source": [
    "plot_model(ensemble_net, show_shapes=True, to_file='model_ensemble.png')"
   ],
   "metadata": {
    "collapsed": false
   }
  }
 ],
 "metadata": {
  "kernelspec": {
   "name": "python3",
   "language": "python",
   "display_name": "Python 3 (ipykernel)"
  },
  "language_info": {
   "codemirror_mode": {
    "name": "ipython",
    "version": 2
   },
   "file_extension": ".py",
   "mimetype": "text/x-python",
   "name": "python",
   "nbconvert_exporter": "python",
   "pygments_lexer": "ipython2",
   "version": "2.7.6"
  }
 },
 "nbformat": 4,
 "nbformat_minor": 0
}
