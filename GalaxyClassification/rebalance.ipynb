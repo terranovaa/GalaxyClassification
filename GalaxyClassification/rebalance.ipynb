{
 "cells": [
  {
   "cell_type": "code",
   "source": [
    "import keras.utils as image\n",
    "import matplotlib.pyplot as plt\n",
    "from keras.preprocessing.image import ImageDataGenerator\n",
    "import pandas as pd\n",
    "import os\n",
    "import random\n",
    "import csv\n",
    "import shutil\n",
    "from sklearn.model_selection import train_test_split"
   ],
   "metadata": {
    "id": "-MvF6CNKsJFL"
   },
   "execution_count": 1,
   "outputs": [
    {
     "name": "stderr",
     "output_type": "stream",
     "text": [
      "2022-12-28 17:40:23.640709: I tensorflow/core/platform/cpu_feature_guard.cc:193] This TensorFlow binary is optimized with oneAPI Deep Neural Network Library (oneDNN) to use the following CPU instructions in performance-critical operations:  AVX2 FMA\n",
      "To enable them in other operations, rebuild TensorFlow with the appropriate compiler flags.\n"
     ]
    }
   ]
  },
  {
   "cell_type": "code",
   "source": [
    "paths = {\n",
    "    'MODEL_DIR': os.path.join('model'),\n",
    "    'LOG_DIR' : os.path.join('model', 'log_dir'),\n",
    "    'IMAGES_PATH': os.path.join('workspace','images','all'),\n",
    "    'ANNOTATION_PATH': os.path.join('workspace','annotations.csv'),\n",
    "    'RAW_DATA_PATH' : os.path.join('workspace', 'raw_data'),\n",
    "    'RESULTS_PATH': os.path.join('workspace','results'),\n",
    "    'TRANSFER_LEARNING_RESULTS': os.path.join('workspace','transfer_learning_results'),\n",
    "    'TRAIN_PATH' : os.path.join('workspace', 'images', 'train'),\n",
    "    'TEST_PATH' : os.path.join('workspace', 'images','test'),\n",
    "    'EVAL_PATH' : os.path.join('workspace', 'images','eval'),\n",
    " }"
   ],
   "metadata": {
    "id": "iKDvATpVueKm",
    "executionInfo": {
     "status": "ok",
     "timestamp": 1671472341290,
     "user_tz": -60,
     "elapsed": 411,
     "user": {
      "displayName": "Franco Benny",
      "userId": "13575409952053419378"
     }
    },
    "colab": {
     "base_uri": "https://localhost:8080/"
    },
    "outputId": "3d88b41b-6788-4e8f-df52-fa5c0d6df6e5"
   },
   "execution_count": 50,
   "outputs": [
    {
     "output_type": "stream",
     "name": "stdout",
     "text": [
      "/content/drive/MyDrive/ColabNotebooks/CNN/workspace/annotations.csv\n"
     ]
    }
   ]
  },
  {
   "cell_type": "code",
   "source": [
    "# create paths\n",
    "for path in paths.values():\n",
    "    if not os.path.exists(path):\n",
    "        if os.name == 'posix': # Unix-like\n",
    "            !mkdir -p {path}\n",
    "        if os.name == 'nt': # Windows\n",
    "            !mkdir {path}\n",
    "\n"
   ],
   "metadata": {
    "id": "8td2XaygupnR",
    "executionInfo": {
     "status": "ok",
     "timestamp": 1671472254870,
     "user_tz": -60,
     "elapsed": 9,
     "user": {
      "displayName": "Franco Benny",
      "userId": "13575409952053419378"
     }
    },
    "colab": {
     "base_uri": "https://localhost:8080/"
    },
    "outputId": "6bf469e2-75fd-4212-c5cd-cf234adbe439"
   },
   "execution_count": 44,
   "outputs": [
    {
     "output_type": "stream",
     "name": "stdout",
     "text": [
      "workspace/images/eval/workspace/annotations.csv\n"
     ]
    }
   ]
  },
  {
   "cell_type": "code",
   "execution_count": 51,
   "metadata": {
    "colab": {
     "base_uri": "https://localhost:8080/"
    },
    "id": "9vkMUdFQsDPp",
    "executionInfo": {
     "status": "ok",
     "timestamp": 1671472347466,
     "user_tz": -60,
     "elapsed": 721,
     "user": {
      "displayName": "Franco Benny",
      "userId": "13575409952053419378"
     }
    },
    "outputId": "3f9a543c-a0b2-4556-d6af-0d29c91c089a"
   },
   "outputs": [
    {
     "output_type": "stream",
     "name": "stdout",
     "text": [
      "{0: 3461, 1: 6997, 2: 6292, 3: 349, 4: 1534, 5: 17, 6: 589, 7: 1121, 8: 906, 9: 519}\n"
     ]
    }
   ],
   "source": [
    "annotations = pd.read_csv(paths['ANNOTATION_PATH'])\n",
    "number_per_class = annotations.groupby('Class').count()\n",
    "\n",
    "labels = number_per_class.to_dict()['Path']\n",
    "print(labels)"
   ]
  },
  {
   "cell_type": "code",
   "execution_count": 52,
   "metadata": {
    "id": "h_mNrwKCsDPs",
    "colab": {
     "base_uri": "https://localhost:8080/",
     "height": 265
    },
    "executionInfo": {
     "status": "ok",
     "timestamp": 1671472353583,
     "user_tz": -60,
     "elapsed": 318,
     "user": {
      "displayName": "Franco Benny",
      "userId": "13575409952053419378"
     }
    },
    "outputId": "5cef6010-a5f8-4af5-ef87-7b3cfff030b3"
   },
   "outputs": [
    {
     "output_type": "display_data",
     "data": {
      "text/plain": [
       "<Figure size 432x288 with 1 Axes>"
      ],
      "image/png": "[encoded data removed]"
     },
     "metadata": {
      "needs_background": "light"
     }
    }
   ],
   "source": [
    "plt.bar(list(labels.keys()), labels.values(), color='g')\n",
    "plt.show()\n"
   ]
  },
  {
   "cell_type": "code",
   "execution_count": 63,
   "metadata": {
    "id": "AQL45x2TsDPt",
    "executionInfo": {
     "status": "ok",
     "timestamp": 1671472883668,
     "user_tz": -60,
     "elapsed": 9,
     "user": {
      "displayName": "Franco Benny",
      "userId": "13575409952053419378"
     }
    }
   },
   "outputs": [],
   "source": [
    "CLASSES_TO_AUGMENT = [0,3,4,6,7,8,9]\n",
    "CLASSES_TO_REDUCE = [1,2]\n",
    "CLASS_TO_DELETE = 5\n",
    "\n",
    "datagen = ImageDataGenerator(\n",
    "      rotation_range=40,\n",
    "      width_shift_range=0.2,\n",
    "      height_shift_range=0.1,\n",
    "      shear_range=0.2,\n",
    "      zoom_range=0.2,\n",
    "      horizontal_flip=True,\n",
    "      fill_mode='nearest')"
   ]
  },
  {
   "cell_type": "code",
   "execution_count": 54,
   "metadata": {
    "id": "SKwLSoqIsDPu",
    "executionInfo": {
     "status": "ok",
     "timestamp": 1671472410409,
     "user_tz": -60,
     "elapsed": 442,
     "user": {
      "displayName": "Franco Benny",
      "userId": "13575409952053419378"
     }
    }
   },
   "outputs": [],
   "source": [
    "def get_target_images(label):\n",
    "  target = annotations[annotations['Class'] == label]\n",
    "  return target"
   ]
  },
  {
   "cell_type": "code",
   "source": [
    "def remove_images(label):\n",
    "    target = get_target_images(label) #get info about images whose class is 'label'\n",
    "    img_names = list(target['Path']) #get images name\n",
    "    for image in img_names:  # Go over each image name to be deleted\n",
    "      f = os.path.join(paths['IMAGES_PATH'],image)  # Create valid path to image\n",
    "      os.remove(f)  # Remove the image"
   ],
   "metadata": {
    "id": "S7ODxxpktFXA",
    "executionInfo": {
     "status": "ok",
     "timestamp": 1671472941585,
     "user_tz": -60,
     "elapsed": 741,
     "user": {
      "displayName": "Franco Benny",
      "userId": "13575409952053419378"
     }
    }
   },
   "execution_count": 65,
   "outputs": []
  },
  {
   "cell_type": "code",
   "source": [
    "def remove_annotation(label):\n",
    "  target = annotations[annotations['Class'] != label]\n",
    "    #update annotations\n",
    "  target.to_csv('workspace/final_annotations.csv')\n",
    "  paths['ANNOTATION_PATH'] = os.path.join('workspace/final_annotations.csv')\n",
    "  annotations = pd.read_csv(paths['ANNOTATION_PATH'])\n",
    "  "
   ],
   "metadata": {
    "id": "ztsel2j1y9ea",
    "executionInfo": {
     "status": "ok",
     "timestamp": 1671473112363,
     "user_tz": -60,
     "elapsed": 336,
     "user": {
      "displayName": "Franco Benny",
      "userId": "13575409952053419378"
     }
    }
   },
   "execution_count": 72,
   "outputs": []
  },
  {
   "cell_type": "code",
   "execution_count": 125,
   "metadata": {
    "id": "dMz-QvwosDPv",
    "executionInfo": {
     "status": "ok",
     "timestamp": 1671487282495,
     "user_tz": -60,
     "elapsed": 366,
     "user": {
      "displayName": "Franco Benny",
      "userId": "13575409952053419378"
     }
    }
   },
   "outputs": [],
   "source": [
    "def undersample(label,n):\n",
    "    img_names = os.listdir(os.path.join(paths['TRAIN_PATH'],str(label)))\n",
    "    img_names = random.sample(img_names,n)  # Pick n random images to remove\n",
    "    for image in img_names:  # Go over each image name to be deleted\n",
    "      f = os.path.join(paths['TRAIN_PATH'],str(label),image)  # Create valid path to image\n",
    "      os.remove(f)  # Remove the image"
   ]
  },
  {
   "cell_type": "code",
   "source": [
    "files_per_label = dict()\n",
    "\n",
    "N_IMG_TO_DELETE = [2017,1551]\n",
    "CLASSES_TO_REDUCE = [1,2]\n",
    "\n",
    "\n",
    "for i in range(10):\n",
    "  if i == 5:\n",
    "    continue\n",
    "  path = os.path.join(paths['TRAIN_PATH'],str(i))\n",
    "  n_images = len([f for f in os.listdir(path)if os.path.isfile(os.path.join(path, f))])\n",
    "  files_per_label[i] = n_images"
   ],
   "metadata": {
    "id": "4Pwj2pzeZXFC",
    "executionInfo": {
     "status": "ok",
     "timestamp": 1671487648041,
     "user_tz": -60,
     "elapsed": 401,
     "user": {
      "displayName": "Franco Benny",
      "userId": "13575409952053419378"
     }
    }
   },
   "execution_count": 134,
   "outputs": []
  },
  {
   "cell_type": "code",
   "source": [
    "print(files_per_label)\n",
    "plt.bar(list(files_per_label.keys()), files_per_label.values(), color='g')\n",
    "plt.show()"
   ],
   "metadata": {
    "id": "CkwORBtLaaWE"
   },
   "execution_count": null,
   "outputs": []
  },
  {
   "cell_type": "code",
   "source": [
    "def save_annotation_to_csv(img_name,label):\n",
    "      fields=[img_name,label]\n",
    "      with open(paths['ANNOTATION_PATH'], 'a') as f:\n",
    "          writer = csv.writer(f)\n",
    "          writer.writerow(fields)"
   ],
   "metadata": {
    "id": "8-9SlTYDwLtX",
    "executionInfo": {
     "status": "ok",
     "timestamp": 1671472513318,
     "user_tz": -60,
     "elapsed": 5,
     "user": {
      "displayName": "Franco Benny",
      "userId": "13575409952053419378"
     }
    }
   },
   "execution_count": 60,
   "outputs": []
  },
  {
   "cell_type": "code",
   "execution_count": 61,
   "metadata": {
    "id": "mO-TvdGCsDPv",
    "executionInfo": {
     "status": "ok",
     "timestamp": 1671472515482,
     "user_tz": -60,
     "elapsed": 5,
     "user": {
      "displayName": "Franco Benny",
      "userId": "13575409952053419378"
     }
    }
   },
   "outputs": [],
   "source": [
    "def augment_images(label,number_images):\n",
    "    number_images = int(number_images)\n",
    "    target = get_target_images(label)\n",
    "    for _,row in target.iterrows():\n",
    "      img = image.load_img('train/'+row['Path'], target_size=(256, 256)) \n",
    "      x = image.img_to_array(img)\n",
    "      x = x.reshape((1,) + x.shape)\n",
    "      i = 0\n",
    "      for batch in datagen.flow(x, batch_size=1):\n",
    "          plt.figure(i)\n",
    "          plt.imshow(image.array_to_img(batch[0]))\n",
    "          new_image = image.array_to_img(batch[0])\n",
    "          new_image.save(os.path.join('workspace', 'images', 'train',label,\"aug_\" + i +\".jpg\"))\n",
    "          save_annotation_to_csv(\"aug_\"  +i +\".jpg\",label)\n",
    "          i += 1\n",
    "          if i > number_images:\n",
    "              break"
   ]
  },
  {
   "cell_type": "code",
   "source": [
    "remove_images(CLASS_TO_DELETE)\n",
    "remove_annotation(CLASS_TO_DELETE)"
   ],
   "metadata": {
    "id": "GgXIh68Ei4rL",
    "executionInfo": {
     "status": "ok",
     "timestamp": 1671472946171,
     "user_tz": -60,
     "elapsed": 502,
     "user": {
      "displayName": "Franco Benny",
      "userId": "13575409952053419378"
     }
    }
   },
   "execution_count": 66,
   "outputs": []
  },
  {
   "cell_type": "code",
   "source": [
    "for i in range(0,10):\n",
    "    if not os.path.exists(os.path.join(paths[\"EVAL_PATH\"],str(i))):\n",
    "        if os.name == 'posix':\n",
    "            !mkdir -p {os.path.join(paths[\"EVAL_PATH\"],str(i))}\n",
    "    if not os.path.exists(os.path.join(paths[\"TRAIN_PATH\"],str(i))):\n",
    "        if os.name == 'posix':\n",
    "            !mkdir -p {os.path.join(paths[\"TRAIN_PATH\"],str(i))}\n",
    "    if not os.path.exists(os.path.join(paths[\"TEST_PATH\"],str(i))):\n",
    "        if os.name == 'posix':\n",
    "            !mkdir -p {os.path.join(paths[\"TEST_PATH\"],str(i))}\n",
    "\n",
    "X_train, X_test, y_train, y_test = train_test_split(annotations, annotations, test_size=0.1, shuffle=True,stratify=annotations['Class'])\n",
    "for index, row in X_test.iterrows():\n",
    "    shutil.copy(os.path.join(paths[\"IMAGES_PATH\"],str(row['Path'])),\n",
    "                os.path.join(paths[\"TEST_PATH\"],str(row['Class']),str(row['Path'])))\n",
    "\n",
    "# split the training set into the final training set (80%) and validation set (20%)\n",
    "X_train, X_eval, y_train, y_eval = train_test_split(X_train, y_train, test_size=0.2, shuffle=True)\n",
    "print(\"Test size: \" + str(len(X_test)))\n",
    "print(\"Eval size: \" + str(len(X_eval)))\n",
    "\n",
    "for index, row in X_train.iterrows():\n",
    "    shutil.copy(os.path.join(paths[\"IMAGES_PATH\"],str(row['Path'])),\n",
    "                os.path.join(paths[\"TRAIN_PATH\"],str(row['Class']),str(row['Path'])))\n",
    "\n",
    "for _, row in X_eval.iterrows():\n",
    "    shutil.copy(os.path.join(paths[\"IMAGES_PATH\"],str(row['Path'])),\n",
    "                os.path.join(paths[\"EVAL_PATH\"],str(row['Class']),str(row['Path'])))"
   ],
   "metadata": {
    "id": "OqETpr5LuPBt",
    "colab": {
     "base_uri": "https://localhost:8080/"
    },
    "executionInfo": {
     "status": "ok",
     "timestamp": 1671474232767,
     "user_tz": -60,
     "elapsed": 805431,
     "user": {
      "displayName": "Franco Benny",
      "userId": "13575409952053419378"
     }
    },
    "outputId": "59e0d3a3-4967-4a5c-ee94-3d8d93097bc3"
   },
   "execution_count": 76,
   "outputs": [
    {
     "output_type": "stream",
     "name": "stdout",
     "text": [
      "Test size: 2177\n",
      "Eval size: 3919\n"
     ]
    }
   ]
  },
  {
   "cell_type": "code",
   "source": [
    "\n",
    "files_per_label = dict()\n",
    "\n",
    "for i in range(10):\n",
    "  if i == 5:\n",
    "    continue\n",
    "  path = os.path.join(paths['TRAIN_PATH'],str(i))\n",
    "  n_images = len([f for f in os.listdir(path)if os.path.isfile(os.path.join(path, f))])\n",
    "  files_per_label[i] = n_images\n",
    "\n",
    "plt.bar(list(files_per_label.keys()), files_per_label.values(), color='g')\n",
    "plt.show()"
   ],
   "metadata": {
    "colab": {
     "base_uri": "https://localhost:8080/",
     "height": 265
    },
    "id": "N1awemP5pRl6",
    "executionInfo": {
     "status": "ok",
     "timestamp": 1671487766566,
     "user_tz": -60,
     "elapsed": 336,
     "user": {
      "displayName": "Franco Benny",
      "userId": "13575409952053419378"
     }
    },
    "outputId": "ff6aa123-2792-4c7d-85a3-9fc5952a5ce4"
   },
   "execution_count": 140,
   "outputs": [
    {
     "output_type": "display_data",
     "data": {
      "text/plain": [
       "<Figure size 432x288 with 1 Axes>"
      ],
      "image/png": "[encoded data removed]"
     },
     "metadata": {
      "needs_background": "light"
     }
    }
   ]
  },
  {
   "cell_type": "code",
   "source": [
    "print(files_per_label)"
   ],
   "metadata": {
    "colab": {
     "base_uri": "https://localhost:8080/"
    },
    "id": "KVQ2RVpkrvg7",
    "executionInfo": {
     "status": "ok",
     "timestamp": 1671487704772,
     "user_tz": -60,
     "elapsed": 416,
     "user": {
      "displayName": "Franco Benny",
      "userId": "13575409952053419378"
     }
    },
    "outputId": "aa56b1ca-cbd2-46b5-942e-bd062cb4805f"
   },
   "execution_count": 138,
   "outputs": [
    {
     "output_type": "stream",
     "name": "stdout",
     "text": [
      "{0: 2488, 1: 983, 2: 1449, 3: 257, 4: 1122, 6: 415, 7: 797, 8: 645, 9: 380}\n"
     ]
    }
   ]
  },
  {
   "cell_type": "code",
   "execution_count": 2,
   "outputs": [
    {
     "ename": "IndentationError",
     "evalue": "expected an indented block (3846724067.py, line 1)",
     "output_type": "error",
     "traceback": [
      "\u001B[0;36m  Cell \u001B[0;32mIn[2], line 1\u001B[0;36m\u001B[0m\n\u001B[0;31m    for key, value in files_per_label:\u001B[0m\n\u001B[0m                                      ^\u001B[0m\n\u001B[0;31mIndentationError\u001B[0m\u001B[0;31m:\u001B[0m expected an indented block\n"
     ]
    }
   ],
   "source": [
    "# sort\n",
    "# prendi massimo\n",
    "# prendi minimo\n",
    "# se minimo < massimo / 2\n",
    "# rebalance\n",
    "\n",
    "# rebalance\n",
    "# nuovo_massimo -> 3/4 * massimo\n",
    "for key, value in files_per_label.items():\n",
    "    # tutte le altre ->\n",
    "    # se |dim - nuovomassimo| > threshold -> riduci o aumenta in funzione del segno di dim - nuovomax\n",
    "    # threshold = nuovomassimo / 5\n",
    "    # se dim - nuovomax > 0 riduzione di dim - nuovomax + rand(0,50)\n",
    "    # se dim < nuovomax / 5 aumenta di 2*dim\n",
    "    # se dim - nuovomax < 0 aumenta di nuovomax - dim + rand(0,50)"
   ],
   "metadata": {
    "collapsed": false
   }
  },
  {
   "cell_type": "code",
   "source": [
    "for i in range(10):\n",
    "  if i != 1:\n",
    "    continue\n",
    "\n",
    "  train_label_path = os.path.join(paths['TRAIN_PATH'],str(i))  \n",
    "  if not os.path.exists(os.path.join(train_label_path)):\n",
    "    if os.name == 'posix':\n",
    "      !mkdir -p {os.path.join(drive_path,train_label_path)}\n",
    "\n",
    "  for f in os.listdir(train_label_path):\n",
    "    shutil.copy(os.path.join(train_label_path,f),\n",
    "                os.path.join(train_label_path,f))   \n"
   ],
   "metadata": {
    "id": "5hhaaop9ukom",
    "executionInfo": {
     "status": "ok",
     "timestamp": 1671487758706,
     "user_tz": -60,
     "elapsed": 2673,
     "user": {
      "displayName": "Franco Benny",
      "userId": "13575409952053419378"
     }
    }
   },
   "execution_count": 139,
   "outputs": []
  }
 ],
 "metadata": {
  "language_info": {
   "name": "python"
  },
  "orig_nbformat": 4,
  "colab": {
   "provenance": []
  },
  "kernelspec": {
   "name": "python3",
   "display_name": "Python 3"
  },
  "gpuClass": "standard"
 },
 "nbformat": 4,
 "nbformat_minor": 0
}
