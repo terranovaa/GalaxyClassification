{
 "cells": [
  {
   "cell_type": "markdown",
   "source": [
    "# TO BE ADAPTED"
   ],
   "metadata": {
    "collapsed": false,
    "pycharm": {
     "name": "#%% md\n"
    }
   }
  },
  {
   "cell_type": "code",
   "execution_count": null,
   "outputs": [],
   "source": [
    "import pandas as pd\n",
    "import os\n",
    "from scipy import stats"
   ],
   "metadata": {
    "collapsed": false,
    "pycharm": {
     "name": "#%%\n"
    }
   }
  },
  {
   "cell_type": "code",
   "execution_count": null,
   "outputs": [],
   "source": [
    "df = pd.read_csv(os.path.join(\"workspace\", \"model_results\", \"data.csv\"))"
   ],
   "metadata": {
    "collapsed": false,
    "pycharm": {
     "name": "#%%\n"
    }
   }
  },
  {
   "cell_type": "markdown",
   "source": [
    "# 1. Paired t-test or other"
   ],
   "metadata": {
    "collapsed": false,
    "pycharm": {
     "name": "#%% md\n"
    }
   }
  },
  {
   "cell_type": "code",
   "execution_count": null,
   "outputs": [],
   "source": [
    "max_iterations = 5\n",
    "models = df.model.unique()\n",
    "results_df = pd.DataFrame()\n",
    "ACC = []\n",
    "for model in models:\n",
    "    ACCinner = []\n",
    "    for iteration in range(0,max_iterations):\n",
    "        new_df = df.loc[(df['iteration'] == iteration) & (df['step'] == 10000) & (df['model'] == model)]\n",
    "        if not new_df.empty:\n",
    "            ACCinner.append(new_df.loc[(new_df['metric'] == 'accuracy') & (new_df['type'] == 'test')].iloc[0]['value'])\n",
    "    ACC.append(ACCinner)"
   ],
   "metadata": {
    "collapsed": false,
    "pycharm": {
     "name": "#%%\n"
    }
   }
  },
  {
   "cell_type": "code",
   "execution_count": null,
   "outputs": [],
   "source": [
    "confidence_level = 0.05\n",
    "number_of_algorithms = 4\n",
    "\n",
    "print(\"Indexes of the algorithms that do not reject the null hypothesis with confidence level \"+str(confidence_level)+\":\")\n",
    "\n",
    "for i in range(0,number_of_algorithms):\n",
    "    for j in range(0,number_of_algorithms):\n",
    "        if i != j:\n",
    "            if(stats.ttest_ind(ACC[i], ACC[j]).pvalue >= confidence_level):\n",
    "                print(\"mAP\",i,j)"
   ],
   "metadata": {
    "collapsed": false,
    "pycharm": {
     "name": "#%%\n"
    }
   }
  }
 ],
 "metadata": {
  "kernelspec": {
   "display_name": "Python 3",
   "language": "python",
   "name": "python3"
  },
  "language_info": {
   "codemirror_mode": {
    "name": "ipython",
    "version": 2
   },
   "file_extension": ".py",
   "mimetype": "text/x-python",
   "name": "python",
   "nbconvert_exporter": "python",
   "pygments_lexer": "ipython2",
   "version": "2.7.6"
  }
 },
 "nbformat": 4,
 "nbformat_minor": 0
}