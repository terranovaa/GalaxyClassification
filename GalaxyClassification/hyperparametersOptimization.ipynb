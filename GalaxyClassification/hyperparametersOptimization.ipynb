{
 "cells": [
  {
   "cell_type": "markdown",
   "source": [
    "# 1. Setup"
   ],
   "metadata": {
    "collapsed": false
   }
  },
  {
   "cell_type": "code",
   "execution_count": null,
   "metadata": {
    "colab": {
     "base_uri": "https://localhost:8080/"
    },
    "id": "8Xeen_NvvwYN",
    "outputId": "6462db22-f71d-4487-b8ae-6abd4bb205ab",
    "executionInfo": {
     "status": "ok",
     "timestamp": 1672902754037,
     "user_tz": -60,
     "elapsed": 5305,
     "user": {
      "displayName": "Franco Benny",
      "userId": "13575409952053419378"
     }
    }
   },
   "outputs": [],
   "source": [
    "! pip install keras_tuner"
   ]
  },
  {
   "cell_type": "code",
   "execution_count": null,
   "metadata": {
    "id": "yyg-7tc7vkzf",
    "executionInfo": {
     "status": "ok",
     "timestamp": 1672902768345,
     "user_tz": -60,
     "elapsed": 7500,
     "user": {
      "displayName": "Franco Benny",
      "userId": "13575409952053419378"
     }
    }
   },
   "outputs": [],
   "source": [
    "from tensorflow import keras\n",
    "from keras import layers\n",
    "from keras_tuner import  HyperModel\n",
    "import tensorflow as tf\n",
    "import os"
   ]
  },
  {
   "cell_type": "code",
   "execution_count": null,
   "metadata": {
    "id": "IOU0L_qGvkzj",
    "executionInfo": {
     "status": "ok",
     "timestamp": 1672902772109,
     "user_tz": -60,
     "elapsed": 247,
     "user": {
      "displayName": "Franco Benny",
      "userId": "13575409952053419378"
     }
    }
   },
   "outputs": [],
   "source": [
    "input_height = 69\n",
    "input_width = 69\n",
    "batch_size = 64\n",
    "\n",
    "loss_function='categorical_crossentropy'\n",
    "learning_rate= 1e-5\n",
    "epochs = 100"
   ]
  },
  {
   "cell_type": "code",
   "execution_count": null,
   "metadata": {
    "id": "HHHQfPOqsCtg",
    "executionInfo": {
     "status": "ok",
     "timestamp": 1672902773730,
     "user_tz": -60,
     "elapsed": 251,
     "user": {
      "displayName": "Franco Benny",
      "userId": "13575409952053419378"
     }
    }
   },
   "outputs": [],
   "source": [
    "from keras import backend as K\n",
    "\n",
    "def precision(y_true, y_pred):\n",
    "    \"\"\"Precision metric.\n",
    "    Only computes a batch-wise average of precision.\n",
    "    Computes the precision, a metric for multi-label classification of\n",
    "    how many selected items are relevant.\n",
    "    \"\"\"\n",
    "    true_positives = K.sum(K.round(K.clip(y_true * y_pred, 0, 1)))\n",
    "    predicted_positives = K.sum(K.round(K.clip(y_pred, 0, 1)))\n",
    "    precision = true_positives / (predicted_positives + K.epsilon())\n",
    "    return precision\n",
    "\n",
    "\n",
    "def recall(y_true, y_pred):\n",
    "    \"\"\"Recall metric.\n",
    "    Only computes a batch-wise average of recall.\n",
    "    Computes the recall, a metric for multi-label classification of\n",
    "    how many relevant items are selected.\n",
    "    \"\"\"\n",
    "    true_positives = K.sum(K.round(K.clip(y_true * y_pred, 0, 1)))\n",
    "    possible_positives = K.sum(K.round(K.clip(y_true, 0, 1)))\n",
    "    recall = true_positives / (possible_positives + K.epsilon())\n",
    "    return recall\n",
    "\n",
    "metrics = [\n",
    "    precision,\n",
    "    recall,\n",
    "    tf.keras.metrics.CategoricalAccuracy(name='accuracy')\n",
    "]"
   ]
  },
  {
   "cell_type": "code",
   "execution_count": null,
   "metadata": {
    "id": "HdJE5py9wKXv",
    "executionInfo": {
     "status": "ok",
     "timestamp": 1672902777587,
     "user_tz": -60,
     "elapsed": 245,
     "user": {
      "displayName": "Franco Benny",
      "userId": "13575409952053419378"
     }
    }
   },
   "outputs": [],
   "source": [
    "paths = {\n",
    "    'TRAIN_PATH' : os.path.join('workspace', 'images', 'train'),\n",
    "    'TEST_PATH' : os.path.join('workspace', 'images','test'),\n",
    "    'EVAL_PATH' : os.path.join('workspace', 'images','eval'),\n",
    "    'LOG_DIR' : os.path.join('workspace', 'log_dir')\n",
    " }"
   ]
  },
  {
   "cell_type": "code",
   "execution_count": null,
   "metadata": {
    "colab": {
     "base_uri": "https://localhost:8080/"
    },
    "id": "s8SdbMxQvkzo",
    "outputId": "c3efc5c5-c079-4d2c-af1b-0414ea7c17fb",
    "executionInfo": {
     "status": "ok",
     "timestamp": 1672902862418,
     "user_tz": -60,
     "elapsed": 82162,
     "user": {
      "displayName": "Franco Benny",
      "userId": "13575409952053419378"
     }
    }
   },
   "outputs": [],
   "source": [
    "from keras.preprocessing.image import ImageDataGenerator\n",
    "\n",
    "train_datagen = ImageDataGenerator(rescale=1./255)\n",
    "train_dir=paths['TRAIN_PATH']\n",
    "train_generator = train_datagen.flow_from_directory(train_dir, target_size=(input_width, input_height), batch_size=batch_size, class_mode='categorical')\n",
    "\n",
    "test_datagen = ImageDataGenerator(rescale=1./255)\n",
    "test_dir=paths['TEST_PATH']\n",
    "test_generator = test_datagen.flow_from_directory(test_dir, target_size=(input_width, input_height), batch_size=batch_size, class_mode='categorical')\n",
    "\n",
    "val_datagen = ImageDataGenerator(rescale=1./255) # it should not be augmented\n",
    "validation_dir=paths['EVAL_PATH']\n",
    "validation_generator = val_datagen.flow_from_directory(validation_dir, target_size=(input_width, input_height), batch_size=batch_size, class_mode='categorical')"
   ]
  },
  {
   "cell_type": "code",
   "execution_count": null,
   "metadata": {
    "colab": {
     "base_uri": "https://localhost:8080/"
    },
    "id": "GUT17W-Ivkzq",
    "outputId": "143c6de1-ba24-490e-ddc5-9bf84732b128",
    "executionInfo": {
     "status": "ok",
     "timestamp": 1672902911490,
     "user_tz": -60,
     "elapsed": 3968,
     "user": {
      "displayName": "Franco Benny",
      "userId": "13575409952053419378"
     }
    }
   },
   "outputs": [],
   "source": [
    "imgs_per_label = dict()\n",
    "for i in range(9):\n",
    "  path = os.path.join(paths['TRAIN_PATH'],str(i))\n",
    "  n_images = len([f for f in os.listdir(path)if os.path.isfile(os.path.join(path, f))])\n",
    "  imgs_per_label[i] = n_images"
   ]
  },
  {
   "cell_type": "code",
   "execution_count": null,
   "metadata": {
    "colab": {
     "base_uri": "https://localhost:8080/"
    },
    "id": "cVyH5XPivkzs",
    "outputId": "47ee3721-cb47-4626-f06a-772b1d8c7465",
    "executionInfo": {
     "status": "ok",
     "timestamp": 1672902914921,
     "user_tz": -60,
     "elapsed": 218,
     "user": {
      "displayName": "Franco Benny",
      "userId": "13575409952053419378"
     }
    }
   },
   "outputs": [],
   "source": [
    "# class weights computation\n",
    "num_classes = 9\n",
    "tot_images = sum(list(imgs_per_label.values()))\n",
    "weights = dict([ (class_label , tot_images/(num_classes * n_images)) for class_label, n_images in imgs_per_label.items()])\n",
    "print(weights)"
   ]
  },
  {
   "cell_type": "markdown",
   "source": [
    "# 2. Hyperparameters optimization"
   ],
   "metadata": {
    "collapsed": false
   }
  },
  {
   "cell_type": "code",
   "execution_count": null,
   "metadata": {
    "id": "6pPUTet-vkzs",
    "executionInfo": {
     "status": "ok",
     "timestamp": 1672902926461,
     "user_tz": -60,
     "elapsed": 2,
     "user": {
      "displayName": "Franco Benny",
      "userId": "13575409952053419378"
     }
    }
   },
   "outputs": [],
   "source": [
    "import keras\n",
    "import os\n",
    "\n",
    "callbacks_list = [\n",
    "        # interrupts training when accuracy has stopped improving accuracy on the validation set for at least 3+1=4 epochs\n",
    "        keras.callbacks.EarlyStopping(\n",
    "            monitor='val_loss', # should be part of the metrics specific during compilation\n",
    "            patience=2,\n",
    "        )\n",
    "    ]"
   ]
  },
  {
   "cell_type": "code",
   "execution_count": null,
   "metadata": {
    "id": "iVgvePSovkzt",
    "executionInfo": {
     "status": "ok",
     "timestamp": 1672902930461,
     "user_tz": -60,
     "elapsed": 230,
     "user": {
      "displayName": "Franco Benny",
      "userId": "13575409952053419378"
     }
    }
   },
   "outputs": [],
   "source": [
    "import keras_tuner\n",
    "\n",
    "# tune a model given an hypermodel, find the best hyperparameters, and return the tuned model\n",
    "def tune_model(hypermodel):\n",
    "    tuner = keras_tuner.BayesianOptimization(\n",
    "        hypermodel,\n",
    "        objective='val_loss',\n",
    "        directory='galaxy_dir_bayes',\n",
    "        project_name='galaxy_classification_project_bayes'\n",
    "    )\n",
    "\n",
    "    # search for the best hyperparameters\n",
    "    tuner.search(train_generator, epochs=40, callbacks=callbacks_list, validation_data=validation_generator)\n",
    "    # get the optimal hyperparameters\n",
    "    best_hps = tuner.get_best_hyperparameters(num_trials=1)[0]\n",
    "    print(best_hps)\n",
    "    tuner.results_summary()\n",
    "    # tune the model with optimal parameters\n",
    "    tuned_model = tuner.hypermodel.build(best_hps)\n",
    "    return tuned_model"
   ]
  },
  {
   "cell_type": "code",
   "execution_count": null,
   "metadata": {
    "id": "K_707tApvkzu",
    "executionInfo": {
     "status": "ok",
     "timestamp": 1672902934039,
     "user_tz": -60,
     "elapsed": 238,
     "user": {
      "displayName": "Franco Benny",
      "userId": "13575409952053419378"
     }
    }
   },
   "outputs": [],
   "source": [
    "class customNetwork(HyperModel):\n",
    "\n",
    "    # override build\n",
    "    def build(self,hp):\n",
    "        model = keras.Sequential([\n",
    "        layers.Input(shape=(69,69,3)),\n",
    "        keras.layers.Conv2D(\n",
    "            # filter and kernel size tuning\n",
    "            filters=hp.Int('conv_1_filter', min_value=32, max_value=128, step=16),\n",
    "            kernel_size=hp.Choice('conv_1_kernel', values = [3,5]),\n",
    "            activation='relu',\n",
    "        ),\n",
    "        layers.MaxPooling2D((2, 2),padding='same'),\n",
    "        layers.BatchNormalization(),\n",
    "        keras.layers.Conv2D(\n",
    "            # filter and kernel size tuning\n",
    "            filters=hp.Int('conv_2_filter', min_value=32, max_value=64, step=16),\n",
    "            kernel_size=hp.Choice('conv_2_kernel', values = [3,5]),\n",
    "            activation='relu'\n",
    "        ),\n",
    "        layers.MaxPooling2D((2, 2),padding='same'),\n",
    "        layers.BatchNormalization(),\n",
    "        keras.layers.Flatten(),\n",
    "        # dense layer tuning\n",
    "        keras.layers.Dense(\n",
    "            units=hp.Int('dense_1_units', min_value=32, max_value=128, step=16),\n",
    "            activation='relu'\n",
    "        ),\n",
    "        # dropout tuning\n",
    "        layers.Dropout(rate=hp.Float(f\"dropout_rate\", min_value=0.3, max_value=0.7, step=0.2)),\n",
    "        keras.layers.Dense(9, activation='softmax')\n",
    "        ])\n",
    "        model.compile(optimizer=keras.optimizers.RMSprop(learning_rate=learning_rate),\n",
    "                  loss='categorical_crossentropy',\n",
    "                  metrics=metrics)\n",
    "        return model\n",
    "\n",
    "    # override fit\n",
    "    def fit(self, hp, model, *args, **kwargs):\n",
    "        return model.fit(\n",
    "            *args,\n",
    "            batch_size=64,\n",
    "            **kwargs)"
   ]
  },
  {
   "cell_type": "markdown",
   "source": [
    "# 3. Save the optimal model"
   ],
   "metadata": {
    "collapsed": false
   }
  },
  {
   "cell_type": "code",
   "execution_count": null,
   "metadata": {
    "colab": {
     "base_uri": "https://localhost:8080/"
    },
    "id": "sQelWQtSvkzv",
    "outputId": "4972b395-867a-425c-c030-d82c8ebcd5d6"
   },
   "outputs": [],
   "source": [
    "model_cnn = tune_model(customNetwork())\n",
    "model_cnn.save(os.path.join(\"model\",\"tunedbayes_model.h\"))"
   ]
  }
 ],
 "metadata": {
  "colab": {
   "provenance": []
  },
  "kernelspec": {
   "display_name": "Python 3.9.7 64-bit",
   "language": "python",
   "name": "python3"
  },
  "language_info": {
   "name": "python",
   "version": "3.9.7"
  },
  "vscode": {
   "interpreter": {
    "hash": "aee8b7b246df8f9039afb4144a1f6fd8d2ca17a180786b69acc140d282b71a49"
   }
  }
 },
 "nbformat": 4,
 "nbformat_minor": 0
}
